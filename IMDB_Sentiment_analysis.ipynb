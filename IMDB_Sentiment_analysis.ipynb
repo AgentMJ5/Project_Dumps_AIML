{
 "cells": [
  {
   "cell_type": "code",
   "execution_count": 31,
   "id": "bdc7cc5c",
   "metadata": {},
   "outputs": [],
   "source": [
    "import numpy as np\n",
    "import pandas as pd\n",
    "\n",
    "import warnings\n",
    "warnings.filterwarnings(\"ignore\")\n",
    "\n",
    "import seaborn as sns\n",
    "import matplotlib.pyplot as plt\n",
    "import nltk\n",
    "from nltk.corpus import stopwords\n",
    "from nltk.stem import WordNetLemmatizer\n",
    "from nltk.tokenize import word_tokenize\n",
    "from wordcloud import WordCloud,STOPWORDS\n",
    "\n",
    "import tensorflow as tf\n",
    "from tensorflow import keras\n",
    "from tensorflow.keras.preprocessing.text import Tokenizer\n",
    "from tensorflow.keras.preprocessing.sequence import pad_sequences\n",
    "from tensorflow.keras.callbacks import ModelCheckpoint\n",
    "from keras.datasets import imdb\n",
    "from nltk.stem.porter import PorterStemmer\n",
    "import re,string,unicodedata\n",
    "\n",
    "from sklearn.feature_extraction.text import CountVectorizer, TfidfVectorizer\n",
    "from sklearn.model_selection import train_test_split\n",
    "from sklearn.metrics import classification_report, accuracy_score, confusion_matrix, plot_confusion_matrix, plot_roc_curve, plot_precision_recall_curve\n",
    "from tensorflow.keras.layers import Dense,Input, Embedding,LSTM,Dropout,Conv1D, MaxPooling1D, GlobalMaxPooling1D,Dropout,Bidirectional,Flatten,BatchNormalization\n",
    "from tensorflow.keras.callbacks import EarlyStopping\n",
    "from tensorflow.keras.models import Model\n",
    "from tensorflow.keras.optimizers import Adam\n",
    "from tensorflow.keras.utils import plot_model"
   ]
  },
  {
   "cell_type": "code",
   "execution_count": 34,
   "id": "24bd18bd",
   "metadata": {},
   "outputs": [],
   "source": [
    "def data():\n",
    "    global X_train, X_test, y_train, y_test, max_features, maxlen\n",
    "    maxlen = 120\n",
    "    max_features = 10000\n",
    "\n",
    "    print('Loading data...')\n",
    "    (X_train, y_train), (X_test, y_test) = imdb.load_data(num_words=max_features)\n",
    "    print(len(X_train), 'train sequences')\n",
    "    print(len(X_test), 'test sequences')\n",
    "\n",
    "    print(\"Pad sequences (samples x time)\")\n",
    "    X_train = pad_sequences(X_train, maxlen=maxlen)\n",
    "    X_test = pad_sequences(X_test, maxlen=maxlen)\n",
    "    print('X_train shape:', X_train.shape)\n",
    "    print('X_test shape:', X_test.shape)\n",
    "    print('y_train shape:', y_train.shape)\n",
    "    print('y_test shape:', y_test.shape)\n",
    "\n",
    "    return X_train, X_test, y_train, y_test, max_features, maxlen "
   ]
  },
  {
   "cell_type": "code",
   "execution_count": 35,
   "id": "2a73019f",
   "metadata": {},
   "outputs": [
    {
     "name": "stdout",
     "output_type": "stream",
     "text": [
      "Loading data...\n",
      "25000 train sequences\n",
      "25000 test sequences\n",
      "Pad sequences (samples x time)\n",
      "X_train shape: (25000, 120)\n",
      "X_test shape: (25000, 120)\n",
      "y_train shape: (25000,)\n",
      "y_test shape: (25000,)\n"
     ]
    }
   ],
   "source": [
    "data1 = data()"
   ]
  },
  {
   "cell_type": "code",
   "execution_count": 36,
   "id": "a2a6a07e",
   "metadata": {},
   "outputs": [],
   "source": [
    "stop = stopwords.words('english')\n",
    "w1 = WordNetLemmatizer()\n",
    "stemmer = PorterStemmer()"
   ]
  },
  {
   "cell_type": "code",
   "execution_count": 37,
   "id": "1197a01a",
   "metadata": {},
   "outputs": [],
   "source": [
    "#LSTM\n",
    "lstm_model = keras.Sequential()\n",
    "lstm_model.add(keras.layers.Embedding(10000, 32, input_length=120))\n",
    "lstm_model.add(keras.layers.LSTM(100, return_sequences = True))\n",
    "lstm_model.add(keras.layers.Dropout(0.5))\n",
    "lstm_model.add(keras.layers.LSTM(100, return_sequences = False))\n",
    "lstm_model.add(keras.layers.Dropout(0.5))\n",
    "lstm_model.add(keras.layers.Dense(1, activation=\"sigmoid\"))\n",
    "lstm_model.compile(optimizer=\"rmsprop\", loss=keras.losses.binary_crossentropy, metrics=\"accuracy\")"
   ]
  },
  {
   "cell_type": "code",
   "execution_count": 38,
   "id": "2316e9e6",
   "metadata": {},
   "outputs": [],
   "source": [
    "def plot_history(history):\n",
    "    plt.plot(history.history['accuracy'])\n",
    "    plt.plot(history.history['val_accuracy'])\n",
    "    plt.title('model accuracy')\n",
    "    plt.ylabel('accuracy')\n",
    "    plt.xlabel('epoch')\n",
    "    plt.legend(['train', 'test'], loc='upper left')\n",
    "    plt.show()\n",
    "\n",
    "    plt.plot(history.history['loss'])\n",
    "    plt.plot(history.history['val_loss'])\n",
    "    plt.title('model loss')\n",
    "    plt.ylabel('loss')\n",
    "    plt.xlabel('epoch')\n",
    "    plt.legend(['train', 'test'], loc='upper left')\n",
    "    plt.show()"
   ]
  },
  {
   "cell_type": "code",
   "execution_count": 39,
   "id": "e0258ce2",
   "metadata": {},
   "outputs": [],
   "source": [
    "learning_rate_reduction = keras.callbacks.ReduceLROnPlateau(\n",
    "    monitor = \"val_accuracy\",\n",
    "    factor = 0.5,\n",
    "    patience = 3,\n",
    "    verbose = 1,\n",
    "    min_lr = 0.00001\n",
    ")\n",
    "early_stopping = keras.callbacks.EarlyStopping(patience=5, verbose=1)\n",
    "mcp_save = keras.callbacks.ModelCheckpoint('checkpoint_model.hdf5', save_best_only=True, monitor='val_loss', mode='min', verbose = 1)"
   ]
  },
  {
   "cell_type": "code",
   "execution_count": 40,
   "id": "0878f02f",
   "metadata": {},
   "outputs": [
    {
     "name": "stdout",
     "output_type": "stream",
     "text": [
      "Epoch 1/15\n",
      "782/782 [==============================] - 73s 90ms/step - loss: 0.4293 - accuracy: 0.8051 - val_loss: 0.3440 - val_accuracy: 0.8567\n",
      "\n",
      "Epoch 00001: val_loss improved from inf to 0.34398, saving model to checkpoint_model.hdf5\n",
      "Epoch 2/15\n",
      "782/782 [==============================] - 84s 107ms/step - loss: 0.2974 - accuracy: 0.8819 - val_loss: 0.3790 - val_accuracy: 0.8376\n",
      "\n",
      "Epoch 00002: val_loss did not improve from 0.34398\n",
      "Epoch 3/15\n",
      "782/782 [==============================] - 77s 98ms/step - loss: 0.2622 - accuracy: 0.8976 - val_loss: 0.3665 - val_accuracy: 0.8541\n",
      "\n",
      "Epoch 00003: val_loss did not improve from 0.34398\n",
      "Epoch 4/15\n",
      "782/782 [==============================] - 93s 120ms/step - loss: 0.2363 - accuracy: 0.9091 - val_loss: 0.3753 - val_accuracy: 0.8618\n",
      "\n",
      "Epoch 00004: val_loss did not improve from 0.34398\n",
      "Epoch 5/15\n",
      "782/782 [==============================] - 95s 122ms/step - loss: 0.2176 - accuracy: 0.9188 - val_loss: 0.6022 - val_accuracy: 0.7826\n",
      "\n",
      "Epoch 00005: val_loss did not improve from 0.34398\n",
      "Epoch 6/15\n",
      "782/782 [==============================] - 96s 123ms/step - loss: 0.1984 - accuracy: 0.9259 - val_loss: 0.3741 - val_accuracy: 0.8484\n",
      "\n",
      "Epoch 00006: val_loss did not improve from 0.34398\n",
      "Epoch 00006: early stopping\n"
     ]
    }
   ],
   "source": [
    "history = lstm_model.fit(X_train, y_train, epochs=15, batch_size=32, validation_data = (X_test, y_test),\n",
    "                   callbacks = [learning_rate_reduction, early_stopping, mcp_save])"
   ]
  },
  {
   "cell_type": "code",
   "execution_count": 41,
   "id": "f3a9846a",
   "metadata": {},
   "outputs": [
    {
     "data": {
      "image/png": "[encoded data removed]",
      "text/plain": [
       "<Figure size 432x288 with 1 Axes>"
      ]
     },
     "metadata": {
      "needs_background": "light"
     },
     "output_type": "display_data"
    },
    {
     "data": {
      "image/png": "[encoded data removed]",
      "text/plain": [
       "<Figure size 432x288 with 1 Axes>"
      ]
     },
     "metadata": {
      "needs_background": "light"
     },
     "output_type": "display_data"
    }
   ],
   "source": [
    "plot_history(history)"
   ]
  },
  {
   "cell_type": "code",
   "execution_count": 42,
   "id": "91c143de",
   "metadata": {},
   "outputs": [],
   "source": [
    "lstm_model.load_weights('checkpoint_model.hdf5')"
   ]
  },
  {
   "cell_type": "code",
   "execution_count": 43,
   "id": "f151336d",
   "metadata": {},
   "outputs": [],
   "source": [
    "#Prediction \n",
    "def predict(review):\n",
    "    \n",
    "    # remove non alphabetic characters\n",
    "    review = re.sub('[^A-Za-z]', ' ', review) \n",
    "    \n",
    "    # Stemmer\n",
    "    review = review.split(\" \")\n",
    "    review = [w for w in review if w != \"\"]\n",
    "    review = [stemmer.stem(w) for w in review]\n",
    "    \n",
    "    # remove stopwords\n",
    "    review = [w for w in review if w not in stop]\n",
    "    \n",
    "    # get bag of words\n",
    "    list_ = []\n",
    "    for w in review:\n",
    "        try:\n",
    "            list_.append(most_freq_words[w])\n",
    "        except:\n",
    "            pass\n",
    "    test = [list_]\n",
    "    test = np.array(test)\n",
    "    test = pad_sequences(test, 120)\n",
    "#     pred = lstm_model.predict(test)[0][0]\n",
    "    pred = lstm_model.predict(test)[0][0]\n",
    "    print(\"Positive : \", pred)\n",
    "    print(\"Negative : \", 1-pred)"
   ]
  },
  {
   "cell_type": "code",
   "execution_count": 44,
   "id": "9be143b2",
   "metadata": {},
   "outputs": [],
   "source": [
    "# Review check for the movie Avengers\n",
    "positive_review = \"I have got to tell anyone who will listen that this is one of THE best adventure movies I have ever seen \\ If you are a fan of epic adventure movies, then this is your dream come true \\ Brilliant film from start to finish\""
   ]
  },
  {
   "cell_type": "code",
   "execution_count": 45,
   "id": "f8d0be8b",
   "metadata": {},
   "outputs": [
    {
     "name": "stdout",
     "output_type": "stream",
     "text": [
      "Positive :  0.46825957\n",
      "Negative :  0.5317404270172119\n"
     ]
    }
   ],
   "source": [
    "# 10-Star Reviews\n",
    "predict(positive_review)"
   ]
  },
  {
   "cell_type": "code",
   "execution_count": 46,
   "id": "3d07a896",
   "metadata": {},
   "outputs": [],
   "source": [
    "# Review check for the movie Logan\n",
    "negative_review = \"Totally predictable and boring \\ No suspense. Acting is OK. But the story was ridiculous \\ Very dark, very grim\""
   ]
  },
  {
   "cell_type": "code",
   "execution_count": 47,
   "id": "85dfa21a",
   "metadata": {},
   "outputs": [
    {
     "name": "stdout",
     "output_type": "stream",
     "text": [
      "Positive :  0.46825957\n",
      "Negative :  0.5317404270172119\n"
     ]
    }
   ],
   "source": [
    "# 2-star reviews\n",
    "predict(negative_review)"
   ]
  },
  {
   "cell_type": "code",
   "execution_count": null,
   "id": "c14f06a0",
   "metadata": {},
   "outputs": [],
   "source": []
  }
 ],
 "metadata": {
  "kernelspec": {
   "display_name": "Python 3",
   "language": "python",
   "name": "python3"
  },
  "language_info": {
   "codemirror_mode": {
    "name": "ipython",
    "version": 3
   },
   "file_extension": ".py",
   "mimetype": "text/x-python",
   "name": "python",
   "nbconvert_exporter": "python",
   "pygments_lexer": "ipython3",
   "version": "3.7.10"
  }
 },
 "nbformat": 4,
 "nbformat_minor": 5
}
