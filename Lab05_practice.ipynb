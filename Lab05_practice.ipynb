{
 "cells": [
  {
   "cell_type": "markdown",
   "metadata": {},
   "source": [
    "# Lab 06 &mdash; $\\chi^2$-test and non-parametric methods &mdash; practice\n"
   ]
  },
  {
   "cell_type": "markdown",
   "metadata": {},
   "source": [
    "**Please enter in the cell below your first name, last name, and student ID**"
   ]
  },
  {
   "cell_type": "markdown",
   "metadata": {},
   "source": []
  },
  {
   "cell_type": "code",
   "execution_count": null,
   "metadata": {},
   "outputs": [],
   "source": [
    "# imports\n",
    "import numpy as np\n",
    "import pandas as pd\n",
    "from scipy import stats\n",
    "import statsmodels.api as sm\n",
    "import matplotlib.pyplot as plt\n",
    "%matplotlib inline"
   ]
  },
  {
   "cell_type": "markdown",
   "metadata": {},
   "source": [
    "1. Consider the A/B testing data for the cookie cat game. Establish with a two-sided U test at level $0.05$ if there is a significant difference in the number of played game rounds (column `sum_gamerounds`) between the two versions of the game. To do so, draw a sample of 200 observations for each version of the game"
   ]
  },
  {
   "cell_type": "code",
   "execution_count": null,
   "metadata": {},
   "outputs": [],
   "source": [
    "# code for exercise 1\n",
    "# fix random seed so that results are reproducible (do not change)\n",
    "np.random.seed(42)\n"
   ]
  },
  {
   "cell_type": "markdown",
   "metadata": {},
   "source": [
    "2. Using the *CDC's Behavioral Risk Factor Surveillance System (BRFSS) survey* dataset, establish whether there is a significant association between gender and smoking, using a $\\chi^2$ test at level $0.05$ and a sample of 500 participants. Print to screen also the value of the test statistic and the p-value"
   ]
  },
  {
   "cell_type": "code",
   "execution_count": null,
   "metadata": {},
   "outputs": [],
   "source": [
    "# code for exercise 2\n",
    "# fix random seed so that results are reproducible (do not change)\n",
    "np.random.seed(42)\n"
   ]
  },
  {
   "cell_type": "markdown",
   "metadata": {},
   "source": [
    "3. By adapting the code of the `sign_test` function (see lab notebook), define a function that performs hypothesis testing about any percentile (not just the median). Evaluate your function on a random sample of 100 observations from the `sum_gamerounds` variable of the cookie cat game. Compute the p-value for a two-sided test that the true 37% percentile is equal to 37.\n",
    "    * the function should take in input three arguments: `sample`, `null_value`, and `q`, where `q` is the desired percentile (between 0 and 100)\n",
    "    * so, the null hypothesis is that the true `q`-th percentile is `null_value`\n",
    "    * _tip_: you'll just need to modify the distribution under the null"
   ]
  },
  {
   "cell_type": "code",
   "execution_count": null,
   "metadata": {},
   "outputs": [],
   "source": [
    "# code for exercise 3\n",
    "# fix random seed so that results are reproducible (do not change)\n",
    "np.random.seed(42)\n"
   ]
  },
  {
   "cell_type": "markdown",
   "metadata": {},
   "source": [
    "4. Perform the same test of question 3. using bootstrap sampling. I.e., draw a random sample of 50 observations from the `sum_gamerounds` variable. By resampling this sample, generate a bootstrap distribution for the 37-th percentile. Use $B=2000$ bootstrap samples. Finally, apply the shifting method to derive the null distribution and compute the p-value.\n",
    "    * _tip_: percentiles can be computed using the `np.percentile` function, see lab notebook and https://numpy.org/doc/stable/reference/generated/numpy.percentile.html"
   ]
  },
  {
   "cell_type": "code",
   "execution_count": null,
   "metadata": {},
   "outputs": [],
   "source": [
    "# code for exercise 4\n",
    "# fix random seed so that results are reproducible (do not change)\n",
    "np.random.seed(42)"
   ]
  },
  {
   "cell_type": "code",
   "execution_count": null,
   "metadata": {},
   "outputs": [],
   "source": []
  }
 ],
 "metadata": {
  "kernelspec": {
   "display_name": "Python 3",
   "language": "python",
   "name": "python3"
  },
  "language_info": {
   "codemirror_mode": {
    "name": "ipython",
    "version": 3
   },
   "file_extension": ".py",
   "mimetype": "text/x-python",
   "name": "python",
   "nbconvert_exporter": "python",
   "pygments_lexer": "ipython3",
   "version": "3.8.5"
  }
 },
 "nbformat": 4,
 "nbformat_minor": 4
}
