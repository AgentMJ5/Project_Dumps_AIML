{
 "cells": [
  {
   "cell_type": "code",
   "execution_count": 1,
   "id": "crude-decline",
   "metadata": {},
   "outputs": [],
   "source": [
    "import numpy as np\n",
    "import pandas as pd\n",
    "import seaborn as sns\n",
    "import os\n",
    "import matplotlib.pyplot as plt\n",
    "%matplotlib inline\n",
    "from matplotlib import pyplot\n",
    "import tensorflow \n",
    "import warnings\n",
    "warnings.filterwarnings('ignore')\n",
    "pd.options.display.float_format = '{:.7f}'.format"
   ]
  },
  {
   "cell_type": "code",
   "execution_count": 2,
   "id": "proud-sacramento",
   "metadata": {},
   "outputs": [
    {
     "data": {
      "text/plain": [
       "<KeysViewHDF5 ['X_test', 'X_train', 'X_val', 'y_test', 'y_train', 'y_val']>"
      ]
     },
     "execution_count": 2,
     "metadata": {},
     "output_type": "execute_result"
    }
   ],
   "source": [
    "import h5py\n",
    "svhn = h5py.File('Part - 4 - Autonomous_Vehicles_SVHN_single_grey1.h5')\n",
    "svhn.keys()"
   ]
  },
  {
   "cell_type": "code",
   "execution_count": 3,
   "id": "motivated-washer",
   "metadata": {},
   "outputs": [],
   "source": [
    "# Data Pre-processing \n",
    "#Load Train and Test set\n",
    "X_train = svhn['X_train'][:]\n",
    "y_train = svhn['y_train'][:]\n",
    "X_test = svhn['X_test'][:]\n",
    "y_test = svhn['y_test'][:]"
   ]
  },
  {
   "cell_type": "code",
   "execution_count": 4,
   "id": "comfortable-accent",
   "metadata": {},
   "outputs": [
    {
     "data": {
      "text/plain": [
       "(42000, 32, 32)"
      ]
     },
     "execution_count": 4,
     "metadata": {},
     "output_type": "execute_result"
    }
   ],
   "source": [
    "X_train.shape"
   ]
  },
  {
   "cell_type": "code",
   "execution_count": 5,
   "id": "portuguese-benchmark",
   "metadata": {},
   "outputs": [
    {
     "data": {
      "image/png": "[encoded data removed]",
      "text/plain": [
       "<Figure size 432x288 with 1 Axes>"
      ]
     },
     "metadata": {
      "needs_background": "light"
     },
     "output_type": "display_data"
    }
   ],
   "source": [
    "plt.imshow(X_train[1], cmap='gray')\n",
    "plt.show()"
   ]
  },
  {
   "cell_type": "code",
   "execution_count": 6,
   "id": "usual-walker",
   "metadata": {},
   "outputs": [
    {
     "name": "stdout",
     "output_type": "stream",
     "text": [
      "(42000, 32, 32) (42000,)\n",
      "(18000, 1024, 1) (18000,)\n"
     ]
    }
   ],
   "source": [
    "# Normalizing the dataset, dividing by 255.Since gray scale images range from 0 to 255\n",
    "\n",
    "_train = X_train.reshape(X_train.shape[0], 1024, 1)\n",
    "X_test = X_test.reshape(X_test.shape[0], 1024, 1)\n",
    "\n",
    "X_train = X_train / 255.0\n",
    "X_test = X_test / 255.0\n",
    "\n",
    "print(X_train.shape, y_train.shape)\n",
    "print(X_test.shape, y_test.shape)"
   ]
  },
  {
   "cell_type": "code",
   "execution_count": 7,
   "id": "crucial-identifier",
   "metadata": {},
   "outputs": [
    {
     "name": "stdout",
     "output_type": "stream",
     "text": [
      "10\n"
     ]
    }
   ],
   "source": [
    "# Hot encoding\n",
    "from tensorflow.keras.utils import to_categorical\n",
    "y_train = to_categorical(y_train)\n",
    "y_test = to_categorical(y_test)\n",
    "\n",
    "nums = y_test.shape[1] \n",
    "print(nums)"
   ]
  },
  {
   "cell_type": "markdown",
   "id": "sharp-german",
   "metadata": {},
   "source": [
    "Neural Network Image Classifier"
   ]
  },
  {
   "cell_type": "code",
   "execution_count": 8,
   "id": "clinical-stream",
   "metadata": {},
   "outputs": [],
   "source": [
    "from tensorflow.keras import optimizers\n",
    "from tensorflow.keras.models import Sequential\n",
    "from tensorflow.keras.layers import Dense, Flatten\n",
    "\n",
    "def nn_model():\n",
    "    model = Sequential()  \n",
    "    model.add(Flatten())\n",
    "    model.add(Dense(256, activation='relu')) \n",
    "    model.add(Dense(64, activation='relu'))\n",
    "    model.add(Dense(64, activation='relu'))\n",
    "    model.add(Dense(32, activation='relu'))\n",
    "    model.add(Dense(nums, activation='softmax'))\n",
    "    return model\n",
    "\n",
    "model = nn_model()"
   ]
  },
  {
   "cell_type": "code",
   "execution_count": 9,
   "id": "naked-transport",
   "metadata": {},
   "outputs": [],
   "source": [
    "opt = optimizers.Nadam(lr=1e-3)\n",
    "model.compile(loss='categorical_crossentropy', optimizer=opt, metrics=['accuracy']) "
   ]
  },
  {
   "cell_type": "code",
   "execution_count": 10,
   "id": "written-detroit",
   "metadata": {},
   "outputs": [
    {
     "name": "stdout",
     "output_type": "stream",
     "text": [
      "Epoch 1/100\n",
      "140/140 - 1s - loss: 2.3034 - accuracy: 0.1079 - val_loss: 2.2797 - val_accuracy: 0.1482\n",
      "Epoch 2/100\n",
      "140/140 - 1s - loss: 2.2609 - accuracy: 0.1428 - val_loss: 2.1168 - val_accuracy: 0.2278\n",
      "Epoch 3/100\n",
      "140/140 - 1s - loss: 2.0392 - accuracy: 0.2643 - val_loss: 2.0242 - val_accuracy: 0.2351\n",
      "Epoch 4/100\n",
      "140/140 - 1s - loss: 1.6776 - accuracy: 0.4161 - val_loss: 1.5672 - val_accuracy: 0.4516\n",
      "Epoch 5/100\n",
      "140/140 - 1s - loss: 1.4854 - accuracy: 0.4953 - val_loss: 1.4094 - val_accuracy: 0.5236\n",
      "Epoch 6/100\n",
      "140/140 - 1s - loss: 1.3498 - accuracy: 0.5532 - val_loss: 1.2198 - val_accuracy: 0.6194\n",
      "Epoch 7/100\n",
      "140/140 - 1s - loss: 1.2750 - accuracy: 0.5819 - val_loss: 1.1800 - val_accuracy: 0.6271\n",
      "Epoch 8/100\n",
      "140/140 - 1s - loss: 1.2030 - accuracy: 0.6120 - val_loss: 1.1472 - val_accuracy: 0.6292\n",
      "Epoch 9/100\n",
      "140/140 - 2s - loss: 1.1326 - accuracy: 0.6392 - val_loss: 1.1229 - val_accuracy: 0.6395\n",
      "Epoch 10/100\n",
      "140/140 - 1s - loss: 1.0903 - accuracy: 0.6535 - val_loss: 1.0401 - val_accuracy: 0.6747\n",
      "Epoch 11/100\n",
      "140/140 - 1s - loss: 1.0400 - accuracy: 0.6715 - val_loss: 1.0088 - val_accuracy: 0.6872\n",
      "Epoch 12/100\n",
      "140/140 - 1s - loss: 1.0122 - accuracy: 0.6839 - val_loss: 1.0054 - val_accuracy: 0.6821\n",
      "Epoch 13/100\n",
      "140/140 - 2s - loss: 0.9732 - accuracy: 0.6965 - val_loss: 0.9671 - val_accuracy: 0.7039\n",
      "Epoch 14/100\n",
      "140/140 - 1s - loss: 0.9353 - accuracy: 0.7115 - val_loss: 0.9697 - val_accuracy: 0.6971\n",
      "Epoch 15/100\n",
      "140/140 - 1s - loss: 0.9129 - accuracy: 0.7182 - val_loss: 0.9335 - val_accuracy: 0.7154\n",
      "Epoch 16/100\n",
      "140/140 - 1s - loss: 0.8842 - accuracy: 0.7260 - val_loss: 0.9413 - val_accuracy: 0.7111\n",
      "Epoch 17/100\n",
      "140/140 - 1s - loss: 0.8695 - accuracy: 0.7285 - val_loss: 0.8939 - val_accuracy: 0.7245\n",
      "Epoch 18/100\n",
      "140/140 - 1s - loss: 0.8393 - accuracy: 0.7402 - val_loss: 0.8713 - val_accuracy: 0.7334\n",
      "Epoch 19/100\n",
      "140/140 - 1s - loss: 0.8250 - accuracy: 0.7448 - val_loss: 0.8384 - val_accuracy: 0.7460\n",
      "Epoch 20/100\n",
      "140/140 - 1s - loss: 0.7995 - accuracy: 0.7515 - val_loss: 0.8170 - val_accuracy: 0.7566\n",
      "Epoch 21/100\n",
      "140/140 - 1s - loss: 0.7836 - accuracy: 0.7578 - val_loss: 0.8310 - val_accuracy: 0.7466\n",
      "Epoch 22/100\n",
      "140/140 - 1s - loss: 0.7687 - accuracy: 0.7630 - val_loss: 0.8111 - val_accuracy: 0.7572\n",
      "Epoch 23/100\n",
      "140/140 - 1s - loss: 0.7565 - accuracy: 0.7646 - val_loss: 0.8224 - val_accuracy: 0.7494\n",
      "Epoch 24/100\n",
      "140/140 - 1s - loss: 0.7482 - accuracy: 0.7676 - val_loss: 0.8070 - val_accuracy: 0.7564\n",
      "Epoch 25/100\n",
      "140/140 - 1s - loss: 0.7327 - accuracy: 0.7741 - val_loss: 0.8003 - val_accuracy: 0.7576\n",
      "Epoch 26/100\n",
      "140/140 - 1s - loss: 0.7180 - accuracy: 0.7758 - val_loss: 0.7801 - val_accuracy: 0.7651\n",
      "Epoch 27/100\n",
      "140/140 - 1s - loss: 0.7060 - accuracy: 0.7812 - val_loss: 0.7745 - val_accuracy: 0.7692\n",
      "Epoch 28/100\n",
      "140/140 - 1s - loss: 0.6957 - accuracy: 0.7832 - val_loss: 0.7823 - val_accuracy: 0.7645\n",
      "Epoch 29/100\n",
      "140/140 - 1s - loss: 0.6851 - accuracy: 0.7879 - val_loss: 0.7782 - val_accuracy: 0.7632\n",
      "Epoch 30/100\n",
      "140/140 - 1s - loss: 0.6801 - accuracy: 0.7877 - val_loss: 0.7733 - val_accuracy: 0.7679\n",
      "Epoch 31/100\n",
      "140/140 - 1s - loss: 0.6699 - accuracy: 0.7907 - val_loss: 0.7514 - val_accuracy: 0.7752\n",
      "Epoch 32/100\n",
      "140/140 - 1s - loss: 0.6581 - accuracy: 0.7952 - val_loss: 0.7514 - val_accuracy: 0.7739\n",
      "Epoch 33/100\n",
      "140/140 - 1s - loss: 0.6480 - accuracy: 0.8002 - val_loss: 0.7444 - val_accuracy: 0.7764\n",
      "Epoch 34/100\n",
      "140/140 - 1s - loss: 0.6435 - accuracy: 0.7988 - val_loss: 0.7488 - val_accuracy: 0.7796\n",
      "Epoch 35/100\n",
      "140/140 - 1s - loss: 0.6337 - accuracy: 0.8033 - val_loss: 0.7889 - val_accuracy: 0.7634\n",
      "Epoch 36/100\n",
      "140/140 - 1s - loss: 0.6269 - accuracy: 0.8044 - val_loss: 0.7327 - val_accuracy: 0.7807\n",
      "Epoch 37/100\n",
      "140/140 - 1s - loss: 0.6178 - accuracy: 0.8082 - val_loss: 0.7257 - val_accuracy: 0.7848\n",
      "Epoch 38/100\n",
      "140/140 - 1s - loss: 0.6086 - accuracy: 0.8092 - val_loss: 0.7198 - val_accuracy: 0.7856\n",
      "Epoch 39/100\n",
      "140/140 - 1s - loss: 0.5998 - accuracy: 0.8135 - val_loss: 0.7206 - val_accuracy: 0.7853\n",
      "Epoch 40/100\n",
      "140/140 - 1s - loss: 0.5990 - accuracy: 0.8126 - val_loss: 0.7731 - val_accuracy: 0.7630\n",
      "Epoch 41/100\n",
      "140/140 - 1s - loss: 0.5873 - accuracy: 0.8174 - val_loss: 0.6962 - val_accuracy: 0.7921\n",
      "Epoch 42/100\n",
      "140/140 - 1s - loss: 0.5813 - accuracy: 0.8185 - val_loss: 0.7018 - val_accuracy: 0.7904\n",
      "Epoch 43/100\n",
      "140/140 - 1s - loss: 0.5750 - accuracy: 0.8215 - val_loss: 0.7327 - val_accuracy: 0.7808\n",
      "Epoch 44/100\n",
      "140/140 - 1s - loss: 0.5664 - accuracy: 0.8230 - val_loss: 0.7273 - val_accuracy: 0.7846\n",
      "Epoch 45/100\n",
      "140/140 - 1s - loss: 0.5619 - accuracy: 0.8228 - val_loss: 0.7204 - val_accuracy: 0.7862\n",
      "Epoch 46/100\n",
      "140/140 - 1s - loss: 0.5579 - accuracy: 0.8255 - val_loss: 0.7016 - val_accuracy: 0.7896\n",
      "Epoch 47/100\n",
      "140/140 - 1s - loss: 0.5532 - accuracy: 0.8277 - val_loss: 0.6994 - val_accuracy: 0.7940\n",
      "Epoch 48/100\n",
      "140/140 - 1s - loss: 0.5461 - accuracy: 0.8299 - val_loss: 0.6852 - val_accuracy: 0.7986\n",
      "Epoch 49/100\n",
      "140/140 - 1s - loss: 0.5422 - accuracy: 0.8305 - val_loss: 0.6780 - val_accuracy: 0.7999\n",
      "Epoch 50/100\n",
      "140/140 - 1s - loss: 0.5347 - accuracy: 0.8338 - val_loss: 0.7039 - val_accuracy: 0.7941\n",
      "Epoch 51/100\n",
      "140/140 - 1s - loss: 0.5299 - accuracy: 0.8339 - val_loss: 0.6750 - val_accuracy: 0.8012\n",
      "Epoch 52/100\n",
      "140/140 - 1s - loss: 0.5298 - accuracy: 0.8358 - val_loss: 0.6705 - val_accuracy: 0.8040\n",
      "Epoch 53/100\n",
      "140/140 - 1s - loss: 0.5216 - accuracy: 0.8380 - val_loss: 0.6781 - val_accuracy: 0.8008\n",
      "Epoch 54/100\n",
      "140/140 - 1s - loss: 0.5138 - accuracy: 0.8393 - val_loss: 0.6824 - val_accuracy: 0.8039\n",
      "Epoch 55/100\n",
      "140/140 - 1s - loss: 0.5133 - accuracy: 0.8390 - val_loss: 0.6708 - val_accuracy: 0.8079\n",
      "Epoch 56/100\n",
      "140/140 - 1s - loss: 0.5085 - accuracy: 0.8396 - val_loss: 0.6730 - val_accuracy: 0.8042\n",
      "Epoch 57/100\n",
      "140/140 - 1s - loss: 0.5020 - accuracy: 0.8438 - val_loss: 0.6806 - val_accuracy: 0.8043\n",
      "Epoch 58/100\n",
      "140/140 - 1s - loss: 0.4970 - accuracy: 0.8438 - val_loss: 0.6649 - val_accuracy: 0.8073\n",
      "Epoch 59/100\n",
      "140/140 - 1s - loss: 0.4944 - accuracy: 0.8450 - val_loss: 0.6670 - val_accuracy: 0.8059\n",
      "Epoch 60/100\n",
      "140/140 - 1s - loss: 0.4910 - accuracy: 0.8465 - val_loss: 0.6781 - val_accuracy: 0.8043\n",
      "Epoch 61/100\n",
      "140/140 - 1s - loss: 0.4847 - accuracy: 0.8495 - val_loss: 0.6627 - val_accuracy: 0.8119\n",
      "Epoch 62/100\n",
      "140/140 - 1s - loss: 0.4801 - accuracy: 0.8501 - val_loss: 0.6740 - val_accuracy: 0.8059\n",
      "Epoch 63/100\n",
      "140/140 - 1s - loss: 0.4780 - accuracy: 0.8510 - val_loss: 0.6777 - val_accuracy: 0.8048\n",
      "Epoch 64/100\n",
      "140/140 - 1s - loss: 0.4749 - accuracy: 0.8502 - val_loss: 0.6643 - val_accuracy: 0.8099\n",
      "Epoch 65/100\n",
      "140/140 - 1s - loss: 0.4737 - accuracy: 0.8520 - val_loss: 0.6657 - val_accuracy: 0.8090\n",
      "Epoch 66/100\n",
      "140/140 - 1s - loss: 0.4689 - accuracy: 0.8535 - val_loss: 0.6512 - val_accuracy: 0.8148\n",
      "Epoch 67/100\n",
      "140/140 - 2s - loss: 0.4630 - accuracy: 0.8545 - val_loss: 0.6735 - val_accuracy: 0.8068\n",
      "Epoch 68/100\n",
      "140/140 - 2s - loss: 0.4598 - accuracy: 0.8560 - val_loss: 0.6671 - val_accuracy: 0.8079\n",
      "Epoch 69/100\n",
      "140/140 - 2s - loss: 0.4595 - accuracy: 0.8562 - val_loss: 0.6714 - val_accuracy: 0.8067\n",
      "Epoch 70/100\n",
      "140/140 - 2s - loss: 0.4565 - accuracy: 0.8560 - val_loss: 0.6901 - val_accuracy: 0.7994\n",
      "Epoch 71/100\n",
      "140/140 - 2s - loss: 0.4512 - accuracy: 0.8594 - val_loss: 0.6643 - val_accuracy: 0.8119\n",
      "Epoch 72/100\n",
      "140/140 - 2s - loss: 0.4512 - accuracy: 0.8576 - val_loss: 0.6682 - val_accuracy: 0.8115\n",
      "Epoch 73/100\n",
      "140/140 - 1s - loss: 0.4459 - accuracy: 0.8600 - val_loss: 0.6562 - val_accuracy: 0.8154\n",
      "Epoch 74/100\n",
      "140/140 - 1s - loss: 0.4424 - accuracy: 0.8609 - val_loss: 0.6567 - val_accuracy: 0.8146\n",
      "Epoch 75/100\n",
      "140/140 - 1s - loss: 0.4377 - accuracy: 0.8623 - val_loss: 0.6542 - val_accuracy: 0.8167\n",
      "Epoch 76/100\n",
      "140/140 - 1s - loss: 0.4376 - accuracy: 0.8637 - val_loss: 0.6682 - val_accuracy: 0.8144\n",
      "Epoch 77/100\n",
      "140/140 - 1s - loss: 0.4320 - accuracy: 0.8642 - val_loss: 0.6572 - val_accuracy: 0.8184\n",
      "Epoch 78/100\n",
      "140/140 - 1s - loss: 0.4318 - accuracy: 0.8632 - val_loss: 0.6529 - val_accuracy: 0.8154\n",
      "Epoch 79/100\n",
      "140/140 - 1s - loss: 0.4255 - accuracy: 0.8681 - val_loss: 0.6565 - val_accuracy: 0.8162\n",
      "Epoch 80/100\n",
      "140/140 - 1s - loss: 0.4243 - accuracy: 0.8667 - val_loss: 0.6665 - val_accuracy: 0.8141\n",
      "Epoch 81/100\n",
      "140/140 - 1s - loss: 0.4230 - accuracy: 0.8679 - val_loss: 0.6493 - val_accuracy: 0.8208\n",
      "Epoch 82/100\n",
      "140/140 - 1s - loss: 0.4197 - accuracy: 0.8687 - val_loss: 0.6744 - val_accuracy: 0.8168\n",
      "Epoch 83/100\n",
      "140/140 - 1s - loss: 0.4152 - accuracy: 0.8692 - val_loss: 0.6568 - val_accuracy: 0.8173\n",
      "Epoch 84/100\n",
      "140/140 - 1s - loss: 0.4140 - accuracy: 0.8693 - val_loss: 0.6595 - val_accuracy: 0.8168\n",
      "Epoch 85/100\n",
      "140/140 - 1s - loss: 0.4100 - accuracy: 0.8713 - val_loss: 0.6604 - val_accuracy: 0.8197\n",
      "Epoch 86/100\n",
      "140/140 - 1s - loss: 0.4136 - accuracy: 0.8688 - val_loss: 0.6500 - val_accuracy: 0.8213\n",
      "Epoch 87/100\n",
      "140/140 - 1s - loss: 0.4072 - accuracy: 0.8719 - val_loss: 0.6837 - val_accuracy: 0.8128\n",
      "Epoch 88/100\n",
      "140/140 - 1s - loss: 0.4041 - accuracy: 0.8738 - val_loss: 0.6694 - val_accuracy: 0.8148\n",
      "Epoch 89/100\n",
      "140/140 - 1s - loss: 0.4045 - accuracy: 0.8721 - val_loss: 0.6735 - val_accuracy: 0.8141\n",
      "Epoch 90/100\n",
      "140/140 - 1s - loss: 0.3987 - accuracy: 0.8742 - val_loss: 0.6674 - val_accuracy: 0.8174\n",
      "Epoch 91/100\n",
      "140/140 - 1s - loss: 0.3968 - accuracy: 0.8729 - val_loss: 0.6646 - val_accuracy: 0.8169\n",
      "Epoch 92/100\n",
      "140/140 - 1s - loss: 0.3935 - accuracy: 0.8760 - val_loss: 0.6611 - val_accuracy: 0.8207\n",
      "Epoch 93/100\n",
      "140/140 - 1s - loss: 0.3929 - accuracy: 0.8742 - val_loss: 0.6649 - val_accuracy: 0.8191\n",
      "Epoch 94/100\n",
      "140/140 - 1s - loss: 0.3909 - accuracy: 0.8749 - val_loss: 0.6729 - val_accuracy: 0.8144\n",
      "Epoch 95/100\n",
      "140/140 - 1s - loss: 0.3888 - accuracy: 0.8764 - val_loss: 0.6726 - val_accuracy: 0.8181\n",
      "Epoch 96/100\n",
      "140/140 - 1s - loss: 0.3892 - accuracy: 0.8769 - val_loss: 0.6700 - val_accuracy: 0.8169\n",
      "Epoch 97/100\n",
      "140/140 - 1s - loss: 0.3843 - accuracy: 0.8789 - val_loss: 0.6741 - val_accuracy: 0.8206\n",
      "Epoch 98/100\n",
      "140/140 - 1s - loss: 0.3822 - accuracy: 0.8790 - val_loss: 0.6948 - val_accuracy: 0.8143\n",
      "Epoch 99/100\n",
      "140/140 - 1s - loss: 0.3821 - accuracy: 0.8794 - val_loss: 0.6541 - val_accuracy: 0.8214\n",
      "Epoch 100/100\n",
      "140/140 - 1s - loss: 0.3778 - accuracy: 0.8809 - val_loss: 0.6663 - val_accuracy: 0.8171\n"
     ]
    }
   ],
   "source": [
    "# Fitting\n",
    "\n",
    "history = model.fit(X_train, y_train, validation_data=(X_test, y_test), epochs=100, batch_size=300, verbose=2)"
   ]
  },
  {
   "cell_type": "code",
   "execution_count": 11,
   "id": "freelance-caution",
   "metadata": {},
   "outputs": [
    {
     "name": "stdout",
     "output_type": "stream",
     "text": [
      "Loss= 0.6662746667861938\n",
      "Accuracy= 0.8171111345291138\n"
     ]
    }
   ],
   "source": [
    "# Scores\n",
    "\n",
    "scores = model.evaluate(X_test, y_test, verbose=0)\n",
    "print(\"Loss=\", scores[0])\n",
    "print(\"Accuracy=\", scores[1])"
   ]
  },
  {
   "cell_type": "markdown",
   "id": "julian-vertex",
   "metadata": {},
   "source": [
    "Out of 8 operators that i have checked,\n",
    " there are 4 operators with more than 80 % Accuracy.\n",
    " \n",
    "(Adamax: Loss= 0.683, Accuracy= 0.808)\n",
    "\n",
    "(Adam: Loss= 0.682, Accuracy= 0.810)\n",
    "\n",
    "(RMSprop: Loss= 0.673, Accuracy= 0.802)\n",
    "\n",
    "(Nadam: Loss= 0.666, Accuracy= 0.817)"
   ]
  },
  {
   "cell_type": "code",
   "execution_count": 12,
   "id": "blank-event",
   "metadata": {},
   "outputs": [
    {
     "data": {
      "text/plain": [
       "Text(0.5, 1.0, 'Training and validation loss')"
      ]
     },
     "execution_count": 12,
     "metadata": {},
     "output_type": "execute_result"
    },
    {
     "data": {
      "image/png": "[encoded data removed]",
      "text/plain": [
       "<Figure size 432x288 with 1 Axes>"
      ]
     },
     "metadata": {
      "needs_background": "light"
     },
     "output_type": "display_data"
    },
    {
     "data": {
      "image/png": "[encoded data removed]",
      "text/plain": [
       "<Figure size 432x288 with 1 Axes>"
      ]
     },
     "metadata": {
      "needs_background": "light"
     },
     "output_type": "display_data"
    }
   ],
   "source": [
    "accuracy      = history.history['accuracy']\n",
    "val_accuracy  = history.history['val_accuracy']\n",
    "loss     = history.history['loss']\n",
    "val_loss = history.history['val_loss']\n",
    "\n",
    "epochs   = range(len(accuracy))\n",
    "\n",
    "plt.plot  ( epochs, accuracy, label = 'training accuracy' )\n",
    "plt.plot  ( epochs, val_accuracy, label = 'validation accuracy' )\n",
    "plt.title ('Training and validation accuracy')\n",
    "plt.legend(loc = 'lower right')\n",
    "plt.figure()\n",
    "\n",
    "plt.plot  ( epochs, loss, label = 'training loss' )\n",
    "plt.plot  ( epochs, val_loss, label = 'validation loss' )\n",
    "plt.legend(loc = 'upper right')\n",
    "plt.title ('Training and validation loss'   )"
   ]
  },
  {
   "cell_type": "markdown",
   "id": "abroad-pontiac",
   "metadata": {},
   "source": [
    "* At a certain point, we could say that our model is being   overfit, as we can see that the vaildation loss is         increasing."
   ]
  }
 ],
 "metadata": {
  "kernelspec": {
   "display_name": "Python 3",
   "language": "python",
   "name": "python3"
  },
  "language_info": {
   "codemirror_mode": {
    "name": "ipython",
    "version": 3
   },
   "file_extension": ".py",
   "mimetype": "text/x-python",
   "name": "python",
   "nbconvert_exporter": "python",
   "pygments_lexer": "ipython3",
   "version": "3.7.10"
  }
 },
 "nbformat": 4,
 "nbformat_minor": 5
}
