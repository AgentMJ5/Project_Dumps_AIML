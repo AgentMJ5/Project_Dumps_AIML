{
 "cells": [
  {
   "cell_type": "code",
   "execution_count": 1,
   "id": "verbal-amplifier",
   "metadata": {},
   "outputs": [],
   "source": [
    "import numpy as np\n",
    "import pandas as pd\n",
    "import seaborn as sns\n",
    "import matplotlib.pyplot as plt"
   ]
  },
  {
   "cell_type": "code",
   "execution_count": 2,
   "id": "useful-iceland",
   "metadata": {},
   "outputs": [],
   "source": [
    "f1 = pd.read_csv('phone_user_review_file_1.csv')\n",
    "f2 = pd.read_csv('phone_user_review_file_2.csv')\n",
    "f3 = pd.read_csv('phone_user_review_file_3.csv')\n",
    "f4 = pd.read_csv('phone_user_review_file_4.csv')\n",
    "f5 = pd.read_csv('phone_user_review_file_5.csv')\n",
    "f6 = pd.read_csv('phone_user_review_file_6.csv')"
   ]
  },
  {
   "cell_type": "code",
   "execution_count": 2,
   "id": "trained-bruce",
   "metadata": {},
   "outputs": [
    {
     "ename": "NameError",
     "evalue": "name 'f1' is not defined",
     "output_type": "error",
     "traceback": [
      "\u001b[1;31m---------------------------------------------------------------------------\u001b[0m",
      "\u001b[1;31mNameError\u001b[0m                                 Traceback (most recent call last)",
      "\u001b[1;32m<ipython-input-2-d37e07a52e22>\u001b[0m in \u001b[0;36m<module>\u001b[1;34m\u001b[0m\n\u001b[0;32m      8\u001b[0m     \u001b[1;32mreturn\u001b[0m\u001b[1;33m(\u001b[0m\u001b[0ma\u001b[0m\u001b[1;33m)\u001b[0m\u001b[1;33m\u001b[0m\u001b[1;33m\u001b[0m\u001b[0m\n\u001b[0;32m      9\u001b[0m \u001b[1;33m\u001b[0m\u001b[0m\n\u001b[1;32m---> 10\u001b[1;33m \u001b[0mdf_main\u001b[0m \u001b[1;33m=\u001b[0m \u001b[0mdf_append\u001b[0m\u001b[1;33m(\u001b[0m\u001b[0mf1\u001b[0m\u001b[1;33m,\u001b[0m\u001b[0mf2\u001b[0m\u001b[1;33m,\u001b[0m\u001b[0mf3\u001b[0m\u001b[1;33m,\u001b[0m\u001b[0mf4\u001b[0m\u001b[1;33m,\u001b[0m\u001b[0mf5\u001b[0m\u001b[1;33m,\u001b[0m\u001b[0mf6\u001b[0m\u001b[1;33m)\u001b[0m\u001b[1;33m\u001b[0m\u001b[1;33m\u001b[0m\u001b[0m\n\u001b[0m",
      "\u001b[1;31mNameError\u001b[0m: name 'f1' is not defined"
     ]
    }
   ],
   "source": [
    "# Compiling data into a single dataframe.\n",
    "def df_append(a,b,c,d,e,f):\n",
    "    a = a.append(b, ignore_index = True)\n",
    "    a = a.append(c, ignore_index = True)\n",
    "    a = a.append(d, ignore_index = True)\n",
    "    a = a.append(e, ignore_index = True)\n",
    "    a = a.append(f, ignore_index = True)\n",
    "    return(a)\n",
    "\n",
    "df_main = df_append(f1,f2,f3,f4,f5,f6)"
   ]
  },
  {
   "cell_type": "code",
   "execution_count": 4,
   "id": "front-argentina",
   "metadata": {},
   "outputs": [
    {
     "data": {
      "text/plain": [
       "(1415133, 11)"
      ]
     },
     "execution_count": 4,
     "metadata": {},
     "output_type": "execute_result"
    }
   ],
   "source": [
    "df_main.shape"
   ]
  },
  {
   "cell_type": "code",
   "execution_count": 5,
   "id": "ancient-installation",
   "metadata": {},
   "outputs": [
    {
     "data": {
      "text/plain": [
       "array([10. ,  6. ,  9.2,  4. ,  8. ,  2. ,  9.6,  7.2,  6.8,  9. ,  8.3,\n",
       "        8.8,  8.4,  5.3,  7. ,  6.4,  7.6,  nan,  5.2,  3.2,  4.4,  2.8,\n",
       "        5.6,  3.6,  4.8,  1. ,  5. ,  3. ,  2.4,  9.3,  8.5,  9.5,  6.5,\n",
       "        5.5,  9.8,  8.2,  8.6,  7.8,  9.4,  6.6,  6.2,  7.5,  9.9,  2.7,\n",
       "        8.7,  6.7,  3.3,  7.7,  7.3,  9.7,  6.3,  7.4,  5.7,  4.7,  4.3,\n",
       "        5.8,  4.2,  4.5,  2.2,  5.4,  7.9,  3.5,  4.6,  3.7,  2.5,  3.4,\n",
       "        7.1,  8.1,  1.2,  1.4,  3.8,  9.1,  2.6,  1.6,  1.7,  1.5,  1.8,\n",
       "        2.3,  6.1,  5.9,  1.3,  0.2,  0.4,  8.9,  6.9,  0.6,  4.9])"
      ]
     },
     "execution_count": 5,
     "metadata": {},
     "output_type": "execute_result"
    }
   ],
   "source": [
    "df_main.score.unique()"
   ]
  },
  {
   "cell_type": "markdown",
   "id": "copyrighted-hollywood",
   "metadata": {},
   "source": [
    " NaN values are present in the rating section\n",
    " \n",
    " Ratings - Decimal Format.\n",
    " \n",
    " Max rating is 10"
   ]
  },
  {
   "cell_type": "code",
   "execution_count": 6,
   "id": "satisfactory-problem",
   "metadata": {},
   "outputs": [
    {
     "data": {
      "text/plain": [
       "array([10.,  6.,  9.,  4.,  8.,  2.,  7.,  5., nan,  3.,  1.,  0.])"
      ]
     },
     "execution_count": 6,
     "metadata": {},
     "output_type": "execute_result"
    }
   ],
   "source": [
    "# Rounding off Ratings.\n",
    "\n",
    "df_main.score = round(df_main.score)\n",
    "\n",
    "df_main.score.unique()"
   ]
  },
  {
   "cell_type": "markdown",
   "id": "adapted-context",
   "metadata": {},
   "source": [
    " As we can see lots of attributes are not important.\n",
    " \n",
    " So keeping only essential attributes.\n",
    " \n",
    " i:e score, extract, author, product."
   ]
  },
  {
   "cell_type": "code",
   "execution_count": 7,
   "id": "acting-march",
   "metadata": {},
   "outputs": [
    {
     "data": {
      "text/html": [
       "<div>\n",
       "<style scoped>\n",
       "    .dataframe tbody tr th:only-of-type {\n",
       "        vertical-align: middle;\n",
       "    }\n",
       "\n",
       "    .dataframe tbody tr th {\n",
       "        vertical-align: top;\n",
       "    }\n",
       "\n",
       "    .dataframe thead th {\n",
       "        text-align: right;\n",
       "    }\n",
       "</style>\n",
       "<table border=\"1\" class=\"dataframe\">\n",
       "  <thead>\n",
       "    <tr style=\"text-align: right;\">\n",
       "      <th></th>\n",
       "      <th>score</th>\n",
       "      <th>extract</th>\n",
       "      <th>author</th>\n",
       "      <th>product</th>\n",
       "    </tr>\n",
       "  </thead>\n",
       "  <tbody>\n",
       "    <tr>\n",
       "      <th>0</th>\n",
       "      <td>10.0</td>\n",
       "      <td>As a diehard Samsung fan who has had every Sam...</td>\n",
       "      <td>CarolAnn35</td>\n",
       "      <td>Samsung Galaxy S8</td>\n",
       "    </tr>\n",
       "    <tr>\n",
       "      <th>1</th>\n",
       "      <td>10.0</td>\n",
       "      <td>Love the phone. the phone is sleek and smooth ...</td>\n",
       "      <td>james0923</td>\n",
       "      <td>Samsung Galaxy S8</td>\n",
       "    </tr>\n",
       "    <tr>\n",
       "      <th>2</th>\n",
       "      <td>6.0</td>\n",
       "      <td>Adequate feel. Nice heft. Processor's still sl...</td>\n",
       "      <td>R. Craig</td>\n",
       "      <td>Samsung Galaxy S8 (64GB) G950U 5.8\" 4G LTE Unl...</td>\n",
       "    </tr>\n",
       "    <tr>\n",
       "      <th>3</th>\n",
       "      <td>9.0</td>\n",
       "      <td>Never disappointed. One of the reasons I've be...</td>\n",
       "      <td>Buster2020</td>\n",
       "      <td>Samsung Galaxy S8 64GB (AT&amp;T)</td>\n",
       "    </tr>\n",
       "    <tr>\n",
       "      <th>4</th>\n",
       "      <td>4.0</td>\n",
       "      <td>I've now found that i'm in a group of people t...</td>\n",
       "      <td>S Ate Mine</td>\n",
       "      <td>Samsung Galaxy S8</td>\n",
       "    </tr>\n",
       "    <tr>\n",
       "      <th>5</th>\n",
       "      <td>10.0</td>\n",
       "      <td>I am the type of person who never would comple...</td>\n",
       "      <td>BDB76</td>\n",
       "      <td>Samsung Galaxy S8</td>\n",
       "    </tr>\n",
       "    <tr>\n",
       "      <th>6</th>\n",
       "      <td>4.0</td>\n",
       "      <td>The way this Samsung S8 phone operates is more...</td>\n",
       "      <td>KLC30306</td>\n",
       "      <td>Samsung Galaxy S8</td>\n",
       "    </tr>\n",
       "    <tr>\n",
       "      <th>7</th>\n",
       "      <td>6.0</td>\n",
       "      <td>I bought this phone very excited to use it. I ...</td>\n",
       "      <td>Mnhy</td>\n",
       "      <td>Samsung Galaxy S8</td>\n",
       "    </tr>\n",
       "    <tr>\n",
       "      <th>8</th>\n",
       "      <td>6.0</td>\n",
       "      <td>It is an extremely advanced and truly a Smart ...</td>\n",
       "      <td>Mr Alan</td>\n",
       "      <td>Samsung Galaxy S8</td>\n",
       "    </tr>\n",
       "    <tr>\n",
       "      <th>9</th>\n",
       "      <td>8.0</td>\n",
       "      <td>Great phone with a PHENOMENAL Camera, not all ...</td>\n",
       "      <td>Raven Wolf Song</td>\n",
       "      <td>Samsung Galaxy S8</td>\n",
       "    </tr>\n",
       "  </tbody>\n",
       "</table>\n",
       "</div>"
      ],
      "text/plain": [
       "   score                                            extract           author  \\\n",
       "0   10.0  As a diehard Samsung fan who has had every Sam...       CarolAnn35   \n",
       "1   10.0  Love the phone. the phone is sleek and smooth ...        james0923   \n",
       "2    6.0  Adequate feel. Nice heft. Processor's still sl...         R. Craig   \n",
       "3    9.0  Never disappointed. One of the reasons I've be...      Buster2020    \n",
       "4    4.0  I've now found that i'm in a group of people t...       S Ate Mine   \n",
       "5   10.0  I am the type of person who never would comple...            BDB76   \n",
       "6    4.0  The way this Samsung S8 phone operates is more...         KLC30306   \n",
       "7    6.0  I bought this phone very excited to use it. I ...             Mnhy   \n",
       "8    6.0  It is an extremely advanced and truly a Smart ...          Mr Alan   \n",
       "9    8.0  Great phone with a PHENOMENAL Camera, not all ...  Raven Wolf Song   \n",
       "\n",
       "                                             product  \n",
       "0                                  Samsung Galaxy S8  \n",
       "1                                  Samsung Galaxy S8  \n",
       "2  Samsung Galaxy S8 (64GB) G950U 5.8\" 4G LTE Unl...  \n",
       "3                      Samsung Galaxy S8 64GB (AT&T)  \n",
       "4                                  Samsung Galaxy S8  \n",
       "5                                  Samsung Galaxy S8  \n",
       "6                                  Samsung Galaxy S8  \n",
       "7                                  Samsung Galaxy S8  \n",
       "8                                  Samsung Galaxy S8  \n",
       "9                                  Samsung Galaxy S8  "
      ]
     },
     "execution_count": 7,
     "metadata": {},
     "output_type": "execute_result"
    }
   ],
   "source": [
    "df2 = df_main.iloc[:,lambda df_main:[6,8,9,10]]\n",
    "df2.head(10)"
   ]
  },
  {
   "cell_type": "code",
   "execution_count": 8,
   "id": "actual-rapid",
   "metadata": {},
   "outputs": [
    {
     "data": {
      "text/plain": [
       "score      63489\n",
       "extract    19361\n",
       "author     63202\n",
       "product        1\n",
       "dtype: int64"
      ]
     },
     "execution_count": 8,
     "metadata": {},
     "output_type": "execute_result"
    }
   ],
   "source": [
    "# checking for missing values.\n",
    "df2.isnull().sum()"
   ]
  },
  {
   "cell_type": "code",
   "execution_count": 9,
   "id": "perfect-bacteria",
   "metadata": {},
   "outputs": [
    {
     "data": {
      "text/plain": [
       "True"
      ]
     },
     "execution_count": 9,
     "metadata": {},
     "output_type": "execute_result"
    }
   ],
   "source": [
    "# dropping records where there are null values.\n",
    "df3 = df2.dropna()\n",
    "# check for duplicates.\n",
    "df3.duplicated().any()"
   ]
  },
  {
   "cell_type": "code",
   "execution_count": 10,
   "id": "scenic-edition",
   "metadata": {},
   "outputs": [],
   "source": [
    "# Removing Duplicates.\n",
    "df4 = df3.drop_duplicates()"
   ]
  },
  {
   "cell_type": "code",
   "execution_count": 11,
   "id": "raised-ground",
   "metadata": {},
   "outputs": [
    {
     "name": "stdout",
     "output_type": "stream",
     "text": [
      "(1275917, 4)\n",
      "(1258979, 4)\n"
     ]
    }
   ],
   "source": [
    "print(df3.shape)\n",
    "print(df4.shape)"
   ]
  },
  {
   "cell_type": "markdown",
   "id": "contemporary-charleston",
   "metadata": {},
   "source": [
    "16938 duplicate records removed."
   ]
  },
  {
   "cell_type": "code",
   "execution_count": 12,
   "id": "international-american",
   "metadata": {},
   "outputs": [
    {
     "name": "stdout",
     "output_type": "stream",
     "text": [
      "(1000000, 4)\n"
     ]
    },
    {
     "data": {
      "text/plain": [
       "(5000, 4)"
      ]
     },
     "execution_count": 12,
     "metadata": {},
     "output_type": "execute_result"
    }
   ],
   "source": [
    "# Keeping only 1000000 records using random_state of 612\n",
    "df5 = df4.sample(n=1000000, random_state=612)\n",
    "print(df5.shape)\n",
    "df_s = df5.sample(n=5000,random_state=612)\n",
    "df_s.shape"
   ]
  },
  {
   "cell_type": "code",
   "execution_count": 13,
   "id": "eight-february",
   "metadata": {},
   "outputs": [
    {
     "data": {
      "text/html": [
       "<div>\n",
       "<style scoped>\n",
       "    .dataframe tbody tr th:only-of-type {\n",
       "        vertical-align: middle;\n",
       "    }\n",
       "\n",
       "    .dataframe tbody tr th {\n",
       "        vertical-align: top;\n",
       "    }\n",
       "\n",
       "    .dataframe thead th {\n",
       "        text-align: right;\n",
       "    }\n",
       "</style>\n",
       "<table border=\"1\" class=\"dataframe\">\n",
       "  <thead>\n",
       "    <tr style=\"text-align: right;\">\n",
       "      <th></th>\n",
       "      <th>score</th>\n",
       "      <th>extract</th>\n",
       "      <th>author</th>\n",
       "      <th>product</th>\n",
       "    </tr>\n",
       "  </thead>\n",
       "  <tbody>\n",
       "    <tr>\n",
       "      <th>502195</th>\n",
       "      <td>8.0</td>\n",
       "      <td>Excellent Phone for Moderate users..</td>\n",
       "      <td>Amazon Customer</td>\n",
       "      <td>Motorola Moto G Turbo (Black, 16GB)</td>\n",
       "    </tr>\n",
       "    <tr>\n",
       "      <th>134551</th>\n",
       "      <td>10.0</td>\n",
       "      <td>Great phone so far so good. Value for money.</td>\n",
       "      <td>Bargain-Entertainment</td>\n",
       "      <td>Samsung Galaxy J3 SM-J320F 8GB 4G Black - smar...</td>\n",
       "    </tr>\n",
       "    <tr>\n",
       "      <th>1253879</th>\n",
       "      <td>10.0</td>\n",
       "      <td>Отличная модель. Советую брать, если нужен кно...</td>\n",
       "      <td>Zuko Firebender</td>\n",
       "      <td>Nokia N95</td>\n",
       "    </tr>\n",
       "    <tr>\n",
       "      <th>542035</th>\n",
       "      <td>10.0</td>\n",
       "      <td>Telefono ricevuto in due giorni dall'acquisto....</td>\n",
       "      <td>Daniele</td>\n",
       "      <td>Apple iPhone 5s 16GB 4G Oro</td>\n",
       "    </tr>\n",
       "    <tr>\n",
       "      <th>183918</th>\n",
       "      <td>10.0</td>\n",
       "      <td>Nagyon jó telefon tudásilag is és az ára is el...</td>\n",
       "      <td>Erika B.</td>\n",
       "      <td>HUAWEI P8 Lite (Alice) DualSIM fekete kártyafü...</td>\n",
       "    </tr>\n",
       "    <tr>\n",
       "      <th>...</th>\n",
       "      <td>...</td>\n",
       "      <td>...</td>\n",
       "      <td>...</td>\n",
       "      <td>...</td>\n",
       "    </tr>\n",
       "    <tr>\n",
       "      <th>15108</th>\n",
       "      <td>10.0</td>\n",
       "      <td>device stupendo schermo senza paragoni neri as...</td>\n",
       "      <td>fabio roma</td>\n",
       "      <td>Samsung G935 Galaxy S7 Edge Smartphone da 32GB...</td>\n",
       "    </tr>\n",
       "    <tr>\n",
       "      <th>278121</th>\n",
       "      <td>10.0</td>\n",
       "      <td>H30-U10 Phone is sturdy, nice pics, great disp...</td>\n",
       "      <td>Gabby</td>\n",
       "      <td>Huawei Honor 3C Android 4.2 Quad Core 1.3GHz 3...</td>\n",
       "    </tr>\n",
       "    <tr>\n",
       "      <th>776362</th>\n",
       "      <td>6.0</td>\n",
       "      <td>Takes great video and pictures.</td>\n",
       "      <td>samantha nichols</td>\n",
       "      <td>BLU Studio 5.0 C HD Smartphone - Unlocked - Blue</td>\n",
       "    </tr>\n",
       "    <tr>\n",
       "      <th>258294</th>\n",
       "      <td>10.0</td>\n",
       "      <td>ARRIVATO IN UN GIORNO,SEMPLICE,PRATICO, PER ME...</td>\n",
       "      <td>Mary C</td>\n",
       "      <td>Asus ZenFone 2 Laser Smartphone da 32 GB, Dual...</td>\n",
       "    </tr>\n",
       "    <tr>\n",
       "      <th>1401214</th>\n",
       "      <td>2.0</td>\n",
       "      <td>This phone worked well for me early on. Howeve...</td>\n",
       "      <td>omahaphoner</td>\n",
       "      <td>VX-10</td>\n",
       "    </tr>\n",
       "  </tbody>\n",
       "</table>\n",
       "<p>1000000 rows × 4 columns</p>\n",
       "</div>"
      ],
      "text/plain": [
       "         score                                            extract  \\\n",
       "502195     8.0               Excellent Phone for Moderate users..   \n",
       "134551    10.0       Great phone so far so good. Value for money.   \n",
       "1253879   10.0  Отличная модель. Советую брать, если нужен кно...   \n",
       "542035    10.0  Telefono ricevuto in due giorni dall'acquisto....   \n",
       "183918    10.0  Nagyon jó telefon tudásilag is és az ára is el...   \n",
       "...        ...                                                ...   \n",
       "15108     10.0  device stupendo schermo senza paragoni neri as...   \n",
       "278121    10.0  H30-U10 Phone is sturdy, nice pics, great disp...   \n",
       "776362     6.0                    Takes great video and pictures.   \n",
       "258294    10.0  ARRIVATO IN UN GIORNO,SEMPLICE,PRATICO, PER ME...   \n",
       "1401214    2.0  This phone worked well for me early on. Howeve...   \n",
       "\n",
       "                        author  \\\n",
       "502195         Amazon Customer   \n",
       "134551   Bargain-Entertainment   \n",
       "1253879        Zuko Firebender   \n",
       "542035                 Daniele   \n",
       "183918                Erika B.   \n",
       "...                        ...   \n",
       "15108               fabio roma   \n",
       "278121                   Gabby   \n",
       "776362        samantha nichols   \n",
       "258294                  Mary C   \n",
       "1401214            omahaphoner   \n",
       "\n",
       "                                                   product  \n",
       "502195                 Motorola Moto G Turbo (Black, 16GB)  \n",
       "134551   Samsung Galaxy J3 SM-J320F 8GB 4G Black - smar...  \n",
       "1253879                                          Nokia N95  \n",
       "542035                         Apple iPhone 5s 16GB 4G Oro  \n",
       "183918   HUAWEI P8 Lite (Alice) DualSIM fekete kártyafü...  \n",
       "...                                                    ...  \n",
       "15108    Samsung G935 Galaxy S7 Edge Smartphone da 32GB...  \n",
       "278121   Huawei Honor 3C Android 4.2 Quad Core 1.3GHz 3...  \n",
       "776362    BLU Studio 5.0 C HD Smartphone - Unlocked - Blue  \n",
       "258294   Asus ZenFone 2 Laser Smartphone da 32 GB, Dual...  \n",
       "1401214                                              VX-10  \n",
       "\n",
       "[1000000 rows x 4 columns]"
      ]
     },
     "execution_count": 13,
     "metadata": {},
     "output_type": "execute_result"
    }
   ],
   "source": [
    "df5"
   ]
  },
  {
   "cell_type": "markdown",
   "id": "growing-disorder",
   "metadata": {},
   "source": [
    "### Top rated mobiles."
   ]
  },
  {
   "cell_type": "code",
   "execution_count": 14,
   "id": "dynamic-partnership",
   "metadata": {},
   "outputs": [
    {
     "data": {
      "text/plain": [
       "product\n",
       "Lenovo Vibe K4 Note (White,16GB)       4135\n",
       "Lenovo Vibe K4 Note (Black, 16GB)      3488\n",
       "OnePlus 3 (Graphite, 64 GB)            3244\n",
       "OnePlus 3 (Soft Gold, 64 GB)           2802\n",
       "Lenovo Vibe K5 (Gold, VoLTE update)    1992\n",
       "Name: score, dtype: int64"
      ]
     },
     "execution_count": 14,
     "metadata": {},
     "output_type": "execute_result"
    }
   ],
   "source": [
    "df5.groupby('product')['score'].count().sort_values(ascending = False).head()"
   ]
  },
  {
   "cell_type": "markdown",
   "id": "ancient-worcester",
   "metadata": {},
   "source": [
    "Lenovo Vibe K4 Note (White,16GB) is the top rated mobile."
   ]
  },
  {
   "cell_type": "markdown",
   "id": "organized-craft",
   "metadata": {},
   "source": [
    "### Top Users with Maximum Reviews."
   ]
  },
  {
   "cell_type": "code",
   "execution_count": 15,
   "id": "catholic-provider",
   "metadata": {},
   "outputs": [
    {
     "data": {
      "text/plain": [
       "author\n",
       "Amazon Customer    60857\n",
       "Cliente Amazon     15398\n",
       "e-bit               6575\n",
       "Client d'Amazon     6096\n",
       "Amazon Kunde        3759\n",
       "Name: extract, dtype: int64"
      ]
     },
     "execution_count": 15,
     "metadata": {},
     "output_type": "execute_result"
    }
   ],
   "source": [
    "df5.groupby('author')['extract'].count().sort_values(ascending=False).head()"
   ]
  },
  {
   "cell_type": "markdown",
   "id": "royal-thread",
   "metadata": {},
   "source": [
    "Amazon Customer user has given most reviews."
   ]
  },
  {
   "cell_type": "markdown",
   "id": "romance-range",
   "metadata": {},
   "source": [
    "#### Products having more than 50 ratings and Users who have given more than 50 ratings."
   ]
  },
  {
   "cell_type": "code",
   "execution_count": 16,
   "id": "critical-division",
   "metadata": {},
   "outputs": [
    {
     "name": "stdout",
     "output_type": "stream",
     "text": [
      "product                              author         \n",
      "Lenovo Vibe K4 Note (White,16GB)     Amazon Customer    2423\n",
      "Lenovo Vibe K4 Note (Black, 16GB)    Amazon Customer    2019\n",
      "OnePlus 3 (Graphite, 64 GB)          Amazon Customer    1438\n",
      "OnePlus 3 (Soft Gold, 64 GB)         Amazon Customer    1315\n",
      "Lenovo Vibe K5 (Gold, VoLTE update)  Amazon Customer    1222\n",
      "Name: score, dtype: int64\n"
     ]
    },
    {
     "data": {
      "text/html": [
       "<div>\n",
       "<style scoped>\n",
       "    .dataframe tbody tr th:only-of-type {\n",
       "        vertical-align: middle;\n",
       "    }\n",
       "\n",
       "    .dataframe tbody tr th {\n",
       "        vertical-align: top;\n",
       "    }\n",
       "\n",
       "    .dataframe thead th {\n",
       "        text-align: right;\n",
       "    }\n",
       "</style>\n",
       "<table border=\"1\" class=\"dataframe\">\n",
       "  <thead>\n",
       "    <tr style=\"text-align: right;\">\n",
       "      <th></th>\n",
       "      <th></th>\n",
       "      <th>score</th>\n",
       "    </tr>\n",
       "    <tr>\n",
       "      <th>product</th>\n",
       "      <th>author</th>\n",
       "      <th></th>\n",
       "    </tr>\n",
       "  </thead>\n",
       "  <tbody>\n",
       "    <tr>\n",
       "      <th>Lenovo Vibe K4 Note (White,16GB)</th>\n",
       "      <th>Amazon Customer</th>\n",
       "      <td>2423</td>\n",
       "    </tr>\n",
       "    <tr>\n",
       "      <th>Lenovo Vibe K4 Note (Black, 16GB)</th>\n",
       "      <th>Amazon Customer</th>\n",
       "      <td>2019</td>\n",
       "    </tr>\n",
       "    <tr>\n",
       "      <th>OnePlus 3 (Graphite, 64 GB)</th>\n",
       "      <th>Amazon Customer</th>\n",
       "      <td>1438</td>\n",
       "    </tr>\n",
       "    <tr>\n",
       "      <th>OnePlus 3 (Soft Gold, 64 GB)</th>\n",
       "      <th>Amazon Customer</th>\n",
       "      <td>1315</td>\n",
       "    </tr>\n",
       "    <tr>\n",
       "      <th>Lenovo Vibe K5 (Gold, VoLTE update)</th>\n",
       "      <th>Amazon Customer</th>\n",
       "      <td>1222</td>\n",
       "    </tr>\n",
       "  </tbody>\n",
       "</table>\n",
       "</div>"
      ],
      "text/plain": [
       "                                                     score\n",
       "product                             author                \n",
       "Lenovo Vibe K4 Note (White,16GB)    Amazon Customer   2423\n",
       "Lenovo Vibe K4 Note (Black, 16GB)   Amazon Customer   2019\n",
       "OnePlus 3 (Graphite, 64 GB)         Amazon Customer   1438\n",
       "OnePlus 3 (Soft Gold, 64 GB)        Amazon Customer   1315\n",
       "Lenovo Vibe K5 (Gold, VoLTE update) Amazon Customer   1222"
      ]
     },
     "execution_count": 16,
     "metadata": {},
     "output_type": "execute_result"
    }
   ],
   "source": [
    "df6 = df5.groupby(['product','author'])['score'].count().sort_values(ascending=False)\n",
    "print(df6.head())\n",
    "df7 = pd.DataFrame(df6)\n",
    "df7.head()"
   ]
  },
  {
   "cell_type": "markdown",
   "id": "falling-ground",
   "metadata": {},
   "source": [
    "#### Users who have given more than 50 ratings."
   ]
  },
  {
   "cell_type": "code",
   "execution_count": 17,
   "id": "tested-george",
   "metadata": {},
   "outputs": [
    {
     "data": {
      "text/plain": [
       "(235, 1)"
      ]
     },
     "execution_count": 17,
     "metadata": {},
     "output_type": "execute_result"
    }
   ],
   "source": [
    "df8 = df7[df7['score']>50]\n",
    "df8.shape"
   ]
  },
  {
   "cell_type": "markdown",
   "id": "assisted-concrete",
   "metadata": {},
   "source": [
    "The total number of records with score > 50 are 235."
   ]
  },
  {
   "cell_type": "code",
   "execution_count": 18,
   "id": "quick-highlight",
   "metadata": {},
   "outputs": [
    {
     "name": "stderr",
     "output_type": "stream",
     "text": [
      "C:\\Anaconda\\lib\\site-packages\\seaborn\\categorical.py:3714: UserWarning: The `factorplot` function has been renamed to `catplot`. The original name will be removed in a future release. Please update your code. Note that the default `kind` in `factorplot` (`'point'`) has changed `'strip'` in `catplot`.\n",
      "  warnings.warn(msg)\n",
      "C:\\Anaconda\\lib\\site-packages\\seaborn\\_decorators.py:43: FutureWarning: Pass the following variable as a keyword arg: x. From version 0.12, the only valid positional argument will be `data`, and passing other arguments without an explicit keyword will result in an error or misinterpretation.\n",
      "  FutureWarning\n"
     ]
    },
    {
     "data": {
      "image/png": "[encoded data removed]",
      "text/plain": [
       "<Figure size 720x360 with 1 Axes>"
      ]
     },
     "metadata": {
      "needs_background": "light"
     },
     "output_type": "display_data"
    }
   ],
   "source": [
    "sns.factorplot(\"score\", data=df5,aspect=2,kind='count')\n",
    "plt.show();"
   ]
  },
  {
   "cell_type": "markdown",
   "id": "suited-hydrogen",
   "metadata": {},
   "source": [
    "Half of the mobiles are rated 10.\n",
    "\n",
    "ratings with 1,3,5,7,9 are very low."
   ]
  },
  {
   "cell_type": "markdown",
   "id": "verified-governor",
   "metadata": {},
   "source": [
    "## Popularity based recommendation model."
   ]
  },
  {
   "cell_type": "code",
   "execution_count": 19,
   "id": "sunrise-lucas",
   "metadata": {
    "scrolled": true
   },
   "outputs": [
    {
     "data": {
      "text/html": [
       "<style  type=\"text/css\" >\n",
       "    #T_1e303_ th {\n",
       "          text-align: left;\n",
       "    }#T_1e303_row0_col0,#T_1e303_row1_col0,#T_1e303_row2_col0,#T_1e303_row3_col0,#T_1e303_row4_col0,#T_1e303_row5_col0,#T_1e303_row6_col0,#T_1e303_row7_col0,#T_1e303_row8_col0,#T_1e303_row9_col0{\n",
       "            text-align:  left;\n",
       "        }</style><table id=\"T_1e303_\" ><thead>    <tr>        <th class=\"blank level0\" ></th>        <th class=\"col_heading level0 col0\" >score</th>    </tr>    <tr>        <th class=\"index_name level0\" >product</th>        <th class=\"blank\" ></th>    </tr></thead><tbody>\n",
       "                <tr>\n",
       "                        <th id=\"T_1e303_level0_row0\" class=\"row_heading level0 row0\" >1st Film de protection d'écran en Verre trempé pour Samsung Galaxy A3 Transparent</th>\n",
       "                        <td id=\"T_1e303_row0_col0\" class=\"data row0 col0\" >10.000000</td>\n",
       "            </tr>\n",
       "            <tr>\n",
       "                        <th id=\"T_1e303_level0_row1\" class=\"row_heading level0 row1\" >Microsoft Nokia Lumia 820 Smartphone (10,9 cm (4,3 Zoll) ClearBlack OLED WVGA Touchscreen, 8 Megapixel Kamera, 1,5 GHz Dual-Core-Prozessor, NFC, LTE-f??hig, Windows Phone 8) gloss white</th>\n",
       "                        <td id=\"T_1e303_row1_col0\" class=\"data row1 col0\" >10.000000</td>\n",
       "            </tr>\n",
       "            <tr>\n",
       "                        <th id=\"T_1e303_level0_row2\" class=\"row_heading level0 row2\" >Sim Free Motorola Moto E 3rd Generation Mobile Phone</th>\n",
       "                        <td id=\"T_1e303_row2_col0\" class=\"data row2 col0\" >10.000000</td>\n",
       "            </tr>\n",
       "            <tr>\n",
       "                        <th id=\"T_1e303_level0_row3\" class=\"row_heading level0 row3\" >Motorola Atrix 2</th>\n",
       "                        <td id=\"T_1e303_row3_col0\" class=\"data row3 col0\" >10.000000</td>\n",
       "            </tr>\n",
       "            <tr>\n",
       "                        <th id=\"T_1e303_level0_row4\" class=\"row_heading level0 row4\" >Moto G4 Smartphone, Android, 5.5\", 4G LTE, SIM Free, 16GB, White</th>\n",
       "                        <td id=\"T_1e303_row4_col0\" class=\"data row4 col0\" >10.000000</td>\n",
       "            </tr>\n",
       "            <tr>\n",
       "                        <th id=\"T_1e303_level0_row5\" class=\"row_heading level0 row5\" >MoKo ZenFone 2 Coque - [Résistant aux rayures] Etui de Protection Double Couche Série Hybride d'Armure + Pare-chocs pour ASUS ZenFone 2 ZE550ML / ZE551ML / Deluxe / Deluxe Edition Spéciale, NOIR</th>\n",
       "                        <td id=\"T_1e303_row5_col0\" class=\"data row5 col0\" >10.000000</td>\n",
       "            </tr>\n",
       "            <tr>\n",
       "                        <th id=\"T_1e303_level0_row6\" class=\"row_heading level0 row6\" >Microsoft Мобильный телефон Microsoft Lumia 550</th>\n",
       "                        <td id=\"T_1e303_row6_col0\" class=\"data row6 col0\" >10.000000</td>\n",
       "            </tr>\n",
       "            <tr>\n",
       "                        <th id=\"T_1e303_level0_row7\" class=\"row_heading level0 row7\" >Microsoft Smartphone Microsoft Lumia 640 XL Dual Sim 3G - Dual Chip Windows Phone 8.1 Câm. 13MP Tela 5.7\"</th>\n",
       "                        <td id=\"T_1e303_row7_col0\" class=\"data row7 col0\" >10.000000</td>\n",
       "            </tr>\n",
       "            <tr>\n",
       "                        <th id=\"T_1e303_level0_row8\" class=\"row_heading level0 row8\" >Microsoft Nokia X3-02.5 Handy (6,1 cm (2,4 Zoll) Display, 5 Megapixel Kamera, Touch and Type) rot</th>\n",
       "                        <td id=\"T_1e303_row8_col0\" class=\"data row8 col0\" >10.000000</td>\n",
       "            </tr>\n",
       "            <tr>\n",
       "                        <th id=\"T_1e303_level0_row9\" class=\"row_heading level0 row9\" >Microsoft Nokia X2-00 Handy (5,6 cm (2,2 Zoll) Display, Bluetooth, 5 Megapixel Kamera) schwarz/rot</th>\n",
       "                        <td id=\"T_1e303_row9_col0\" class=\"data row9 col0\" >10.000000</td>\n",
       "            </tr>\n",
       "    </tbody></table>"
      ],
      "text/plain": [
       "<pandas.io.formats.style.Styler at 0x20786397188>"
      ]
     },
     "execution_count": 19,
     "metadata": {},
     "output_type": "execute_result"
    }
   ],
   "source": [
    "# To recommend top 5 mdel phones.\n",
    "\n",
    "p_mob = pd.DataFrame(df_s[['product','score']].groupby('product')['score'].mean().sort_values(ascending=False))\n",
    "\n",
    "from pandas import DataFrame\n",
    "\n",
    "\n",
    "def left_align(p_mob: DataFrame):\n",
    "    left_aligned_df = p_mob.style.set_properties(**{'text-align': 'left'})\n",
    "    left_aligned_df = left_aligned_df.set_table_styles(\n",
    "        [dict(selector='th', props=[('text-align', 'left')])]\n",
    "    )\n",
    "    return left_aligned_df\n",
    "left_align(p_mob.head(10))\n"
   ]
  },
  {
   "cell_type": "markdown",
   "id": "joint-leader",
   "metadata": {},
   "source": [
    "As you can see there are lot of phones with highest ratings."
   ]
  },
  {
   "cell_type": "markdown",
   "id": "automatic-titanium",
   "metadata": {},
   "source": [
    "## Collaborative filtering Based Recommedation Model"
   ]
  },
  {
   "cell_type": "code",
   "execution_count": 20,
   "id": "bibliographic-renewal",
   "metadata": {},
   "outputs": [
    {
     "data": {
      "text/plain": [
       "(5000, 4)"
      ]
     },
     "execution_count": 20,
     "metadata": {},
     "output_type": "execute_result"
    }
   ],
   "source": [
    "#  data of records where a user has rated 500 or more\n",
    "cnt = pd.value_counts(df_s['author'])\n",
    "ratings = df_s[df_s['author'].isin(cnt[cnt >- 500].index)]\n",
    "ratings.shape"
   ]
  },
  {
   "cell_type": "code",
   "execution_count": 21,
   "id": "corresponding-laundry",
   "metadata": {},
   "outputs": [
    {
     "name": "stdout",
     "output_type": "stream",
     "text": [
      "Requirement already satisfied: surprise in c:\\anaconda\\lib\\site-packages (0.1)\n",
      "Requirement already satisfied: scikit-surprise in c:\\anaconda\\lib\\site-packages (from surprise) (1.1.1)\n",
      "Requirement already satisfied: numpy>=1.11.2 in c:\\anaconda\\lib\\site-packages (from scikit-surprise->surprise) (1.19.2)\n",
      "Requirement already satisfied: joblib>=0.11 in c:\\anaconda\\lib\\site-packages (from scikit-surprise->surprise) (1.0.1)\n",
      "Requirement already satisfied: scipy>=1.0.0 in c:\\anaconda\\lib\\site-packages (from scikit-surprise->surprise) (1.6.2)\n",
      "Requirement already satisfied: six>=1.10.0 in c:\\anaconda\\lib\\site-packages (from scikit-surprise->surprise) (1.15.0)\n",
      "Note: you may need to restart the kernel to use updated packages.\n"
     ]
    }
   ],
   "source": [
    "pip install surprise"
   ]
  },
  {
   "cell_type": "markdown",
   "id": "unlimited-reservoir",
   "metadata": {},
   "source": [
    "Only required attributes, product name and rating."
   ]
  },
  {
   "cell_type": "code",
   "execution_count": 22,
   "id": "banned-sight",
   "metadata": {},
   "outputs": [
    {
     "data": {
      "text/html": [
       "<div>\n",
       "<style scoped>\n",
       "    .dataframe tbody tr th:only-of-type {\n",
       "        vertical-align: middle;\n",
       "    }\n",
       "\n",
       "    .dataframe tbody tr th {\n",
       "        vertical-align: top;\n",
       "    }\n",
       "\n",
       "    .dataframe thead th {\n",
       "        text-align: right;\n",
       "    }\n",
       "</style>\n",
       "<table border=\"1\" class=\"dataframe\">\n",
       "  <thead>\n",
       "    <tr style=\"text-align: right;\">\n",
       "      <th></th>\n",
       "      <th>author</th>\n",
       "      <th>product</th>\n",
       "      <th>score</th>\n",
       "    </tr>\n",
       "  </thead>\n",
       "  <tbody>\n",
       "    <tr>\n",
       "      <th>332956</th>\n",
       "      <td>Stefano C.</td>\n",
       "      <td>Lenovo Motorola Moto G LTE Smartphone, Display...</td>\n",
       "      <td>10.0</td>\n",
       "    </tr>\n",
       "    <tr>\n",
       "      <th>1139541</th>\n",
       "      <td>YERYE_BERMUDEZ</td>\n",
       "      <td>Nokia 5800 Xpress Music</td>\n",
       "      <td>10.0</td>\n",
       "    </tr>\n",
       "  </tbody>\n",
       "</table>\n",
       "</div>"
      ],
      "text/plain": [
       "                 author                                            product  \\\n",
       "332956       Stefano C.  Lenovo Motorola Moto G LTE Smartphone, Display...   \n",
       "1139541  YERYE_BERMUDEZ                            Nokia 5800 Xpress Music   \n",
       "\n",
       "         score  \n",
       "332956    10.0  \n",
       "1139541   10.0  "
      ]
     },
     "execution_count": 22,
     "metadata": {},
     "output_type": "execute_result"
    }
   ],
   "source": [
    "from surprise import Dataset,Reader\n",
    "from surprise.model_selection import cross_validate\n",
    "from surprise import NormalPredictor\n",
    "\n",
    "reader = Reader(rating_scale=(1, 10))\n",
    "\n",
    "data = Dataset.load_from_df(ratings[['author', 'product', 'score']], reader)\n",
    "data.df.head(2)"
   ]
  },
  {
   "cell_type": "code",
   "execution_count": 23,
   "id": "anticipated-clearance",
   "metadata": {},
   "outputs": [],
   "source": [
    "# Splitting into train and test data by using surprise.\n",
    "from surprise.model_selection import train_test_split\n",
    "trainset, testset = train_test_split(data, test_size=.25,random_state=123)"
   ]
  },
  {
   "cell_type": "markdown",
   "id": "harmful-excerpt",
   "metadata": {},
   "source": [
    "### Collaborative filtering using SVD"
   ]
  },
  {
   "cell_type": "code",
   "execution_count": 24,
   "id": "average-flexibility",
   "metadata": {},
   "outputs": [],
   "source": [
    "from surprise import SVD, KNNWithMeans\n",
    "from surprise import accuracy"
   ]
  },
  {
   "cell_type": "code",
   "execution_count": 25,
   "id": "handy-coaching",
   "metadata": {},
   "outputs": [
    {
     "name": "stdout",
     "output_type": "stream",
     "text": [
      "RMSE: 2.8867\n"
     ]
    },
    {
     "data": {
      "text/plain": [
       "2.886671096030021"
      ]
     },
     "execution_count": 25,
     "metadata": {},
     "output_type": "execute_result"
    }
   ],
   "source": [
    "svd_model = SVD(n_factors=5,biased=False)\n",
    "svd_model.fit(trainset)\n",
    "testset[0]\n",
    "test_pred_svd = svd_model.test(testset)\n",
    "# compute RMSE\n",
    "accuracy.rmse(test_pred_svd)"
   ]
  },
  {
   "cell_type": "code",
   "execution_count": 26,
   "id": "analyzed-belle",
   "metadata": {},
   "outputs": [
    {
     "data": {
      "text/html": [
       "<div>\n",
       "<style scoped>\n",
       "    .dataframe tbody tr th:only-of-type {\n",
       "        vertical-align: middle;\n",
       "    }\n",
       "\n",
       "    .dataframe tbody tr th {\n",
       "        vertical-align: top;\n",
       "    }\n",
       "\n",
       "    .dataframe thead th {\n",
       "        text-align: right;\n",
       "    }\n",
       "</style>\n",
       "<table border=\"1\" class=\"dataframe\">\n",
       "  <thead>\n",
       "    <tr style=\"text-align: right;\">\n",
       "      <th></th>\n",
       "      <th>iid</th>\n",
       "      <th>r_ui</th>\n",
       "      <th>est</th>\n",
       "    </tr>\n",
       "  </thead>\n",
       "  <tbody>\n",
       "    <tr>\n",
       "      <th>19</th>\n",
       "      <td>Lenovo Vibe K5 (Grey, VoLTE update)</td>\n",
       "      <td>10.0</td>\n",
       "      <td>9.323855</td>\n",
       "    </tr>\n",
       "    <tr>\n",
       "      <th>965</th>\n",
       "      <td>Lenovo Phab 2 Plus Smartphone (Grey, JBL earph...</td>\n",
       "      <td>10.0</td>\n",
       "      <td>4.817610</td>\n",
       "    </tr>\n",
       "    <tr>\n",
       "      <th>331</th>\n",
       "      <td>BLU Studio M HD - 5.0\" Smartphone -Global GSM ...</td>\n",
       "      <td>10.0</td>\n",
       "      <td>1.697082</td>\n",
       "    </tr>\n",
       "    <tr>\n",
       "      <th>938</th>\n",
       "      <td>BlackBerry Classic black</td>\n",
       "      <td>10.0</td>\n",
       "      <td>7.953333</td>\n",
       "    </tr>\n",
       "    <tr>\n",
       "      <th>374</th>\n",
       "      <td>Lenovo Vibe K4 Note (Black, 16GB)</td>\n",
       "      <td>10.0</td>\n",
       "      <td>4.969503</td>\n",
       "    </tr>\n",
       "    <tr>\n",
       "      <th>400</th>\n",
       "      <td>BLU Vivo XL Smartphone - 5.5\" 4G LTE - GSM Unl...</td>\n",
       "      <td>10.0</td>\n",
       "      <td>1.000000</td>\n",
       "    </tr>\n",
       "    <tr>\n",
       "      <th>899</th>\n",
       "      <td>Sony Mobile Xperia M2 Smartphone débloqué 4G (...</td>\n",
       "      <td>10.0</td>\n",
       "      <td>7.953333</td>\n",
       "    </tr>\n",
       "    <tr>\n",
       "      <th>416</th>\n",
       "      <td>Apple iPhone 6 plus unlocked Cellphone, 128GB ...</td>\n",
       "      <td>10.0</td>\n",
       "      <td>7.953333</td>\n",
       "    </tr>\n",
       "    <tr>\n",
       "      <th>851</th>\n",
       "      <td>Samsung Galaxy S7 SM-G930F 32GB 4G Gold - smar...</td>\n",
       "      <td>10.0</td>\n",
       "      <td>7.953333</td>\n",
       "    </tr>\n",
       "    <tr>\n",
       "      <th>838</th>\n",
       "      <td>HTC Inspire 4G Unlocked Phone A9192, Black</td>\n",
       "      <td>10.0</td>\n",
       "      <td>1.000000</td>\n",
       "    </tr>\n",
       "  </tbody>\n",
       "</table>\n",
       "</div>"
      ],
      "text/plain": [
       "                                                   iid  r_ui       est\n",
       "19                 Lenovo Vibe K5 (Grey, VoLTE update)  10.0  9.323855\n",
       "965  Lenovo Phab 2 Plus Smartphone (Grey, JBL earph...  10.0  4.817610\n",
       "331  BLU Studio M HD - 5.0\" Smartphone -Global GSM ...  10.0  1.697082\n",
       "938                           BlackBerry Classic black  10.0  7.953333\n",
       "374                  Lenovo Vibe K4 Note (Black, 16GB)  10.0  4.969503\n",
       "400  BLU Vivo XL Smartphone - 5.5\" 4G LTE - GSM Unl...  10.0  1.000000\n",
       "899  Sony Mobile Xperia M2 Smartphone débloqué 4G (...  10.0  7.953333\n",
       "416  Apple iPhone 6 plus unlocked Cellphone, 128GB ...  10.0  7.953333\n",
       "851  Samsung Galaxy S7 SM-G930F 32GB 4G Gold - smar...  10.0  7.953333\n",
       "838         HTC Inspire 4G Unlocked Phone A9192, Black  10.0  1.000000"
      ]
     },
     "execution_count": 26,
     "metadata": {},
     "output_type": "execute_result"
    }
   ],
   "source": [
    "# Mobile recommnendation for a user named Amazon Customer\n",
    "pred_svd= pd.DataFrame(test_pred_svd)\n",
    "pred_svd[pred_svd['uid'] == \"Amazon Customer\"][['iid', 'r_ui','est']].sort_values(by = 'r_ui',ascending = False).head(10)"
   ]
  },
  {
   "cell_type": "markdown",
   "id": "productive-minneapolis",
   "metadata": {},
   "source": [
    "### Collaborative filtering using KNNWith Means."
   ]
  },
  {
   "cell_type": "markdown",
   "id": "about-interpretation",
   "metadata": {},
   "source": [
    "USER BASED"
   ]
  },
  {
   "cell_type": "code",
   "execution_count": 27,
   "id": "independent-marble",
   "metadata": {},
   "outputs": [],
   "source": [
    "from surprise import KNNWithMeans\n",
    "from surprise import accuracy"
   ]
  },
  {
   "cell_type": "code",
   "execution_count": 28,
   "id": "hourly-express",
   "metadata": {},
   "outputs": [
    {
     "name": "stdout",
     "output_type": "stream",
     "text": [
      "Computing the msd similarity matrix...\n",
      "Done computing similarity matrix.\n"
     ]
    },
    {
     "data": {
      "text/plain": [
       "<surprise.prediction_algorithms.knns.KNNWithMeans at 0x207861d8688>"
      ]
     },
     "execution_count": 28,
     "metadata": {},
     "output_type": "execute_result"
    }
   ],
   "source": [
    "r_user = KNNWithMeans(k=10, sim_options={ 'user_based': True})\n",
    "\n",
    "r_user.fit(trainset)"
   ]
  },
  {
   "cell_type": "code",
   "execution_count": 29,
   "id": "little-circle",
   "metadata": {},
   "outputs": [
    {
     "name": "stdout",
     "output_type": "stream",
     "text": [
      "RMSE: 2.6427\n",
      "2.6427130694223098\n"
     ]
    }
   ],
   "source": [
    "test_pred_u=r_user.test(testset)\n",
    "print(accuracy.rmse(test_pred_u))"
   ]
  },
  {
   "cell_type": "code",
   "execution_count": 30,
   "id": "critical-sarah",
   "metadata": {},
   "outputs": [
    {
     "name": "stdout",
     "output_type": "stream",
     "text": [
      "user: Amazon Customer item: OnePlus 3 (Graphite, 64 GB) r_ui = 0.00   est = 7.00   {'actual_k': 10, 'was_impossible': False}\n"
     ]
    }
   ],
   "source": [
    "uid = \"Amazon Customer\"  \n",
    "iid = \"OnePlus 3 (Graphite, 64 GB)\"  \n",
    "\n",
    "pred_uc = r_user.predict(uid, iid, r_ui=0.0, verbose=True)"
   ]
  },
  {
   "cell_type": "markdown",
   "id": "stainless-colors",
   "metadata": {},
   "source": [
    "Top user based recommendations."
   ]
  },
  {
   "cell_type": "code",
   "execution_count": 31,
   "id": "seventh-vinyl",
   "metadata": {},
   "outputs": [
    {
     "data": {
      "text/html": [
       "<div>\n",
       "<style scoped>\n",
       "    .dataframe tbody tr th:only-of-type {\n",
       "        vertical-align: middle;\n",
       "    }\n",
       "\n",
       "    .dataframe tbody tr th {\n",
       "        vertical-align: top;\n",
       "    }\n",
       "\n",
       "    .dataframe thead th {\n",
       "        text-align: right;\n",
       "    }\n",
       "</style>\n",
       "<table border=\"1\" class=\"dataframe\">\n",
       "  <thead>\n",
       "    <tr style=\"text-align: right;\">\n",
       "      <th></th>\n",
       "      <th>iid</th>\n",
       "      <th>r_ui</th>\n",
       "      <th>est</th>\n",
       "    </tr>\n",
       "  </thead>\n",
       "  <tbody>\n",
       "    <tr>\n",
       "      <th>19</th>\n",
       "      <td>Lenovo Vibe K5 (Grey, VoLTE update)</td>\n",
       "      <td>10.0</td>\n",
       "      <td>9.200000</td>\n",
       "    </tr>\n",
       "    <tr>\n",
       "      <th>965</th>\n",
       "      <td>Lenovo Phab 2 Plus Smartphone (Grey, JBL earph...</td>\n",
       "      <td>10.0</td>\n",
       "      <td>6.018089</td>\n",
       "    </tr>\n",
       "    <tr>\n",
       "      <th>331</th>\n",
       "      <td>BLU Studio M HD - 5.0\" Smartphone -Global GSM ...</td>\n",
       "      <td>10.0</td>\n",
       "      <td>6.948718</td>\n",
       "    </tr>\n",
       "    <tr>\n",
       "      <th>938</th>\n",
       "      <td>BlackBerry Classic black</td>\n",
       "      <td>10.0</td>\n",
       "      <td>7.953333</td>\n",
       "    </tr>\n",
       "    <tr>\n",
       "      <th>374</th>\n",
       "      <td>Lenovo Vibe K4 Note (Black, 16GB)</td>\n",
       "      <td>10.0</td>\n",
       "      <td>5.293466</td>\n",
       "    </tr>\n",
       "    <tr>\n",
       "      <th>400</th>\n",
       "      <td>BLU Vivo XL Smartphone - 5.5\" 4G LTE - GSM Unl...</td>\n",
       "      <td>10.0</td>\n",
       "      <td>6.948718</td>\n",
       "    </tr>\n",
       "    <tr>\n",
       "      <th>899</th>\n",
       "      <td>Sony Mobile Xperia M2 Smartphone débloqué 4G (...</td>\n",
       "      <td>10.0</td>\n",
       "      <td>7.953333</td>\n",
       "    </tr>\n",
       "    <tr>\n",
       "      <th>416</th>\n",
       "      <td>Apple iPhone 6 plus unlocked Cellphone, 128GB ...</td>\n",
       "      <td>10.0</td>\n",
       "      <td>7.953333</td>\n",
       "    </tr>\n",
       "    <tr>\n",
       "      <th>851</th>\n",
       "      <td>Samsung Galaxy S7 SM-G930F 32GB 4G Gold - smar...</td>\n",
       "      <td>10.0</td>\n",
       "      <td>7.953333</td>\n",
       "    </tr>\n",
       "    <tr>\n",
       "      <th>838</th>\n",
       "      <td>HTC Inspire 4G Unlocked Phone A9192, Black</td>\n",
       "      <td>10.0</td>\n",
       "      <td>6.948718</td>\n",
       "    </tr>\n",
       "  </tbody>\n",
       "</table>\n",
       "</div>"
      ],
      "text/plain": [
       "                                                   iid  r_ui       est\n",
       "19                 Lenovo Vibe K5 (Grey, VoLTE update)  10.0  9.200000\n",
       "965  Lenovo Phab 2 Plus Smartphone (Grey, JBL earph...  10.0  6.018089\n",
       "331  BLU Studio M HD - 5.0\" Smartphone -Global GSM ...  10.0  6.948718\n",
       "938                           BlackBerry Classic black  10.0  7.953333\n",
       "374                  Lenovo Vibe K4 Note (Black, 16GB)  10.0  5.293466\n",
       "400  BLU Vivo XL Smartphone - 5.5\" 4G LTE - GSM Unl...  10.0  6.948718\n",
       "899  Sony Mobile Xperia M2 Smartphone débloqué 4G (...  10.0  7.953333\n",
       "416  Apple iPhone 6 plus unlocked Cellphone, 128GB ...  10.0  7.953333\n",
       "851  Samsung Galaxy S7 SM-G930F 32GB 4G Gold - smar...  10.0  7.953333\n",
       "838         HTC Inspire 4G Unlocked Phone A9192, Black  10.0  6.948718"
      ]
     },
     "execution_count": 31,
     "metadata": {},
     "output_type": "execute_result"
    }
   ],
   "source": [
    "pred_uc = pd.DataFrame(test_pred_u)\n",
    "pred_uc[pred_uc['uid'] == \"Amazon Customer\"][['iid', 'r_ui','est']].sort_values(by = 'r_ui',ascending = False).head(10)"
   ]
  },
  {
   "cell_type": "markdown",
   "id": "organized-channels",
   "metadata": {},
   "source": [
    "Item Based."
   ]
  },
  {
   "cell_type": "code",
   "execution_count": 32,
   "id": "fitting-venue",
   "metadata": {},
   "outputs": [
    {
     "name": "stdout",
     "output_type": "stream",
     "text": [
      "Computing the msd similarity matrix...\n",
      "Done computing similarity matrix.\n"
     ]
    },
    {
     "data": {
      "text/plain": [
       "<surprise.prediction_algorithms.knns.KNNWithMeans at 0x207930ee388>"
      ]
     },
     "execution_count": 32,
     "metadata": {},
     "output_type": "execute_result"
    }
   ],
   "source": [
    "r_item = KNNWithMeans(k=10, sim_options={ 'user_based': False})\n",
    "\n",
    "r_item.fit(trainset)"
   ]
  },
  {
   "cell_type": "code",
   "execution_count": 33,
   "id": "asian-still",
   "metadata": {},
   "outputs": [
    {
     "name": "stdout",
     "output_type": "stream",
     "text": [
      "RMSE: 2.6685\n",
      "2.6685187559596573\n"
     ]
    }
   ],
   "source": [
    "test_pred_i=r_item.test(testset)\n",
    "print(accuracy.rmse(test_pred_i))"
   ]
  },
  {
   "cell_type": "code",
   "execution_count": 34,
   "id": "retained-corporation",
   "metadata": {},
   "outputs": [
    {
     "name": "stdout",
     "output_type": "stream",
     "text": [
      "user: Amazon Customer item: OnePlus 3 (Graphite, 64 GB) r_ui = 0.00   est = 7.01   {'actual_k': 10, 'was_impossible': False}\n"
     ]
    }
   ],
   "source": [
    "uid = \"Amazon Customer\"  \n",
    "iid = \"OnePlus 3 (Graphite, 64 GB)\"  \n",
    "\n",
    "pred_ic = r_item.predict(uid, iid, r_ui=0.0, verbose=True)"
   ]
  },
  {
   "cell_type": "markdown",
   "id": "characteristic-artwork",
   "metadata": {},
   "source": [
    "Top item based recommendations."
   ]
  },
  {
   "cell_type": "code",
   "execution_count": 35,
   "id": "stylish-package",
   "metadata": {},
   "outputs": [
    {
     "data": {
      "text/html": [
       "<div>\n",
       "<style scoped>\n",
       "    .dataframe tbody tr th:only-of-type {\n",
       "        vertical-align: middle;\n",
       "    }\n",
       "\n",
       "    .dataframe tbody tr th {\n",
       "        vertical-align: top;\n",
       "    }\n",
       "\n",
       "    .dataframe thead th {\n",
       "        text-align: right;\n",
       "    }\n",
       "</style>\n",
       "<table border=\"1\" class=\"dataframe\">\n",
       "  <thead>\n",
       "    <tr style=\"text-align: right;\">\n",
       "      <th></th>\n",
       "      <th>iid</th>\n",
       "      <th>r_ui</th>\n",
       "      <th>est</th>\n",
       "    </tr>\n",
       "  </thead>\n",
       "  <tbody>\n",
       "    <tr>\n",
       "      <th>19</th>\n",
       "      <td>Lenovo Vibe K5 (Grey, VoLTE update)</td>\n",
       "      <td>10.0</td>\n",
       "      <td>9.311111</td>\n",
       "    </tr>\n",
       "    <tr>\n",
       "      <th>965</th>\n",
       "      <td>Lenovo Phab 2 Plus Smartphone (Grey, JBL earph...</td>\n",
       "      <td>10.0</td>\n",
       "      <td>6.004329</td>\n",
       "    </tr>\n",
       "    <tr>\n",
       "      <th>331</th>\n",
       "      <td>BLU Studio M HD - 5.0\" Smartphone -Global GSM ...</td>\n",
       "      <td>10.0</td>\n",
       "      <td>10.000000</td>\n",
       "    </tr>\n",
       "    <tr>\n",
       "      <th>938</th>\n",
       "      <td>BlackBerry Classic black</td>\n",
       "      <td>10.0</td>\n",
       "      <td>7.953333</td>\n",
       "    </tr>\n",
       "    <tr>\n",
       "      <th>374</th>\n",
       "      <td>Lenovo Vibe K4 Note (Black, 16GB)</td>\n",
       "      <td>10.0</td>\n",
       "      <td>5.160000</td>\n",
       "    </tr>\n",
       "    <tr>\n",
       "      <th>400</th>\n",
       "      <td>BLU Vivo XL Smartphone - 5.5\" 4G LTE - GSM Unl...</td>\n",
       "      <td>10.0</td>\n",
       "      <td>6.000000</td>\n",
       "    </tr>\n",
       "    <tr>\n",
       "      <th>899</th>\n",
       "      <td>Sony Mobile Xperia M2 Smartphone débloqué 4G (...</td>\n",
       "      <td>10.0</td>\n",
       "      <td>7.953333</td>\n",
       "    </tr>\n",
       "    <tr>\n",
       "      <th>416</th>\n",
       "      <td>Apple iPhone 6 plus unlocked Cellphone, 128GB ...</td>\n",
       "      <td>10.0</td>\n",
       "      <td>7.953333</td>\n",
       "    </tr>\n",
       "    <tr>\n",
       "      <th>851</th>\n",
       "      <td>Samsung Galaxy S7 SM-G930F 32GB 4G Gold - smar...</td>\n",
       "      <td>10.0</td>\n",
       "      <td>7.953333</td>\n",
       "    </tr>\n",
       "    <tr>\n",
       "      <th>838</th>\n",
       "      <td>HTC Inspire 4G Unlocked Phone A9192, Black</td>\n",
       "      <td>10.0</td>\n",
       "      <td>6.000000</td>\n",
       "    </tr>\n",
       "  </tbody>\n",
       "</table>\n",
       "</div>"
      ],
      "text/plain": [
       "                                                   iid  r_ui        est\n",
       "19                 Lenovo Vibe K5 (Grey, VoLTE update)  10.0   9.311111\n",
       "965  Lenovo Phab 2 Plus Smartphone (Grey, JBL earph...  10.0   6.004329\n",
       "331  BLU Studio M HD - 5.0\" Smartphone -Global GSM ...  10.0  10.000000\n",
       "938                           BlackBerry Classic black  10.0   7.953333\n",
       "374                  Lenovo Vibe K4 Note (Black, 16GB)  10.0   5.160000\n",
       "400  BLU Vivo XL Smartphone - 5.5\" 4G LTE - GSM Unl...  10.0   6.000000\n",
       "899  Sony Mobile Xperia M2 Smartphone débloqué 4G (...  10.0   7.953333\n",
       "416  Apple iPhone 6 plus unlocked Cellphone, 128GB ...  10.0   7.953333\n",
       "851  Samsung Galaxy S7 SM-G930F 32GB 4G Gold - smar...  10.0   7.953333\n",
       "838         HTC Inspire 4G Unlocked Phone A9192, Black  10.0   6.000000"
      ]
     },
     "execution_count": 35,
     "metadata": {},
     "output_type": "execute_result"
    }
   ],
   "source": [
    "\n",
    "pred_ic = pd.DataFrame(test_pred_i)\n",
    "pred_ic[pred_ic['uid'] == \"Amazon Customer\"][['iid', 'r_ui','est']].sort_values(by = 'r_ui',ascending = False).head(10)"
   ]
  },
  {
   "cell_type": "code",
   "execution_count": 36,
   "id": "bacterial-wisconsin",
   "metadata": {},
   "outputs": [
    {
     "name": "stdout",
     "output_type": "stream",
     "text": [
      "Computing the msd similarity matrix...\n",
      "Done computing similarity matrix.\n",
      "RMSE: 2.6660\n",
      "Computing the msd similarity matrix...\n",
      "Done computing similarity matrix.\n",
      "RMSE: 2.6390\n",
      "Computing the msd similarity matrix...\n",
      "Done computing similarity matrix.\n",
      "RMSE: 2.7516\n",
      "Computing the msd similarity matrix...\n",
      "Done computing similarity matrix.\n",
      "RMSE: 2.6262\n",
      "Computing the msd similarity matrix...\n",
      "Done computing similarity matrix.\n",
      "RMSE: 2.7828\n"
     ]
    }
   ],
   "source": [
    "# Cross Validation.\n",
    "from surprise.model_selection import KFold\n",
    "kf = KFold(n_splits=5)\n",
    "for trainset, testset in kf.split(data):\n",
    "    r_item.fit(trainset)\n",
    "    predictions = r_item.test(testset)\n",
    "    accuracy.rmse(predictions, verbose=True)\n"
   ]
  },
  {
   "cell_type": "code",
   "execution_count": 37,
   "id": "killing-arcade",
   "metadata": {},
   "outputs": [
    {
     "name": "stdout",
     "output_type": "stream",
     "text": [
      "2.67996\n"
     ]
    }
   ],
   "source": [
    "mean = (2.6721 + 2.6529 + 2.6052 + 2.7134 + 2.7562)/5\n",
    "print(mean)"
   ]
  },
  {
   "cell_type": "markdown",
   "id": "systematic-airport",
   "metadata": {},
   "source": [
    "Mean of RMSE of item based filtering is 2.67996\n",
    "\n",
    "RMSE: 2.6685 (item based filtering without Cross Validation)\n",
    "Slight increase in scores around 0.01"
   ]
  },
  {
   "cell_type": "markdown",
   "id": "collaborative-finding",
   "metadata": {},
   "source": [
    "1. Popularity-Based Recommendation System check about the product which are in trend or are most popular among the users and directly recommend those.\n",
    "\n",
    "2. Collaborative filtering gathers information by using the interactions between customer and product. It is based on the idea that if a customer likes a product, then its understandable that he likes a similar product in the future. It works only when we know some likes and dislikes of our customer.\n",
    "\n",
    "3. Hybrid Recommender System might be useful to improve user experience and is also most sought. example: Mixed recommender system."
   ]
  }
 ],
 "metadata": {
  "kernelspec": {
   "display_name": "Python 3",
   "language": "python",
   "name": "python3"
  },
  "language_info": {
   "codemirror_mode": {
    "name": "ipython",
    "version": 3
   },
   "file_extension": ".py",
   "mimetype": "text/x-python",
   "name": "python",
   "nbconvert_exporter": "python",
   "pygments_lexer": "ipython3",
   "version": "3.7.10"
  }
 },
 "nbformat": 4,
 "nbformat_minor": 5
}
