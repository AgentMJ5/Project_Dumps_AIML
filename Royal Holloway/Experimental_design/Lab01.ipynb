{
 "cells": [
  {
   "cell_type": "markdown",
   "metadata": {},
   "source": [
    "# Lab 01 &mdash; Introduction to Python and NumPy\n",
    "(some content adapted from [w3schools tutorial](https://www.w3schools.com/python), [Python language reference](https://docs.python.org/3/reference/index.html) and [Python standard library](https://docs.python.org/3/library/index.html))"
   ]
  },
  {
   "cell_type": "markdown",
   "metadata": {},
   "source": [
    "## Roadmap\n",
    "* [Syntax](#Syntax)\n",
    "* [Built-in types and operators](#Built-in-types-and-operators)\n",
    "* [Control flow statements](#Control-flow-statements)\n",
    "* [Functions](#Functions)\n",
    "* [List comprehension](#List-comprehension)\n",
    "* [Deleting elements](#Deleting-elements)\n",
    "* [Modules](#Modules)\n",
    "* [How to get help](#How-to-get-help)\n",
    "* [numpy arrays](#numpy-arrays)\n"
   ]
  },
  {
   "cell_type": "markdown",
   "metadata": {},
   "source": [
    "## Syntax\n",
    "\n",
    "### Indentation\n",
    "\n",
    "* While other programming languages use `{` `}` to  define scopes and blocks of code, Python uses _indentation_\n",
    "* So indentation is not just for readability and aesthetics, but wrong indentation generate errors \n",
    "* __It's important to be consistent!__\n",
    "    * never mix tabs and spaces for indentation\n",
    "    * use same number of spaces\n",
    "    * _Recommended style:_ use 4 spaces per indentation level\n",
    "    \n",
    "See also [Python's official style guide](https://www.python.org/dev/peps/pep-0008)"
   ]
  },
  {
   "cell_type": "code",
   "execution_count": 1,
   "metadata": {},
   "outputs": [
    {
     "name": "stdout",
     "output_type": "stream",
     "text": [
      "Five is greater than two!\n"
     ]
    }
   ],
   "source": [
    "if 5 > 2:\n",
    "    print(\"Five is greater than two!\")"
   ]
  },
  {
   "cell_type": "code",
   "execution_count": 2,
   "metadata": {},
   "outputs": [
    {
     "ename": "IndentationError",
     "evalue": "expected an indented block (<ipython-input-2-a314491c53bb>, line 2)",
     "output_type": "error",
     "traceback": [
      "\u001b[1;36m  File \u001b[1;32m\"<ipython-input-2-a314491c53bb>\"\u001b[1;36m, line \u001b[1;32m2\u001b[0m\n\u001b[1;33m    print(\"Five is greater than two!\")\u001b[0m\n\u001b[1;37m        ^\u001b[0m\n\u001b[1;31mIndentationError\u001b[0m\u001b[1;31m:\u001b[0m expected an indented block\n"
     ]
    }
   ],
   "source": [
    "if 5 > 2:\n",
    "print(\"Five is greater than two!\")"
   ]
  },
  {
   "cell_type": "markdown",
   "metadata": {},
   "source": [
    "### Comments\n",
    "* Comments start with a `#`. Python will ignore everything on that line after the `#`\n",
    "* Python doesn't have a syntax for multi-line characters. You can use multiple `#`"
   ]
  },
  {
   "cell_type": "code",
   "execution_count": 3,
   "metadata": {},
   "outputs": [],
   "source": [
    "# This is a comment\n",
    "# written in\n",
    "# more than just one line"
   ]
  },
  {
   "cell_type": "markdown",
   "metadata": {},
   "source": [
    "### Line structure\n",
    "* Python just needs a newline character to terminate a command/statement, unlike most languages that use `;`\n",
    "* Long lines can be split into multiple lines _explicitly_, with a `\\`\n",
    "* Lines can be split also _implicitly_, with just a newline, for expressions in brackets"
   ]
  },
  {
   "cell_type": "code",
   "execution_count": 4,
   "metadata": {},
   "outputs": [
    {
     "name": "stdout",
     "output_type": "stream",
     "text": [
      "Looks like a valid date\n"
     ]
    }
   ],
   "source": [
    "year = 2019\n",
    "month = 10\n",
    "day = 20\n",
    "hour = 12\n",
    "minute = 21\n",
    "if 1900 < year < 2100 and 1 <= month <= 12 \\\n",
    "    and 1 <= day <= 31 and 0 <= hour < 24 \\\n",
    "    and 0 <= minute < 60:   \n",
    "        print(\"Looks like a valid date\")"
   ]
  },
  {
   "cell_type": "code",
   "execution_count": 5,
   "metadata": {},
   "outputs": [
    {
     "ename": "SyntaxError",
     "evalue": "invalid syntax (<ipython-input-5-993a02bc3ab5>, line 6)",
     "output_type": "error",
     "traceback": [
      "\u001b[1;36m  File \u001b[1;32m\"<ipython-input-5-993a02bc3ab5>\"\u001b[1;36m, line \u001b[1;32m6\u001b[0m\n\u001b[1;33m    if 1900 < year < 2100 and 1 <= month <= 12\u001b[0m\n\u001b[1;37m                                               ^\u001b[0m\n\u001b[1;31mSyntaxError\u001b[0m\u001b[1;31m:\u001b[0m invalid syntax\n"
     ]
    }
   ],
   "source": [
    "year = 2019\n",
    "month = 10\n",
    "day = 20\n",
    "hour = 12\n",
    "minute = 21\n",
    "if 1900 < year < 2100 and 1 <= month <= 12 \n",
    "    and 1 <= day <= 31 and 0 <= hour < 24 \n",
    "    and 0 <= minute < 60:   \n",
    "        print(\"Looks like a valid date\")"
   ]
  },
  {
   "cell_type": "code",
   "execution_count": 6,
   "metadata": {},
   "outputs": [
    {
     "name": "stdout",
     "output_type": "stream",
     "text": [
      "['Januari', 'Februari', 'Maart', 'April', 'Mei', 'Juni', 'Juli', 'Augustus', 'September', 'Oktober', 'November', 'December']\n"
     ]
    }
   ],
   "source": [
    "# list expressions use brackets -- we don't need explicitly line continuation\n",
    "month_names = ['Januari', 'Februari', 'Maart',      # These are the\n",
    "               'April',   'Mei',      'Juni',       # Dutch names\n",
    "               'Juli',    'Augustus', 'September',  # for the months\n",
    "               'Oktober', 'November', 'December']   # of the year\n",
    "print(month_names)"
   ]
  },
  {
   "cell_type": "markdown",
   "metadata": {},
   "source": [
    "### Variables\n",
    "* In Python, you don't have commands for declaring a variable (e.g. `int num;`). A variable is created as soon as you assign a value to it.\n",
    "* No type declaration is required either (e.g. `num = 5` instead of `int num = 5;`)\n",
    "* Variable naming follows the usual rules (start with letter or `_`)\n",
    "* You can use both `''` and `\"\"` for string expressions (and triple quotes for strings spanning multiple lines)"
   ]
  },
  {
   "cell_type": "code",
   "execution_count": 7,
   "metadata": {},
   "outputs": [
    {
     "name": "stdout",
     "output_type": "stream",
     "text": [
      "5\n",
      "Johnny and Mary\n"
     ]
    }
   ],
   "source": [
    "x = 5 # type int\n",
    "y = \"Johnny\" # type string\n",
    "z = 'Mary' # type string\n",
    "print(x)\n",
    "print(y+' and '+z)"
   ]
  },
  {
   "cell_type": "markdown",
   "metadata": {},
   "source": [
    "Note that variables and constants can be displayed even without the need for `print()`"
   ]
  },
  {
   "cell_type": "code",
   "execution_count": 8,
   "metadata": {},
   "outputs": [
    {
     "name": "stdout",
     "output_type": "stream",
     "text": [
      "True\n",
      "Johnny and Mary\n"
     ]
    }
   ],
   "source": [
    "# Multiple variables can be assigned in a single line as follows\n",
    "x1 = x2 = 5.0 # x1 and x2 are both assigned 5\n",
    "y, z = 'Johnny', 'Mary'\n",
    "\n",
    "print(x1==x2) # print whether x1 and x2 are equal\n",
    "print(y+' and '+z)"
   ]
  },
  {
   "cell_type": "code",
   "execution_count": 9,
   "metadata": {},
   "outputs": [],
   "source": [
    "lipsum = \"\"\"\n",
    "Lorem ipsum dolor sit amet, consectetur adipiscing elit, sed do eiusmod \n",
    "tempor incididunt ut labore et dolore magna aliqua. Dolor sed viverra \n",
    "ipsum nunc aliquet bibendum enim. In massa tempor nec feugiat. Nunc aliquet \n",
    "bibendum enim facilisis gravida. Nisl nunc mi ipsum faucibus vitae aliquet \n",
    "...\n",
    "\"\"\""
   ]
  },
  {
   "cell_type": "markdown",
   "metadata": {},
   "source": [
    "## Built-in types and operators\n",
    "\n",
    "Python has the following built-in types (see also https://docs.python.org/3/library/stdtypes.html for docs on built-in types and https://docs.python.org/3/library/functions.html for built-in functions):\n",
    "* Null values: the type is called `NoneType`, whose sole value is `None`. `None` denotes absence of value\n",
    "* Boolean: `bool`\n",
    "    * Constants: `True`, `False`\n",
    "    * Logical operators: `or`, `and`, `not`\n",
    "    * Comparison operators: `<`, `<=`, `>=`, `>`, `==`, `!=`\n",
    "* Numeric types: `int`, `float`, `complex`\n",
    "    * Constants and operators as usual, just note \n",
    "        * `/` is for (float) division and `//` for integer division\n",
    "        * `x ** y` is `x` to the power `y` (or, `pow(x,y)`)\n",
    "        * syntax of complex constants: `3+5j` (`3` real part, `5` imaginary part)\n",
    "* String: `str`\n",
    "    * Main operators: `+` (concatenation), `[i]` (`i`-th char), `[i:j]` (substring from position `i` to `j`), `len`, `replace`, `format`\n",
    "\n",
    "### Casting\n",
    "\n",
    "* Casting, i.e., type conversion is done using constructor functions `int()`, `float()`, `str()`"
   ]
  },
  {
   "cell_type": "code",
   "execution_count": 10,
   "metadata": {},
   "outputs": [
    {
     "name": "stdout",
     "output_type": "stream",
     "text": [
      "<class 'bool'>\n",
      "<class 'str'>\n",
      "<class 'int'>\n",
      "<class 'float'>\n",
      "<class 'complex'>\n",
      "<class 'NoneType'>\n"
     ]
    }
   ],
   "source": [
    "c = 3+5j # a complex number\n",
    "# let's inspect the types of the following expressions\n",
    "print(type(True))\n",
    "print(type('False'))\n",
    "print(type(x))\n",
    "print(type(x1))\n",
    "print(type(c))\n",
    "print(type(None))"
   ]
  },
  {
   "cell_type": "code",
   "execution_count": 11,
   "metadata": {},
   "outputs": [
    {
     "name": "stdout",
     "output_type": "stream",
     "text": [
      "1\n",
      "1\n",
      "1.0\n",
      "1.0\n"
     ]
    }
   ],
   "source": [
    "# examples of casting\n",
    "x = int(\"1\")\n",
    "y = int(1.8)\n",
    "w = float(x)\n",
    "z = str(w)\n",
    "print(x)\n",
    "print(y)\n",
    "print(w)\n",
    "print(z)"
   ]
  },
  {
   "cell_type": "code",
   "execution_count": 12,
   "metadata": {},
   "outputs": [
    {
     "name": "stdout",
     "output_type": "stream",
     "text": [
      "e\n",
      "ello,\n",
      "13\n",
      "Hello, Class!\n",
      "My age is 18\n",
      "My age is 25, I was born in 1995\n"
     ]
    }
   ],
   "source": [
    "# some operations on strings\n",
    "a = \"Hello, World!\"\n",
    "print(a[1])   # 2nd character\n",
    "print(a[1:6]) # substring of from 2nd character and ending on 6th (excluded)\n",
    "print(len(a)) # string length\n",
    "print(a.replace(\"World\", \"Class\"))   # replace all occurrences of a string\n",
    "print(\"My age is \" + str(18))        # concatenation\n",
    "b = \"My age is {}, I was born in {}\" # {} is a placeholder for the format method\n",
    "print(b.format(25,2020-25))"
   ]
  },
  {
   "cell_type": "markdown",
   "metadata": {},
   "source": [
    "### Collection types\n",
    "\n",
    "* Sequence types, i.e., ordered collections that allow duplicates\n",
    "    * `list` (mutable), `tuple` (immutable)\n",
    "    * Operators similar to `str` (which is like a kind of `list`)\n",
    "* Sets: `set`, unordered, doesn't allow duplicates. \n",
    "    * Supports main set operations (e.g. `union()`, `intersection()`, `difference()` and etc.)\n",
    "* Dictionaries: `dict`, unordered but indexed, doesn't allow duplicates. \n",
    "\n",
    "**Note:** Python collections need not be type-consistent, i.e., you can mix elements of different types"
   ]
  },
  {
   "cell_type": "code",
   "execution_count": 13,
   "metadata": {},
   "outputs": [
    {
     "name": "stdout",
     "output_type": "stream",
     "text": [
      "apple\n",
      "['banana', 'cherry']\n",
      "['apple', 'cherry', 5]\n"
     ]
    }
   ],
   "source": [
    "# list elements are within []\n",
    "a_list = [\"apple\", \"banana\", \"cherry\", 4, 5, True]\n",
    "first_el = a_list[0]\n",
    "a_sublist1 = a_list[1:3] # slice of a_list from 1 to 3\n",
    "a_sublist2 = a_list[::2] # slice of a_list from start to end with step 2\n",
    "print(first_el)\n",
    "print(a_sublist1)\n",
    "print(a_sublist2)"
   ]
  },
  {
   "cell_type": "code",
   "execution_count": 14,
   "metadata": {},
   "outputs": [
    {
     "name": "stdout",
     "output_type": "stream",
     "text": [
      "No, 'banana' is not in the list\n"
     ]
    }
   ],
   "source": [
    "a_list[1] = 0      # put a 0 in 2nd position\n",
    "a_list.insert(1,0) # insert at 2nd position (without replacing)\n",
    "\n",
    "# check if \"banana\" is still in a_list\n",
    "if \"banana\" in a_list:\n",
    "    print(\"Yes, 'banana' is in the list\") \n",
    "else:\n",
    "    print(\"No, 'banana' is not in the list\") "
   ]
  },
  {
   "cell_type": "code",
   "execution_count": 15,
   "metadata": {},
   "outputs": [
    {
     "name": "stdout",
     "output_type": "stream",
     "text": [
      "apple\n",
      "0\n",
      "0\n",
      "4\n",
      "5\n",
      "True\n",
      "cherry\n",
      "apple\n",
      "0\n",
      "0\n",
      "4\n",
      "5\n",
      "True\n",
      "cherry\n"
     ]
    }
   ],
   "source": [
    "# remove element 'cherry' from list\n",
    "a_list.remove('cherry') \n",
    "# but then, append it at the end\n",
    "# equivalent expressions:\n",
    "#- a_list.append(\"cherry\")\n",
    "#- a_list+=[\"cherry\"]\n",
    "a_list=a_list+[\"cherry\"]\n",
    "\n",
    "# now add a_list to itself twice using * operator\n",
    "a_list*=2\n",
    "\n",
    "# loop through the list and print each element\n",
    "for x in a_list:\n",
    "    print(x)"
   ]
  },
  {
   "cell_type": "code",
   "execution_count": 16,
   "metadata": {},
   "outputs": [
    {
     "name": "stdout",
     "output_type": "stream",
     "text": [
      "{('Clapham J', 'Richmond'), ('Richmond', 'Twickenham')}\n"
     ]
    }
   ],
   "source": [
    "# tuple elements are within ()\n",
    "e_1 = ('Clapham J', 'Richmond')\n",
    "e_2 = (e_1[1],'Twickenham')\n",
    "e_3 = (e_2[1],'Egham')\n",
    "# set elements are within {}\n",
    "stations_graph = {e_1,e_2,e_2} # try to put a repeated element \n",
    "print(stations_graph)"
   ]
  },
  {
   "cell_type": "code",
   "execution_count": 17,
   "metadata": {},
   "outputs": [
    {
     "name": "stdout",
     "output_type": "stream",
     "text": [
      "{('Twickenham', 'Egham'), ('Clapham J', 'Richmond'), ('Richmond', 'Twickenham')}\n",
      "True\n"
     ]
    }
   ],
   "source": [
    "# add element to stations_graph set\n",
    "stations_graph.add(e_3)\n",
    "print(stations_graph)\n",
    "# check if now {e1,e3} is a subset\n",
    "print({e_1,e_3}.issubset(stations_graph))"
   ]
  },
  {
   "cell_type": "code",
   "execution_count": 18,
   "metadata": {},
   "outputs": [
    {
     "name": "stdout",
     "output_type": "stream",
     "text": [
      "{'start_station': 'Clapham J', 'connections': {('Twickenham', 'Egham'), ('Clapham J', 'Richmond'), ('Richmond', 'Twickenham')}}\n",
      "Clapham J\n"
     ]
    }
   ],
   "source": [
    "# dictionary elements are of the form key : value \n",
    "#     and are within {}\n",
    "my_journey = {\n",
    "    \"start_station\" : 'Clapham J',\n",
    "    \"connections\" : stations_graph\n",
    "}\n",
    "print(my_journey)\n",
    "# access dictionary item by referring to key\n",
    "print(my_journey[\"start_station\"])\n"
   ]
  },
  {
   "cell_type": "code",
   "execution_count": 19,
   "metadata": {},
   "outputs": [
    {
     "name": "stdout",
     "output_type": "stream",
     "text": [
      "{1, 2, 3, 4}\n",
      "[1, 2, 3, 4]\n"
     ]
    }
   ],
   "source": [
    "# we can use constructors to cast one collection type into another\n",
    "repeated_list = [1,2,2,3,3,3,4,4,4,4]\n",
    "non_repeated_set = set(repeated_list)\n",
    "print(non_repeated_set)\n",
    "print(list(non_repeated_set))"
   ]
  },
  {
   "cell_type": "markdown",
   "metadata": {},
   "source": [
    "### The `in` keyword\n",
    "It has two functions:\n",
    "* it is used to test if an element is present in a collection\n",
    "* when used in a for loop, it allows to iterate over the elements of a collection"
   ]
  },
  {
   "cell_type": "code",
   "execution_count": 20,
   "metadata": {},
   "outputs": [
    {
     "name": "stdout",
     "output_type": "stream",
     "text": [
      "True\n",
      "1\n",
      "2\n",
      "2\n",
      "3\n",
      "3\n",
      "3\n",
      "4\n",
      "4\n",
      "4\n",
      "4\n"
     ]
    }
   ],
   "source": [
    "# prints whether or not element 1 is in 'repeated_list'\n",
    "print(1 in repeated_list)\n",
    "# loops over the elements of `repeated_list`\n",
    "for x in repeated_list:\n",
    "    print(x)"
   ]
  },
  {
   "cell_type": "markdown",
   "metadata": {},
   "source": [
    "## Control flow statements"
   ]
  },
  {
   "cell_type": "markdown",
   "metadata": {},
   "source": [
    "* `if` and `while` are as other programming languages (i.e., branch on condition, and loop as long as condition is true)\n",
    "* The `for` loop is slightly different: it doesn't use a Boolean condition, but it iterates over the elements of a collection. More specifically, it uses an `iterator` object\n",
    "    * a useful function is `range(n)` that returns the sequence `[0,1,...,n-1]`, and thus, can be used in place of a counter variable in the `for` loop.\n",
    "    * Variants are: `range(m,n)` which returns the sequence `[m,m+1,...,n-1]` and `range(m,n,k)` which returns `[m, m+k, m+2k, ...]`\n",
    "\n",
    "Let's look at their syntax with some concrete examples."
   ]
  },
  {
   "cell_type": "code",
   "execution_count": 21,
   "metadata": {},
   "outputs": [
    {
     "name": "stdout",
     "output_type": "stream",
     "text": [
      "a is greater than b\n",
      "A\n"
     ]
    }
   ],
   "source": [
    "# if-elif-else example\n",
    "a = 200\n",
    "b = 33\n",
    "if b > a:\n",
    "    print(\"b is greater than a\")\n",
    "elif a == b:\n",
    "    print(\"a and b are equal\")\n",
    "else:\n",
    "    print(\"a is greater than b\")\n",
    "    \n",
    "# equivalent, compact one-line syntax\n",
    "print(\"A\") if a > b else print(\"=\") if a == b else print(\"B\")"
   ]
  },
  {
   "cell_type": "code",
   "execution_count": 22,
   "metadata": {},
   "outputs": [
    {
     "name": "stdout",
     "output_type": "stream",
     "text": [
      "1\n",
      "3\n",
      "4\n"
     ]
    }
   ],
   "source": [
    "# while-continue-break example\n",
    "i = 0\n",
    "while i < 6:\n",
    "    i += 1\n",
    "    # continue to next iteration if i is 2\n",
    "    if i == 2:\n",
    "        continue\n",
    "    print(i)\n",
    "    # exit the loop if i is 4\n",
    "    if i == 4:\n",
    "        break"
   ]
  },
  {
   "cell_type": "code",
   "execution_count": 23,
   "metadata": {},
   "outputs": [
    {
     "name": "stdout",
     "output_type": "stream",
     "text": [
      "1\n",
      "3\n",
      "4\n"
     ]
    }
   ],
   "source": [
    "# for loop equivalent to above while loop\n",
    "for i in range(1,7):\n",
    "     # continue to next iteration if i is 2\n",
    "    if i == 2:\n",
    "        continue\n",
    "    print(i)\n",
    "    # exit the loop if i is 4\n",
    "    if i == 4:\n",
    "        break\n"
   ]
  },
  {
   "cell_type": "markdown",
   "metadata": {},
   "source": [
    "## Functions\n",
    "\n",
    "* A function is a block of code with a _name_, that can take _parameters_, and can return some _values_ (or none)\n",
    "* We can set default values for parameters, such that if we call the function without parameters, it uses the default value\n",
    "    * Just beware of default mutable arguments (e.g., lists) &mdash; see https://docs.python-guide.org/writing/gotchas/ for a tricky example\n",
    "* Python also supports _lambda functions_, i.e., anonymous functions that can be used as any other Python expression\n",
    "    * a lambda function is an expression (not a statement) and thus, for instance, can be passed as an argument or returned, or be an element of a list\n",
    "    * the body of a lambda function is a single expression, the syntax is\n",
    "    ```python\n",
    "    lambda arguments : expression\n",
    "    ```\n",
    "    * a regular function is instead a block of statements, and thus, can be only invoked\n"
   ]
  },
  {
   "cell_type": "code",
   "execution_count": 24,
   "metadata": {},
   "outputs": [
    {
     "name": "stdout",
     "output_type": "stream",
     "text": [
      "Hi, my name is Nicola and I'm from Italy\n",
      "Hi, my name is Michael and I'm from UK\n"
     ]
    }
   ],
   "source": [
    "# define a function with two arguments, one of which has a default\n",
    "# introduction is the function name, fname and country are the parameters\n",
    "# UK is the default value for parameter country\n",
    "def introduction(fname, country = \"UK\"):\n",
    "    return \"Hi, my name is \" + fname + \" and I'm from \" + country\n",
    "\n",
    "print(introduction(\"Nicola\", \"Italy\"))\n",
    "print(introduction(\"Michael\"))    "
   ]
  },
  {
   "cell_type": "code",
   "execution_count": 25,
   "metadata": {},
   "outputs": [
    {
     "name": "stdout",
     "output_type": "stream",
     "text": [
      "Hi, my name is Michael and I'm from UK\n"
     ]
    }
   ],
   "source": [
    "# equivalent lambda encoding of introduction function\n",
    "intro_lambda = lambda fname, country=\"UK\" : \"Hi, my name is \" + fname + \\\n",
    "    \" and I'm from \" + country\n",
    "print(intro_lambda(\"Michael\"))"
   ]
  },
  {
   "cell_type": "code",
   "execution_count": 26,
   "metadata": {},
   "outputs": [
    {
     "name": "stdout",
     "output_type": "stream",
     "text": [
      "[0, 1, 4, 9, 16]\n"
     ]
    }
   ],
   "source": [
    "# another example to see the power of lambda functions\n",
    "# they are especially useful for functional-like programming (using e.g. map, filter, reduce)\n",
    "num_list = [0,1,2,3,4]\n",
    "# map(fun,it) applies function fun to every item of iterable object it\n",
    "# we define a function using lambda that returns the square of a number\n",
    "squared_list = map(lambda x: x**2, num_list)\n",
    "# map returns an iterator object. we need to cast it to a list\n",
    "print(list(squared_list))"
   ]
  },
  {
   "cell_type": "markdown",
   "metadata": {},
   "source": [
    "## List comprehension\n",
    "\n",
    "* _List comprehensions_ provide a concise way to create lists. \n",
    "* Especially when you have to make new lists where each element is the result of some operations applied to each member of another sequence or iterable, or to create a subsequence of those elements that satisfy a certain condition.\n",
    "* the syntax is \n",
    "```python\n",
    "[expression(var) for var in iterable]\n",
    "```\n",
    "and the result is a list resulting from evaluating `expression` for every item of `iterable`\n",
    "or \n",
    "```python\n",
    "[expression(var) for var in iterable if condition(var)] \n",
    "```\n",
    "which is same as above, but retains only elements such that `condition` is satisfied\n",
    "* `expression` can be any expression, including another list comprehension $\\to$ list comprehensions can be nested\n",
    "* __Let's see some examples!__"
   ]
  },
  {
   "cell_type": "code",
   "execution_count": 27,
   "metadata": {},
   "outputs": [
    {
     "name": "stdout",
     "output_type": "stream",
     "text": [
      "[0, 1, 4, 9, 16]\n",
      "[0, 4, 16]\n"
     ]
    }
   ],
   "source": [
    "# the code below achieves the same results as the map function above\n",
    "#     by using list comprehension. The result is more compact and readable\n",
    "squared_list = [x**2 for x in num_list] \n",
    "print(squared_list) # this time we don't need to cast to list\n",
    "\n",
    "# now include only the squares of the even numbers\n",
    "even_squared_list = [x**2 for x in num_list if x%2==0] \n",
    "print(even_squared_list)"
   ]
  },
  {
   "cell_type": "code",
   "execution_count": 28,
   "metadata": {},
   "outputs": [
    {
     "name": "stdout",
     "output_type": "stream",
     "text": [
      "[(1, 3), (1, 4), (2, 3), (2, 1), (2, 4), (3, 1), (3, 4)]\n"
     ]
    }
   ],
   "source": [
    "# You can use multiple for expressions, as if they were nested loops\n",
    "#     in this example, we generate all possible pairs (a,b), \n",
    "#     where a and b are in different lists and such that a and b are distinct\n",
    "combs = [(x, y) for x in [1,2,3] for y in [3,1,4] if x != y]\n",
    "# which is a very compact way to express the following code\n",
    "# combs = []\n",
    "# for x in [1,2,3]:\n",
    "#     for y in [3,1,4]:\n",
    "#         if x != y:\n",
    "#             combs.append((x, y))\n",
    "print(combs)"
   ]
  },
  {
   "cell_type": "code",
   "execution_count": 29,
   "metadata": {},
   "outputs": [
    {
     "name": "stdout",
     "output_type": "stream",
     "text": [
      "[[1, 0, 0, 0, 0], [0, 1, 0, 0, 0], [0, 0, 1, 0, 0], [0, 0, 0, 1, 0], [0, 0, 0, 0, 1]]\n"
     ]
    }
   ],
   "source": [
    "# example of nested list comprehensions\n",
    "# this example generates an identity matrix of size n (as a multi-dimensional list)\n",
    "n = 5\n",
    "I = [ [(1 if i==j else 0) for i in range(n)] for j in range(n)]\n",
    "print(I)"
   ]
  },
  {
   "cell_type": "markdown",
   "metadata": {},
   "source": [
    "## Deleting elements\n",
    "\n",
    "* In Python, we can remove elements (e.g., variables, functions, list items, etc) using the syntax\n",
    "```python\n",
    "del target\n",
    "```\n",
    "where `target` is what you want to delete"
   ]
  },
  {
   "cell_type": "code",
   "execution_count": 30,
   "metadata": {},
   "outputs": [
    {
     "ename": "NameError",
     "evalue": "name 'soon_to_be_deleted' is not defined",
     "output_type": "error",
     "traceback": [
      "\u001b[1;31m---------------------------------------------------------------------------\u001b[0m",
      "\u001b[1;31mNameError\u001b[0m                                 Traceback (most recent call last)",
      "\u001b[1;32m<ipython-input-30-137d170aae2b>\u001b[0m in \u001b[0;36m<module>\u001b[1;34m\u001b[0m\n\u001b[0;32m      1\u001b[0m \u001b[0msoon_to_be_deleted\u001b[0m \u001b[1;33m=\u001b[0m \u001b[1;34m\"it doesn't really matter\"\u001b[0m\u001b[1;33m\u001b[0m\u001b[1;33m\u001b[0m\u001b[0m\n\u001b[0;32m      2\u001b[0m \u001b[1;32mdel\u001b[0m \u001b[0msoon_to_be_deleted\u001b[0m\u001b[1;33m\u001b[0m\u001b[1;33m\u001b[0m\u001b[0m\n\u001b[1;32m----> 3\u001b[1;33m \u001b[0mprint\u001b[0m\u001b[1;33m(\u001b[0m\u001b[0msoon_to_be_deleted\u001b[0m\u001b[1;33m)\u001b[0m\u001b[1;33m\u001b[0m\u001b[1;33m\u001b[0m\u001b[0m\n\u001b[0m",
      "\u001b[1;31mNameError\u001b[0m: name 'soon_to_be_deleted' is not defined"
     ]
    }
   ],
   "source": [
    "soon_to_be_deleted = \"it doesn't really matter\"\n",
    "del soon_to_be_deleted\n",
    "print(soon_to_be_deleted)"
   ]
  },
  {
   "cell_type": "code",
   "execution_count": 31,
   "metadata": {},
   "outputs": [
    {
     "name": "stdout",
     "output_type": "stream",
     "text": [
      "[1, 66.25, 333, 333, 1234.5]\n",
      "[1, 66.25, 1234.5]\n",
      "[]\n"
     ]
    }
   ],
   "source": [
    "# we can delete elements of collections as well\n",
    "a = [-1, 1, 66.25, 333, 333, 1234.5]\n",
    "# deletes first element\n",
    "del a[0]\n",
    "print(a)\n",
    "# note the difference with remove() function, which\n",
    "#     removes elements by value and not by position\n",
    "\n",
    "# deletes 3rd and 4th elements\n",
    "del a[2:4]\n",
    "print(a)\n",
    "# deletes all elements\n",
    "del a[:]\n",
    "print(a)"
   ]
  },
  {
   "cell_type": "markdown",
   "metadata": {},
   "source": [
    "## Modules\n",
    "\n",
    "* Modules are code libraries that provide further functionalities beyond those built-in in Python\n",
    "* Python standard library contains many useful modules\n",
    "* We are going to see additional libraries in this course\n",
    "* To use a library, we need to add an `import` statement"
   ]
  },
  {
   "cell_type": "code",
   "execution_count": 32,
   "metadata": {},
   "outputs": [
    {
     "name": "stdout",
     "output_type": "stream",
     "text": [
      "3.141592653589793\n",
      "1.0\n"
     ]
    }
   ],
   "source": [
    "# math is a Python module that provides access to the mathematical functions defined by the C standard\n",
    "# see also https://docs.python.org/3/library/math.html\n",
    "\n",
    "# basic import statement \n",
    "import math\n",
    "# use syntax module_name.identifier to use 'identifier' defined in 'module_name'\n",
    "print(math.pi) # print pi \n",
    "print(math.sin(math.pi/2)) # print sin(pi/2)"
   ]
  },
  {
   "cell_type": "markdown",
   "metadata": {},
   "source": [
    "For convenience, modules are often renamed into shorter aliases using the syntax\n",
    "```python \n",
    "import module_name as alias\n",
    "```\n",
    "Popular libraries have standard aliases/abbreviations (e.g., `numpy` $\\to$ `np`)"
   ]
  },
  {
   "cell_type": "code",
   "execution_count": 33,
   "metadata": {},
   "outputs": [
    {
     "name": "stdout",
     "output_type": "stream",
     "text": [
      "[[1 0]\n",
      " [0 1]]\n"
     ]
    }
   ],
   "source": [
    "# import numpy using alias np\n",
    "import numpy as np\n",
    "# call function array defined in numpy\n",
    "a = np.array([[1,0],[0,1]])\n",
    "print(a)"
   ]
  },
  {
   "cell_type": "markdown",
   "metadata": {},
   "source": [
    "We might not need all that is inside a module, but only just a few functions and constants. In such cases, we can use a different syntax as in the example below"
   ]
  },
  {
   "cell_type": "code",
   "execution_count": 44,
   "metadata": {},
   "outputs": [
    {
     "name": "stdout",
     "output_type": "stream",
     "text": [
      "3.141592653589793\n",
      "1.0\n",
      "6.123233995736766e-17\n"
     ]
    }
   ],
   "source": [
    "# we import only pi and sin from math module\n",
    "from math import pi, sin\n",
    "# we don't need to use the module name any longer\n",
    "print(pi) \n",
    "print(sin(pi/2))\n",
    "# but ...\n",
    "print(math.cos(pi/2)) # generates error (cos not imported)"
   ]
  },
  {
   "cell_type": "markdown",
   "metadata": {},
   "source": [
    "## Classes and objects\n",
    "\n",
    "Python is an object-oriented programming language. Everything in Python is a class/object (even basic, built-in types/constants). Here we won't cover these topics, but see for instance https://docs.python.org/3/tutorial/classes.html and https://www.w3schools.com/python/python_classes.asp to learn how to use classes, objects, and inheritance."
   ]
  },
  {
   "cell_type": "markdown",
   "metadata": {},
   "source": [
    "## How to get help\n",
    "\n",
    "If you don't know what a function does or what are its arguments, you can get its documentation directly using Python. To look up for `something`, the syntax is\n",
    "```python\n",
    "help(something)\n",
    "```\n",
    "or the more compact syntax\n",
    "```python\n",
    "?something\n",
    "```"
   ]
  },
  {
   "cell_type": "code",
   "execution_count": null,
   "metadata": {},
   "outputs": [],
   "source": [
    "# it shows help for help function\n",
    "?help"
   ]
  },
  {
   "cell_type": "code",
   "execution_count": null,
   "metadata": {},
   "outputs": [],
   "source": [
    "import math\n",
    "?math.sin "
   ]
  },
  {
   "cell_type": "markdown",
   "metadata": {},
   "source": [
    "## numpy arrays\n",
    "\n",
    "* NumPy is a library of the [SciPy open-source project](https://www.scipy.org/index.html), which also includes other relevant libraries like __Pandas__, __SciPy__, __Matplotlib__ (which will see later in the course), and  **IPython** (the kernel behind Jupyter).\n",
    "* We will see the main features of numpy arrays: creation, indexing, operations on arrays, and differences with Python's native lists\n",
    "* They are very similar to Matlab's array (if you're familiar with them)\n",
    "* See also [numpy's cheatsheet](https://www.datacamp.com/community/blog/python-numpy-cheat-sheet) "
   ]
  },
  {
   "cell_type": "markdown",
   "metadata": {},
   "source": [
    "### Basics"
   ]
  },
  {
   "cell_type": "code",
   "execution_count": 35,
   "metadata": {},
   "outputs": [],
   "source": [
    "# np is the standard alias for numpy\n",
    "import numpy as np"
   ]
  },
  {
   "cell_type": "code",
   "execution_count": 36,
   "metadata": {},
   "outputs": [
    {
     "name": "stdout",
     "output_type": "stream",
     "text": [
      "<class 'numpy.ndarray'>\n",
      "(3,)\n",
      "1 2 3\n",
      "[1 4 3]\n"
     ]
    }
   ],
   "source": [
    "# Create a 3x1 numpy array\n",
    "a = np.array([1,2,3])\n",
    "\n",
    "# Print object type\n",
    "print(type(a))\n",
    "\n",
    "# Print shape\n",
    "print(a.shape)\n",
    "\n",
    "# Print some values in a\n",
    "print(a[0], a[1], a[2])\n",
    "\n",
    "# change 2nd value and print\n",
    "a[1] = 4\n",
    "print(a)"
   ]
  },
  {
   "cell_type": "code",
   "execution_count": 37,
   "metadata": {},
   "outputs": [
    {
     "name": "stdout",
     "output_type": "stream",
     "text": [
      "(2, 2)\n",
      "[[1 9]\n",
      " [3 4]]\n"
     ]
    }
   ],
   "source": [
    "# Create a 2x2 numpy array\n",
    "b = np.array([[1,2],[3,4]])\n",
    "\n",
    "# Print shape\n",
    "print(b.shape)\n",
    "\n",
    "# change value in first row and 2nd column and print\n",
    "b[0,1] = 9\n",
    "print(b)"
   ]
  },
  {
   "cell_type": "code",
   "execution_count": 38,
   "metadata": {},
   "outputs": [
    {
     "name": "stdout",
     "output_type": "stream",
     "text": [
      "[[0. 0. 0.]\n",
      " [0. 0. 0.]]\n",
      "[[1. 1.]\n",
      " [1. 1.]\n",
      " [1. 1.]\n",
      " [1. 1.]]\n",
      "[[9 9]\n",
      " [9 9]]\n",
      "[[0.87891411 0.75086239 0.45110004]\n",
      " [0.80503875 0.47568514 0.59402417]\n",
      " [0.11416102 0.12105366 0.16646944]]\n"
     ]
    }
   ],
   "source": [
    "# 2x3 zero array \n",
    "d = np.zeros((2,3))\n",
    "print(d)\n",
    "\n",
    "# 4x2 array of ones\n",
    "e = np.ones((4,2))\n",
    "print(e)\n",
    "\n",
    "# 2x2 constant array\n",
    "f = np.full((2,2), 9)\n",
    "print(f)\n",
    "\n",
    "# 3x3 random array (random values between 0 and 1) \n",
    "# it calls function 'random' of np's 'random' module\n",
    "#     which draws uniformly distributed values in the interval (0,1)\n",
    "g = np.random.random((3,3))\n",
    "print(g)"
   ]
  },
  {
   "cell_type": "markdown",
   "metadata": {},
   "source": [
    "### Indexing"
   ]
  },
  {
   "cell_type": "markdown",
   "metadata": {},
   "source": [
    "We can select slices of the array using the symbol `:`. For instance:\n",
    "* `[3:7]` selects all indexes between 3 and 7 (excluded)\n",
    "* `[:,4]` selects all indexes along the first dimension, and only index 4 in second dimension"
   ]
  },
  {
   "cell_type": "code",
   "execution_count": 39,
   "metadata": {},
   "outputs": [
    {
     "name": "stdout",
     "output_type": "stream",
     "text": [
      "[[ 1  2  3  4]\n",
      " [ 5  6  7  8]\n",
      " [ 9 10 11 12]]\n",
      "[[2 3]\n",
      " [6 7]]\n",
      "[ 4  8 12]\n",
      "[[2 3]\n",
      " [8 9]]\n"
     ]
    }
   ],
   "source": [
    "# Create 3x4 array\n",
    "h = np.array([[1,2,3,4], [5,6,7,8], [9,10,11,12]])\n",
    "print(h)\n",
    "\n",
    "# Slice array to make a 2x2 sub-array\n",
    "# :2 is equivalent to 0:2, i.e., it selects indices 0 and 1\n",
    "i = h[:2, 1:3]\n",
    "print(i)\n",
    "\n",
    "# print fourth column of h\n",
    "print(h[:,3])\n",
    "\n",
    "# change 2nd row of i\n",
    "i[1,:] = [8,9]\n",
    "print(i)"
   ]
  },
  {
   "cell_type": "markdown",
   "metadata": {},
   "source": [
    "### Datatypes and math operations\n",
    "\n",
    "Basic mathematical functions operate element-wise on arrays, and are available both as operator overloads and as functions in the numpy module"
   ]
  },
  {
   "cell_type": "code",
   "execution_count": 40,
   "metadata": {},
   "outputs": [
    {
     "name": "stdout",
     "output_type": "stream",
     "text": [
      "int32\n",
      "float64\n",
      "int64\n",
      "[1 2]\n"
     ]
    }
   ],
   "source": [
    "# Integer\n",
    "j = np.array([1, 2])\n",
    "print(j.dtype)  \n",
    "\n",
    "# Float\n",
    "k = np.array([1.0, 2.0])\n",
    "print(k.dtype)         \n",
    "\n",
    "# Force Data Type\n",
    "l = np.array([1.0, 2.0], dtype=np.int64)\n",
    "print(l.dtype)\n",
    "print(l)"
   ]
  },
  {
   "cell_type": "code",
   "execution_count": 41,
   "metadata": {},
   "outputs": [
    {
     "name": "stdout",
     "output_type": "stream",
     "text": [
      "[[ 6.  8.]\n",
      " [10. 12.]]\n",
      "[[-4. -4.]\n",
      " [-4. -4.]]\n",
      "[[ 5. 12.]\n",
      " [21. 32.]]\n",
      "[[0.2        0.33333333]\n",
      " [0.42857143 0.5       ]]\n",
      "[[1.         1.41421356]\n",
      " [1.73205081 2.        ]]\n"
     ]
    }
   ],
   "source": [
    "# by writing 1. np knows we want a float\n",
    "x = np.array([[1.,2.],[3.,4.]])\n",
    "y = np.array([[5.,6.],[7.,8.]])\n",
    "\n",
    "# Element-wise sum\n",
    "print(x + y)\n",
    "# equivalent to \n",
    "# print(np.add(x, y))\n",
    "\n",
    "# Element-wise difference\n",
    "print(x - y)\n",
    "# equivalent to \n",
    "# print(np.subtract(x, y))\n",
    "\n",
    "# Element-wise product\n",
    "print(x * y)\n",
    "# equivalent to \n",
    "# print(np.multiply(x, y))\n",
    "\n",
    "# Element-wise division\n",
    "print(x / y)\n",
    "# equivalent to \n",
    "# print(np.divide(x, y))\n",
    "\n",
    "# Element-wise square root\n",
    "print(np.sqrt(x))"
   ]
  },
  {
   "cell_type": "code",
   "execution_count": 42,
   "metadata": {},
   "outputs": [
    {
     "name": "stdout",
     "output_type": "stream",
     "text": [
      "10\n",
      "[4 6]\n",
      "[3 7]\n",
      "2.5\n",
      "[2. 3.]\n",
      "[1.5 3.5]\n"
     ]
    }
   ],
   "source": [
    "x = np.array([[1,2],[3,4]])\n",
    "\n",
    "# Sum of all elements\n",
    "print(np.sum(x))\n",
    "\n",
    "# Column-wise sum\n",
    "print(np.sum(x, axis=0)) \n",
    "\n",
    "# Row-wise sum\n",
    "print(np.sum(x, axis=1))\n",
    "\n",
    "# Mean of all elements\n",
    "print(np.mean(x))\n",
    "\n",
    "# Column-wise mean\n",
    "print(np.mean(x, axis=0)) \n",
    "\n",
    "### Row-wise mean\n",
    "print(np.mean(x, axis=1))"
   ]
  },
  {
   "cell_type": "markdown",
   "metadata": {},
   "source": [
    "### Select elements by condition\n",
    "Instead of specifying the index for selecting, one can use a Boolean array describing the elements to select"
   ]
  },
  {
   "cell_type": "code",
   "execution_count": 43,
   "metadata": {},
   "outputs": [
    {
     "name": "stdout",
     "output_type": "stream",
     "text": [
      "[ 1  2  3  4  5  6  7  8  9 10 11 12 13 14 15 16 17 18 19 20]\n",
      "[ 3  6  9 12 15 18]\n",
      "[ 3  9 15]\n",
      "[ 6 12 18]\n"
     ]
    }
   ],
   "source": [
    "# generates a numpy array from 1 to 20\n",
    "first_twenty = np.arange(1, 21, 1)\n",
    "print(first_twenty)\n",
    "# generates a Boolean array indicating whether or not\n",
    "#     each element of first_twenty is odd \n",
    "odds = (first_twenty % 2)==1\n",
    "# do the same for elements multiple of 3\n",
    "mul3 = (first_twenty % 3)==0\n",
    "\n",
    "# now select from the array only the multiples of 3\n",
    "print(first_twenty[mul3])\n",
    "\n",
    "# select the elements that are multiples of 3 and odd\n",
    "print(first_twenty[mul3 & odds])\n",
    "\n",
    "# select the elements that are multiples of 3 but not odd\n",
    "print(first_twenty[mul3 & ~odds])"
   ]
  },
  {
   "cell_type": "markdown",
   "metadata": {},
   "source": [
    "### Native lists vs numpy arrays\n",
    "Main differences:\n",
    "* Lists can have multiple datatypes. numpy arrays cannot.\n",
    "    * For this reason, mathematical operations are not defined on lists. But on arrays they are.\n",
    "* Memory for lists is allocated dynamically. Numpy arrays instead get contiguous blocks of memory upon creation\n",
    "    * which is why lists are less efficient in general\n",
    "    * but more efficient on operations that change the size of the data structure (like append)\n",
    "\n",
    "\n",
    "See more at official docs pages:  \n",
    "[Lists](https://docs.python.org/3/tutorial/datastructures.html), [arrays](https://docs.scipy.org/doc/numpy-1.15.1/reference/generated/numpy.array.html), [more on arrays](https://docs.scipy.org/doc/numpy-1.15.0/user/basics.creation.html)"
   ]
  }
 ],
 "metadata": {
  "kernelspec": {
   "display_name": "Python 3",
   "language": "python",
   "name": "python3"
  },
  "language_info": {
   "codemirror_mode": {
    "name": "ipython",
    "version": 3
   },
   "file_extension": ".py",
   "mimetype": "text/x-python",
   "name": "python",
   "nbconvert_exporter": "python",
   "pygments_lexer": "ipython3",
   "version": "3.7.10"
  }
 },
 "nbformat": 4,
 "nbformat_minor": 2
}
