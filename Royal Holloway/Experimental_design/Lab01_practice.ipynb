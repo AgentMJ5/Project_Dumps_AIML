{
 "cells": [
  {
   "cell_type": "markdown",
   "metadata": {},
   "source": [
    "# Lab 01 &mdash; Introduction to Python and NumPy &mdash; practice\n"
   ]
  },
  {
   "cell_type": "markdown",
   "metadata": {},
   "source": [
    "**Please enter in the cell below your first name, last name, and student ID**"
   ]
  },
  {
   "cell_type": "markdown",
   "metadata": {},
   "source": []
  },
  {
   "cell_type": "markdown",
   "metadata": {},
   "source": [
    "1. Given the list in the code snippet, create a new list that contains only the elements in even positions (for convention, let's say position 0 is odd because it's the 1st one) repeated three times. Finally, print the list and the length of the list"
   ]
  },
  {
   "cell_type": "code",
   "execution_count": 1,
   "metadata": {},
   "outputs": [],
   "source": [
    "days = ['Mon','Tue','Wed','Thu','Fri','Sat','Sun']"
   ]
  },
  {
   "cell_type": "code",
   "execution_count": 2,
   "metadata": {},
   "outputs": [
    {
     "name": "stdout",
     "output_type": "stream",
     "text": [
      "['Tue', 'Thu', 'Sat']\n",
      "3\n"
     ]
    }
   ],
   "source": [
    "even_days = days[1::2]\n",
    "print(even_days)\n",
    "print(len(even_days))"
   ]
  },
  {
   "cell_type": "markdown",
   "metadata": {},
   "source": [
    "2. Given the list of numbers in the code, generate a new list of Booleans indicating whether the corresponding numbers are divisible by 4. Implement this in two ways: 1. using lambda functions and `map`; 2. using list comprehension\n",
    "    * e.g. given [0,3,4,7,12] it should produce [True,False,True,False,True]\n"
   ]
  },
  {
   "cell_type": "code",
   "execution_count": 3,
   "metadata": {},
   "outputs": [],
   "source": [
    "numbers = [3, -1, 4, 9, 7, 12, 14, 28]"
   ]
  },
  {
   "cell_type": "code",
   "execution_count": 4,
   "metadata": {},
   "outputs": [
    {
     "name": "stdout",
     "output_type": "stream",
     "text": [
      "[False, False, True, False, False, True, False, True]\n"
     ]
    }
   ],
   "source": [
    "# Lambda function\n",
    "result = list(map(lambda x: (x % 4 == 0), numbers)) \n",
    "print(result)"
   ]
  },
  {
   "cell_type": "code",
   "execution_count": 5,
   "metadata": {},
   "outputs": [
    {
     "name": "stdout",
     "output_type": "stream",
     "text": [
      "False\n",
      "False\n",
      "True\n",
      "False\n",
      "False\n",
      "True\n",
      "False\n",
      "True\n"
     ]
    }
   ],
   "source": [
    "# List comprehension\n",
    "for i in range(len(numbers)):\n",
    "    if (numbers[i] % 4 == 0):\n",
    "        print(\"True\")\n",
    "    else:\n",
    "        print(\"False\")"
   ]
  },
  {
   "cell_type": "markdown",
   "metadata": {},
   "source": [
    "3. Generate a matrix (bi-dimensional list) s.t. its (i,j)-th position indicates whether the i-th element of `list1` is equals to the j-th element of `list2`"
   ]
  },
  {
   "cell_type": "code",
   "execution_count": 6,
   "metadata": {},
   "outputs": [],
   "source": [
    "list1=[-9.2, 3.01, 4.7, -33.906]\n",
    "list2=[-9.2, -3.01, 4.7, -9.2]"
   ]
  },
  {
   "cell_type": "code",
   "execution_count": 7,
   "metadata": {},
   "outputs": [
    {
     "name": "stdout",
     "output_type": "stream",
     "text": [
      "[[True, False, False, True], [False, False, False, False], [False, False, True, False], [False, False, False, False]]\n"
     ]
    }
   ],
   "source": [
    "bi_matrix = [ [(True if x==y else False) for y in list2] for x in list1]\n",
    "print(bi_matrix)"
   ]
  },
  {
   "cell_type": "markdown",
   "metadata": {},
   "source": [
    "4. Given the numpy array in the code snippet, select the first 100 elements. Of this selection, compute the mean of the elements that are greater than 40 "
   ]
  },
  {
   "cell_type": "code",
   "execution_count": 8,
   "metadata": {},
   "outputs": [
    {
     "name": "stdout",
     "output_type": "stream",
     "text": [
      "270.0\n"
     ]
    }
   ],
   "source": [
    "import numpy as np\n",
    "a = np.arange(0,1000,5)\n",
    "\n",
    "hundred = a[:100]\n",
    "#print(first_hundred)\n",
    "b = hundred[hundred > 40]\n",
    "#print(b)\n",
    "mean = np.mean(b)\n",
    "print(mean)"
   ]
  },
  {
   "cell_type": "markdown",
   "metadata": {},
   "source": [
    "5. Generate and print a random 4x7 numpy matrix `rand_m`. Construct and print the corresponding Boolean matrix indicating if the elements of `rand_m` are above 0.5"
   ]
  },
  {
   "cell_type": "code",
   "execution_count": 9,
   "metadata": {},
   "outputs": [
    {
     "name": "stdout",
     "output_type": "stream",
     "text": [
      "[[0.37454012 0.95071431 0.73199394 0.59865848 0.15601864 0.15599452\n",
      "  0.05808361]\n",
      " [0.86617615 0.60111501 0.70807258 0.02058449 0.96990985 0.83244264\n",
      "  0.21233911]\n",
      " [0.18182497 0.18340451 0.30424224 0.52475643 0.43194502 0.29122914\n",
      "  0.61185289]\n",
      " [0.13949386 0.29214465 0.36636184 0.45606998 0.78517596 0.19967378\n",
      "  0.51423444]]\n",
      "[[False  True  True  True False False False]\n",
      " [ True  True  True False  True  True False]\n",
      " [False False False  True False False  True]\n",
      " [False False False False  True False  True]]\n"
     ]
    }
   ],
   "source": [
    "# fix random seed so that results are reproducible (do not change)\n",
    "np.random.seed(42)\n",
    "\n",
    "matrix = np.random.random((4,7))\n",
    "print(matrix)\n",
    "\n",
    "matrix1 = matrix > 0.5\n",
    "print(matrix1)"
   ]
  }
 ],
 "metadata": {
  "kernelspec": {
   "display_name": "Python 3",
   "language": "python",
   "name": "python3"
  },
  "language_info": {
   "codemirror_mode": {
    "name": "ipython",
    "version": 3
   },
   "file_extension": ".py",
   "mimetype": "text/x-python",
   "name": "python",
   "nbconvert_exporter": "python",
   "pygments_lexer": "ipython3",
   "version": "3.7.10"
  }
 },
 "nbformat": 4,
 "nbformat_minor": 2
}
