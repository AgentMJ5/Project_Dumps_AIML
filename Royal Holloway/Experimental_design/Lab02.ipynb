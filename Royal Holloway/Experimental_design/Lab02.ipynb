{
 "cells": [
  {
   "cell_type": "markdown",
   "metadata": {},
   "source": [
    "# Lab 02 &mdash; Python Libraries\n",
    "(some content adapted from University of Michigan's Coursera [Statistics with Python Specialization](https://www.coursera.org/specializations/statistics-with-python) and [Open Intro labs](https://www.openintro.org/stat/labs.php))"
   ]
  },
  {
   "cell_type": "markdown",
   "metadata": {},
   "source": [
    "Main libraries for this course:\n",
    "\n",
    "* **Pandas**: Data manipulation and analysis. Works on top of numpy &mdash; [Cheatsheet 1](https://www.datacamp.com/community/blog/python-pandas-cheat-sheet), [Cheatsheet 2](https://www.datacamp.com/community/blog/pandas-cheat-sheet-python)\n",
    "\n",
    "* **SciPy**: fundamental library for numerical and scientific computing &mdash; [Cheatsheet](https://www.datacamp.com/community/blog/python-scipy-cheat-sheet)\n",
    "\n",
    "* **Matplotlib**: for plotting graphs &mdash; [Cheatsheet](https://www.datacamp.com/community/blog/python-matplotlib-cheat-sheet)\n",
    "\n",
    "* **Seaborn**: a higher-level interface to Matplotlib that can be used to simplify many graphing tasks.\n",
    "\n",
    "* **Statsmodels**: a library that implements many statistical analysis and inference techniques. \n",
    "\n",
    "NumPy, Pandas, SciPy, and Matplotlib are all part of the [SciPy open-source project](https://www.scipy.org/index.html), which also includes **IPython**, the kernel behind Jupyter."
   ]
  },
  {
   "cell_type": "markdown",
   "metadata": {},
   "source": [
    "## Roadmap\n",
    "* [Data management with Pandas](#Data-management-with-Pandas)\n",
    "* [Plotting with MatPlotLib and Seaborn](#Plotting-with-MatPlotLib-and-Seaborn)\n",
    "* [scipy stats](#Intro-to-scipy.stats)\n",
    "    * [Continuous and discrete distributions](#Continuous-and-discrete-distributions)\n",
    "        * [Area under the pdf](#Area-under-the-pdf)\n",
    "    * [Parameters and statistics](#Parameters-and-statistics)\n",
    "    * [Multivariate distributions](#Multivariate-distributions)"
   ]
  },
  {
   "cell_type": "markdown",
   "metadata": {},
   "source": [
    "## Data management with Pandas\n",
    "\n",
    "* We will use the pandas library to import, view, and transform the data. \n",
    "* The main data structure that Pandas works with is called a **Data Frame**.  This is a two-dimensional table of data where rows typically represent observations and the columns represent variables (similar to R's data frame)\n",
    "    * Pandas also has a one-dimensional data structure called a **Series**, i.e., a single column of a Data Frame.\n",
    "* Pandas provide a lot of the data manipulation and analysis functionalities of R. Hence, if you're more familiar with R, look at the [Comparison with R](https://pandas.pydata.org/pandas-docs/stable/getting_started/comparison/comparison_with_r.html) webpage of Panda's docs\n",
    "\n",
    "We will start with looking into data of *CDC's Behavioral Risk Factor Surveillance System (BRFSS) survey*. It is an annual telephone survey of 350,000 people in the United States designed to identify risk factors in the adult population and report emerging health trends. For example, it includes data on diet, physical activity, HIV/AIDS status, and tobacco use. We consider the data made available by Open Intro at https://www.openintro.org/stat/data/?data=cdc, which is a random sample of 20,000 people from the 2000's survey, and includes a small subset of the variables. \n",
    "\n",
    "See the CDC web site (http://www.cdc.gov/brfss) for more details"
   ]
  },
  {
   "cell_type": "code",
   "execution_count": 1,
   "metadata": {},
   "outputs": [
    {
     "data": {
      "text/html": [
       "<div>\n",
       "<style scoped>\n",
       "    .dataframe tbody tr th:only-of-type {\n",
       "        vertical-align: middle;\n",
       "    }\n",
       "\n",
       "    .dataframe tbody tr th {\n",
       "        vertical-align: top;\n",
       "    }\n",
       "\n",
       "    .dataframe thead th {\n",
       "        text-align: right;\n",
       "    }\n",
       "</style>\n",
       "<table border=\"1\" class=\"dataframe\">\n",
       "  <thead>\n",
       "    <tr style=\"text-align: right;\">\n",
       "      <th></th>\n",
       "      <th>genhlth</th>\n",
       "      <th>exerany</th>\n",
       "      <th>hlthplan</th>\n",
       "      <th>smoke100</th>\n",
       "      <th>height</th>\n",
       "      <th>weight</th>\n",
       "      <th>wtdesire</th>\n",
       "      <th>age</th>\n",
       "      <th>gender</th>\n",
       "    </tr>\n",
       "  </thead>\n",
       "  <tbody>\n",
       "    <tr>\n",
       "      <th>0</th>\n",
       "      <td>good</td>\n",
       "      <td>0</td>\n",
       "      <td>1</td>\n",
       "      <td>0</td>\n",
       "      <td>70</td>\n",
       "      <td>175</td>\n",
       "      <td>175</td>\n",
       "      <td>77</td>\n",
       "      <td>m</td>\n",
       "    </tr>\n",
       "    <tr>\n",
       "      <th>1</th>\n",
       "      <td>good</td>\n",
       "      <td>0</td>\n",
       "      <td>1</td>\n",
       "      <td>1</td>\n",
       "      <td>64</td>\n",
       "      <td>125</td>\n",
       "      <td>115</td>\n",
       "      <td>33</td>\n",
       "      <td>f</td>\n",
       "    </tr>\n",
       "    <tr>\n",
       "      <th>2</th>\n",
       "      <td>good</td>\n",
       "      <td>1</td>\n",
       "      <td>1</td>\n",
       "      <td>1</td>\n",
       "      <td>60</td>\n",
       "      <td>105</td>\n",
       "      <td>105</td>\n",
       "      <td>49</td>\n",
       "      <td>f</td>\n",
       "    </tr>\n",
       "    <tr>\n",
       "      <th>3</th>\n",
       "      <td>good</td>\n",
       "      <td>1</td>\n",
       "      <td>1</td>\n",
       "      <td>0</td>\n",
       "      <td>66</td>\n",
       "      <td>132</td>\n",
       "      <td>124</td>\n",
       "      <td>42</td>\n",
       "      <td>f</td>\n",
       "    </tr>\n",
       "    <tr>\n",
       "      <th>4</th>\n",
       "      <td>very good</td>\n",
       "      <td>0</td>\n",
       "      <td>1</td>\n",
       "      <td>0</td>\n",
       "      <td>61</td>\n",
       "      <td>150</td>\n",
       "      <td>130</td>\n",
       "      <td>55</td>\n",
       "      <td>f</td>\n",
       "    </tr>\n",
       "  </tbody>\n",
       "</table>\n",
       "</div>"
      ],
      "text/plain": [
       "     genhlth  exerany  hlthplan  smoke100  height  weight  wtdesire  age  \\\n",
       "0       good        0         1         0      70     175       175   77   \n",
       "1       good        0         1         1      64     125       115   33   \n",
       "2       good        1         1         1      60     105       105   49   \n",
       "3       good        1         1         0      66     132       124   42   \n",
       "4  very good        0         1         0      61     150       130   55   \n",
       "\n",
       "  gender  \n",
       "0      m  \n",
       "1      f  \n",
       "2      f  \n",
       "3      f  \n",
       "4      f  "
      ]
     },
     "execution_count": 1,
     "metadata": {},
     "output_type": "execute_result"
    }
   ],
   "source": [
    "import numpy as np\n",
    "import pandas as pd\n",
    "\n",
    "# read the csv file and store it into pd dataframe\n",
    "# replace with correct path\n",
    "# df = pd.read_csv(\"https://moodle.royalholloway.ac.uk/mod/resource/view.php?id=451993\")\n",
    "df = pd.read_csv(\"cdc.csv\")\n",
    "\n",
    "# Head function to see a preview of the top-most rows\n",
    "df.head()"
   ]
  },
  {
   "cell_type": "code",
   "execution_count": 2,
   "metadata": {},
   "outputs": [
    {
     "data": {
      "text/html": [
       "<div>\n",
       "<style scoped>\n",
       "    .dataframe tbody tr th:only-of-type {\n",
       "        vertical-align: middle;\n",
       "    }\n",
       "\n",
       "    .dataframe tbody tr th {\n",
       "        vertical-align: top;\n",
       "    }\n",
       "\n",
       "    .dataframe thead th {\n",
       "        text-align: right;\n",
       "    }\n",
       "</style>\n",
       "<table border=\"1\" class=\"dataframe\">\n",
       "  <thead>\n",
       "    <tr style=\"text-align: right;\">\n",
       "      <th></th>\n",
       "      <th>genhlth</th>\n",
       "      <th>exerany</th>\n",
       "      <th>hlthplan</th>\n",
       "      <th>smoke100</th>\n",
       "      <th>height</th>\n",
       "      <th>weight</th>\n",
       "      <th>wtdesire</th>\n",
       "      <th>age</th>\n",
       "      <th>gender</th>\n",
       "    </tr>\n",
       "  </thead>\n",
       "  <tbody>\n",
       "    <tr>\n",
       "      <th>19995</th>\n",
       "      <td>good</td>\n",
       "      <td>1</td>\n",
       "      <td>1</td>\n",
       "      <td>0</td>\n",
       "      <td>66</td>\n",
       "      <td>215</td>\n",
       "      <td>140</td>\n",
       "      <td>23</td>\n",
       "      <td>f</td>\n",
       "    </tr>\n",
       "    <tr>\n",
       "      <th>19996</th>\n",
       "      <td>excellent</td>\n",
       "      <td>0</td>\n",
       "      <td>1</td>\n",
       "      <td>0</td>\n",
       "      <td>73</td>\n",
       "      <td>200</td>\n",
       "      <td>185</td>\n",
       "      <td>35</td>\n",
       "      <td>m</td>\n",
       "    </tr>\n",
       "    <tr>\n",
       "      <th>19997</th>\n",
       "      <td>poor</td>\n",
       "      <td>0</td>\n",
       "      <td>1</td>\n",
       "      <td>0</td>\n",
       "      <td>65</td>\n",
       "      <td>216</td>\n",
       "      <td>150</td>\n",
       "      <td>57</td>\n",
       "      <td>f</td>\n",
       "    </tr>\n",
       "    <tr>\n",
       "      <th>19998</th>\n",
       "      <td>good</td>\n",
       "      <td>1</td>\n",
       "      <td>1</td>\n",
       "      <td>0</td>\n",
       "      <td>67</td>\n",
       "      <td>165</td>\n",
       "      <td>165</td>\n",
       "      <td>81</td>\n",
       "      <td>f</td>\n",
       "    </tr>\n",
       "    <tr>\n",
       "      <th>19999</th>\n",
       "      <td>good</td>\n",
       "      <td>1</td>\n",
       "      <td>1</td>\n",
       "      <td>1</td>\n",
       "      <td>69</td>\n",
       "      <td>170</td>\n",
       "      <td>165</td>\n",
       "      <td>83</td>\n",
       "      <td>m</td>\n",
       "    </tr>\n",
       "  </tbody>\n",
       "</table>\n",
       "</div>"
      ],
      "text/plain": [
       "         genhlth  exerany  hlthplan  smoke100  height  weight  wtdesire  age  \\\n",
       "19995       good        1         1         0      66     215       140   23   \n",
       "19996  excellent        0         1         0      73     200       185   35   \n",
       "19997       poor        0         1         0      65     216       150   57   \n",
       "19998       good        1         1         0      67     165       165   81   \n",
       "19999       good        1         1         1      69     170       165   83   \n",
       "\n",
       "      gender  \n",
       "19995      f  \n",
       "19996      m  \n",
       "19997      f  \n",
       "19998      f  \n",
       "19999      m  "
      ]
     },
     "execution_count": 2,
     "metadata": {},
     "output_type": "execute_result"
    }
   ],
   "source": [
    "# Tail function to see a preview of the bottom-most rows\n",
    "df.tail()"
   ]
  },
  {
   "cell_type": "code",
   "execution_count": 3,
   "metadata": {},
   "outputs": [
    {
     "name": "stdout",
     "output_type": "stream",
     "text": [
      "genhlth     object\n",
      "exerany      int64\n",
      "hlthplan     int64\n",
      "smoke100     int64\n",
      "height       int64\n",
      "weight       int64\n",
      "wtdesire     int64\n",
      "age          int64\n",
      "gender      object\n",
      "dtype: object\n"
     ]
    }
   ],
   "source": [
    "# The dtypes attribute gives the column (variable) types\n",
    "print(df.dtypes)"
   ]
  },
  {
   "cell_type": "markdown",
   "metadata": {},
   "source": [
    "* Before, we used `read_csv` to load a csv file into a pandas data frame. \n",
    "* Similarly, we save a data frame into a file by calling the `to_csv` function\n",
    "* Analogous functions exist for other file types, see [pandas I/O API](https://pandas.pydata.org/pandas-docs/stable/reference/io.html)"
   ]
  },
  {
   "cell_type": "code",
   "execution_count": 4,
   "metadata": {},
   "outputs": [],
   "source": [
    "df.to_csv(\"cdc.csv\")"
   ]
  },
  {
   "cell_type": "markdown",
   "metadata": {},
   "source": [
    "### Slicing and indexing\n",
    "* Indexing works with a very similar syntax as numpy arrays\n",
    "* Two main functions: `loc`, which uses labels; `iloc`, which uses indices"
   ]
  },
  {
   "cell_type": "code",
   "execution_count": 5,
   "metadata": {},
   "outputs": [
    {
     "name": "stdout",
     "output_type": "stream",
     "text": [
      "0        175\n",
      "1        125\n",
      "2        105\n",
      "3        132\n",
      "4        150\n",
      "5        114\n",
      "6        194\n",
      "7        170\n",
      "8        150\n",
      "9        180\n",
      "10       186\n",
      "11       168\n",
      "12       185\n",
      "13       170\n",
      "14       170\n",
      "15       185\n",
      "16       156\n",
      "17       185\n",
      "18       200\n",
      "19       125\n",
      "20       200\n",
      "21       160\n",
      "22       160\n",
      "23       165\n",
      "24       105\n",
      "25       190\n",
      "26       190\n",
      "27       160\n",
      "28       115\n",
      "29       185\n",
      "        ... \n",
      "19970    168\n",
      "19971     85\n",
      "19972    145\n",
      "19973    110\n",
      "19974    156\n",
      "19975    230\n",
      "19976    198\n",
      "19977    180\n",
      "19978    135\n",
      "19979    265\n",
      "19980    195\n",
      "19981    210\n",
      "19982    171\n",
      "19983    190\n",
      "19984    180\n",
      "19985    120\n",
      "19986    140\n",
      "19987    200\n",
      "19988    230\n",
      "19989    230\n",
      "19990    195\n",
      "19991    210\n",
      "19992    180\n",
      "19993    165\n",
      "19994    224\n",
      "19995    215\n",
      "19996    200\n",
      "19997    216\n",
      "19998    165\n",
      "19999    170\n",
      "Name: weight, Length: 20000, dtype: int64\n"
     ]
    },
    {
     "data": {
      "text/plain": [
       "pandas.core.series.Series"
      ]
     },
     "execution_count": 5,
     "metadata": {},
     "output_type": "execute_result"
    }
   ],
   "source": [
    "# select only the weight column (and all rows)\n",
    "weight = df.loc[:,\"weight\"]\n",
    "print(weight)\n",
    "type(weight) # a series"
   ]
  },
  {
   "cell_type": "code",
   "execution_count": 6,
   "metadata": {},
   "outputs": [],
   "source": [
    "# select three columns and rows with labels 0 to 7\n",
    "df.loc[0:7, [\"weight\",\"hlthplan\",\"age\"]]\n",
    "test = df.loc[0:7, [\"weight\",\"hlthplan\",\"age\"]]"
   ]
  },
  {
   "cell_type": "markdown",
   "metadata": {},
   "source": [
    "Note what we did above: we didn't select the indexes `0:7`, but the rows labelled by `0,1,...,7`. \n",
    "* when speaking of indices, `0:7` selects `0,...,6`"
   ]
  },
  {
   "cell_type": "code",
   "execution_count": 7,
   "metadata": {},
   "outputs": [
    {
     "data": {
      "text/html": [
       "<div>\n",
       "<style scoped>\n",
       "    .dataframe tbody tr th:only-of-type {\n",
       "        vertical-align: middle;\n",
       "    }\n",
       "\n",
       "    .dataframe tbody tr th {\n",
       "        vertical-align: top;\n",
       "    }\n",
       "\n",
       "    .dataframe thead th {\n",
       "        text-align: right;\n",
       "    }\n",
       "</style>\n",
       "<table border=\"1\" class=\"dataframe\">\n",
       "  <thead>\n",
       "    <tr style=\"text-align: right;\">\n",
       "      <th></th>\n",
       "      <th>genhlth</th>\n",
       "      <th>exerany</th>\n",
       "      <th>hlthplan</th>\n",
       "      <th>smoke100</th>\n",
       "      <th>height</th>\n",
       "      <th>weight</th>\n",
       "      <th>wtdesire</th>\n",
       "      <th>age</th>\n",
       "      <th>gender</th>\n",
       "    </tr>\n",
       "  </thead>\n",
       "  <tbody>\n",
       "    <tr>\n",
       "      <th>1000</th>\n",
       "      <td>good</td>\n",
       "      <td>1</td>\n",
       "      <td>1</td>\n",
       "      <td>0</td>\n",
       "      <td>69</td>\n",
       "      <td>210</td>\n",
       "      <td>170</td>\n",
       "      <td>27</td>\n",
       "      <td>f</td>\n",
       "    </tr>\n",
       "    <tr>\n",
       "      <th>1001</th>\n",
       "      <td>good</td>\n",
       "      <td>1</td>\n",
       "      <td>0</td>\n",
       "      <td>0</td>\n",
       "      <td>76</td>\n",
       "      <td>295</td>\n",
       "      <td>270</td>\n",
       "      <td>29</td>\n",
       "      <td>m</td>\n",
       "    </tr>\n",
       "    <tr>\n",
       "      <th>1002</th>\n",
       "      <td>good</td>\n",
       "      <td>1</td>\n",
       "      <td>1</td>\n",
       "      <td>1</td>\n",
       "      <td>70</td>\n",
       "      <td>260</td>\n",
       "      <td>200</td>\n",
       "      <td>52</td>\n",
       "      <td>m</td>\n",
       "    </tr>\n",
       "    <tr>\n",
       "      <th>1003</th>\n",
       "      <td>excellent</td>\n",
       "      <td>1</td>\n",
       "      <td>1</td>\n",
       "      <td>0</td>\n",
       "      <td>72</td>\n",
       "      <td>165</td>\n",
       "      <td>175</td>\n",
       "      <td>39</td>\n",
       "      <td>m</td>\n",
       "    </tr>\n",
       "    <tr>\n",
       "      <th>1004</th>\n",
       "      <td>very good</td>\n",
       "      <td>1</td>\n",
       "      <td>1</td>\n",
       "      <td>1</td>\n",
       "      <td>62</td>\n",
       "      <td>115</td>\n",
       "      <td>115</td>\n",
       "      <td>80</td>\n",
       "      <td>f</td>\n",
       "    </tr>\n",
       "    <tr>\n",
       "      <th>1005</th>\n",
       "      <td>very good</td>\n",
       "      <td>1</td>\n",
       "      <td>1</td>\n",
       "      <td>0</td>\n",
       "      <td>62</td>\n",
       "      <td>180</td>\n",
       "      <td>140</td>\n",
       "      <td>26</td>\n",
       "      <td>f</td>\n",
       "    </tr>\n",
       "    <tr>\n",
       "      <th>1006</th>\n",
       "      <td>excellent</td>\n",
       "      <td>0</td>\n",
       "      <td>1</td>\n",
       "      <td>0</td>\n",
       "      <td>69</td>\n",
       "      <td>180</td>\n",
       "      <td>170</td>\n",
       "      <td>46</td>\n",
       "      <td>m</td>\n",
       "    </tr>\n",
       "    <tr>\n",
       "      <th>1007</th>\n",
       "      <td>excellent</td>\n",
       "      <td>1</td>\n",
       "      <td>1</td>\n",
       "      <td>0</td>\n",
       "      <td>66</td>\n",
       "      <td>126</td>\n",
       "      <td>126</td>\n",
       "      <td>20</td>\n",
       "      <td>f</td>\n",
       "    </tr>\n",
       "    <tr>\n",
       "      <th>1008</th>\n",
       "      <td>fair</td>\n",
       "      <td>1</td>\n",
       "      <td>1</td>\n",
       "      <td>0</td>\n",
       "      <td>59</td>\n",
       "      <td>112</td>\n",
       "      <td>107</td>\n",
       "      <td>60</td>\n",
       "      <td>f</td>\n",
       "    </tr>\n",
       "    <tr>\n",
       "      <th>1009</th>\n",
       "      <td>good</td>\n",
       "      <td>1</td>\n",
       "      <td>1</td>\n",
       "      <td>0</td>\n",
       "      <td>63</td>\n",
       "      <td>135</td>\n",
       "      <td>135</td>\n",
       "      <td>39</td>\n",
       "      <td>f</td>\n",
       "    </tr>\n",
       "    <tr>\n",
       "      <th>1010</th>\n",
       "      <td>good</td>\n",
       "      <td>1</td>\n",
       "      <td>1</td>\n",
       "      <td>1</td>\n",
       "      <td>72</td>\n",
       "      <td>225</td>\n",
       "      <td>190</td>\n",
       "      <td>46</td>\n",
       "      <td>m</td>\n",
       "    </tr>\n",
       "  </tbody>\n",
       "</table>\n",
       "</div>"
      ],
      "text/plain": [
       "        genhlth  exerany  hlthplan  smoke100  height  weight  wtdesire  age  \\\n",
       "1000       good        1         1         0      69     210       170   27   \n",
       "1001       good        1         0         0      76     295       270   29   \n",
       "1002       good        1         1         1      70     260       200   52   \n",
       "1003  excellent        1         1         0      72     165       175   39   \n",
       "1004  very good        1         1         1      62     115       115   80   \n",
       "1005  very good        1         1         0      62     180       140   26   \n",
       "1006  excellent        0         1         0      69     180       170   46   \n",
       "1007  excellent        1         1         0      66     126       126   20   \n",
       "1008       fair        1         1         0      59     112       107   60   \n",
       "1009       good        1         1         0      63     135       135   39   \n",
       "1010       good        1         1         1      72     225       190   46   \n",
       "\n",
       "     gender  \n",
       "1000      f  \n",
       "1001      m  \n",
       "1002      m  \n",
       "1003      m  \n",
       "1004      f  \n",
       "1005      f  \n",
       "1006      m  \n",
       "1007      f  \n",
       "1008      f  \n",
       "1009      f  \n",
       "1010      m  "
      ]
     },
     "execution_count": 7,
     "metadata": {},
     "output_type": "execute_result"
    }
   ],
   "source": [
    "# or you can keep all columns and select some of the rows\n",
    "df.loc[1000:1010]"
   ]
  },
  {
   "cell_type": "markdown",
   "metadata": {},
   "source": [
    "`iloc` is the same as `loc` but uses integer indexing\n",
    "* `m:n` selects all indices from `m` to `n` *excluded*"
   ]
  },
  {
   "cell_type": "code",
   "execution_count": 8,
   "metadata": {},
   "outputs": [
    {
     "data": {
      "text/html": [
       "<div>\n",
       "<style scoped>\n",
       "    .dataframe tbody tr th:only-of-type {\n",
       "        vertical-align: middle;\n",
       "    }\n",
       "\n",
       "    .dataframe tbody tr th {\n",
       "        vertical-align: top;\n",
       "    }\n",
       "\n",
       "    .dataframe thead th {\n",
       "        text-align: right;\n",
       "    }\n",
       "</style>\n",
       "<table border=\"1\" class=\"dataframe\">\n",
       "  <thead>\n",
       "    <tr style=\"text-align: right;\">\n",
       "      <th></th>\n",
       "      <th>genhlth</th>\n",
       "      <th>exerany</th>\n",
       "    </tr>\n",
       "  </thead>\n",
       "  <tbody>\n",
       "    <tr>\n",
       "      <th>0</th>\n",
       "      <td>good</td>\n",
       "      <td>0</td>\n",
       "    </tr>\n",
       "    <tr>\n",
       "      <th>1</th>\n",
       "      <td>good</td>\n",
       "      <td>0</td>\n",
       "    </tr>\n",
       "    <tr>\n",
       "      <th>2</th>\n",
       "      <td>good</td>\n",
       "      <td>1</td>\n",
       "    </tr>\n",
       "    <tr>\n",
       "      <th>3</th>\n",
       "      <td>good</td>\n",
       "      <td>1</td>\n",
       "    </tr>\n",
       "    <tr>\n",
       "      <th>4</th>\n",
       "      <td>very good</td>\n",
       "      <td>0</td>\n",
       "    </tr>\n",
       "    <tr>\n",
       "      <th>5</th>\n",
       "      <td>very good</td>\n",
       "      <td>1</td>\n",
       "    </tr>\n",
       "    <tr>\n",
       "      <th>6</th>\n",
       "      <td>very good</td>\n",
       "      <td>1</td>\n",
       "    </tr>\n",
       "    <tr>\n",
       "      <th>7</th>\n",
       "      <td>very good</td>\n",
       "      <td>0</td>\n",
       "    </tr>\n",
       "    <tr>\n",
       "      <th>8</th>\n",
       "      <td>good</td>\n",
       "      <td>0</td>\n",
       "    </tr>\n",
       "    <tr>\n",
       "      <th>9</th>\n",
       "      <td>good</td>\n",
       "      <td>1</td>\n",
       "    </tr>\n",
       "  </tbody>\n",
       "</table>\n",
       "</div>"
      ],
      "text/plain": [
       "     genhlth  exerany\n",
       "0       good        0\n",
       "1       good        0\n",
       "2       good        1\n",
       "3       good        1\n",
       "4  very good        0\n",
       "5  very good        1\n",
       "6  very good        1\n",
       "7  very good        0\n",
       "8       good        0\n",
       "9       good        1"
      ]
     },
     "execution_count": 8,
     "metadata": {},
     "output_type": "execute_result"
    }
   ],
   "source": [
    "# iloc is the same but uses integer indices for columns\n",
    "# select the first 10 rows and the first two columns\n",
    "df.iloc[0:10,0:2]"
   ]
  },
  {
   "cell_type": "markdown",
   "metadata": {},
   "source": [
    "### Slicing and indexing &mdash; shortcuts"
   ]
  },
  {
   "cell_type": "code",
   "execution_count": 9,
   "metadata": {},
   "outputs": [
    {
     "data": {
      "text/html": [
       "<div>\n",
       "<style scoped>\n",
       "    .dataframe tbody tr th:only-of-type {\n",
       "        vertical-align: middle;\n",
       "    }\n",
       "\n",
       "    .dataframe tbody tr th {\n",
       "        vertical-align: top;\n",
       "    }\n",
       "\n",
       "    .dataframe thead th {\n",
       "        text-align: right;\n",
       "    }\n",
       "</style>\n",
       "<table border=\"1\" class=\"dataframe\">\n",
       "  <thead>\n",
       "    <tr style=\"text-align: right;\">\n",
       "      <th></th>\n",
       "      <th>genhlth</th>\n",
       "      <th>exerany</th>\n",
       "      <th>hlthplan</th>\n",
       "      <th>smoke100</th>\n",
       "      <th>height</th>\n",
       "      <th>weight</th>\n",
       "      <th>wtdesire</th>\n",
       "      <th>age</th>\n",
       "      <th>gender</th>\n",
       "    </tr>\n",
       "  </thead>\n",
       "  <tbody>\n",
       "    <tr>\n",
       "      <th>0</th>\n",
       "      <td>good</td>\n",
       "      <td>0</td>\n",
       "      <td>1</td>\n",
       "      <td>0</td>\n",
       "      <td>70</td>\n",
       "      <td>175</td>\n",
       "      <td>175</td>\n",
       "      <td>77</td>\n",
       "      <td>m</td>\n",
       "    </tr>\n",
       "    <tr>\n",
       "      <th>1</th>\n",
       "      <td>good</td>\n",
       "      <td>0</td>\n",
       "      <td>1</td>\n",
       "      <td>1</td>\n",
       "      <td>64</td>\n",
       "      <td>125</td>\n",
       "      <td>115</td>\n",
       "      <td>33</td>\n",
       "      <td>f</td>\n",
       "    </tr>\n",
       "    <tr>\n",
       "      <th>2</th>\n",
       "      <td>good</td>\n",
       "      <td>1</td>\n",
       "      <td>1</td>\n",
       "      <td>1</td>\n",
       "      <td>60</td>\n",
       "      <td>105</td>\n",
       "      <td>105</td>\n",
       "      <td>49</td>\n",
       "      <td>f</td>\n",
       "    </tr>\n",
       "    <tr>\n",
       "      <th>3</th>\n",
       "      <td>good</td>\n",
       "      <td>1</td>\n",
       "      <td>1</td>\n",
       "      <td>0</td>\n",
       "      <td>66</td>\n",
       "      <td>132</td>\n",
       "      <td>124</td>\n",
       "      <td>42</td>\n",
       "      <td>f</td>\n",
       "    </tr>\n",
       "    <tr>\n",
       "      <th>4</th>\n",
       "      <td>very good</td>\n",
       "      <td>0</td>\n",
       "      <td>1</td>\n",
       "      <td>0</td>\n",
       "      <td>61</td>\n",
       "      <td>150</td>\n",
       "      <td>130</td>\n",
       "      <td>55</td>\n",
       "      <td>f</td>\n",
       "    </tr>\n",
       "    <tr>\n",
       "      <th>5</th>\n",
       "      <td>very good</td>\n",
       "      <td>1</td>\n",
       "      <td>1</td>\n",
       "      <td>0</td>\n",
       "      <td>64</td>\n",
       "      <td>114</td>\n",
       "      <td>114</td>\n",
       "      <td>55</td>\n",
       "      <td>f</td>\n",
       "    </tr>\n",
       "    <tr>\n",
       "      <th>6</th>\n",
       "      <td>very good</td>\n",
       "      <td>1</td>\n",
       "      <td>1</td>\n",
       "      <td>0</td>\n",
       "      <td>71</td>\n",
       "      <td>194</td>\n",
       "      <td>185</td>\n",
       "      <td>31</td>\n",
       "      <td>m</td>\n",
       "    </tr>\n",
       "    <tr>\n",
       "      <th>7</th>\n",
       "      <td>very good</td>\n",
       "      <td>0</td>\n",
       "      <td>1</td>\n",
       "      <td>0</td>\n",
       "      <td>67</td>\n",
       "      <td>170</td>\n",
       "      <td>160</td>\n",
       "      <td>45</td>\n",
       "      <td>m</td>\n",
       "    </tr>\n",
       "    <tr>\n",
       "      <th>8</th>\n",
       "      <td>good</td>\n",
       "      <td>0</td>\n",
       "      <td>1</td>\n",
       "      <td>1</td>\n",
       "      <td>65</td>\n",
       "      <td>150</td>\n",
       "      <td>130</td>\n",
       "      <td>27</td>\n",
       "      <td>f</td>\n",
       "    </tr>\n",
       "    <tr>\n",
       "      <th>9</th>\n",
       "      <td>good</td>\n",
       "      <td>1</td>\n",
       "      <td>1</td>\n",
       "      <td>0</td>\n",
       "      <td>70</td>\n",
       "      <td>180</td>\n",
       "      <td>170</td>\n",
       "      <td>44</td>\n",
       "      <td>m</td>\n",
       "    </tr>\n",
       "  </tbody>\n",
       "</table>\n",
       "</div>"
      ],
      "text/plain": [
       "     genhlth  exerany  hlthplan  smoke100  height  weight  wtdesire  age  \\\n",
       "0       good        0         1         0      70     175       175   77   \n",
       "1       good        0         1         1      64     125       115   33   \n",
       "2       good        1         1         1      60     105       105   49   \n",
       "3       good        1         1         0      66     132       124   42   \n",
       "4  very good        0         1         0      61     150       130   55   \n",
       "5  very good        1         1         0      64     114       114   55   \n",
       "6  very good        1         1         0      71     194       185   31   \n",
       "7  very good        0         1         0      67     170       160   45   \n",
       "8       good        0         1         1      65     150       130   27   \n",
       "9       good        1         1         0      70     180       170   44   \n",
       "\n",
       "  gender  \n",
       "0      m  \n",
       "1      f  \n",
       "2      f  \n",
       "3      f  \n",
       "4      f  \n",
       "5      f  \n",
       "6      m  \n",
       "7      m  \n",
       "8      f  \n",
       "9      m  "
      ]
     },
     "execution_count": 9,
     "metadata": {},
     "output_type": "execute_result"
    }
   ],
   "source": [
    "# equivalent to df.iloc[0:10] -- selects first 10 rows\n",
    "df[0:10]"
   ]
  },
  {
   "cell_type": "code",
   "execution_count": 10,
   "metadata": {},
   "outputs": [
    {
     "data": {
      "text/html": [
       "<div>\n",
       "<style scoped>\n",
       "    .dataframe tbody tr th:only-of-type {\n",
       "        vertical-align: middle;\n",
       "    }\n",
       "\n",
       "    .dataframe tbody tr th {\n",
       "        vertical-align: top;\n",
       "    }\n",
       "\n",
       "    .dataframe thead th {\n",
       "        text-align: right;\n",
       "    }\n",
       "</style>\n",
       "<table border=\"1\" class=\"dataframe\">\n",
       "  <thead>\n",
       "    <tr style=\"text-align: right;\">\n",
       "      <th></th>\n",
       "      <th>smoke100</th>\n",
       "      <th>weight</th>\n",
       "    </tr>\n",
       "  </thead>\n",
       "  <tbody>\n",
       "    <tr>\n",
       "      <th>0</th>\n",
       "      <td>0</td>\n",
       "      <td>175</td>\n",
       "    </tr>\n",
       "    <tr>\n",
       "      <th>1</th>\n",
       "      <td>1</td>\n",
       "      <td>125</td>\n",
       "    </tr>\n",
       "    <tr>\n",
       "      <th>2</th>\n",
       "      <td>1</td>\n",
       "      <td>105</td>\n",
       "    </tr>\n",
       "    <tr>\n",
       "      <th>3</th>\n",
       "      <td>0</td>\n",
       "      <td>132</td>\n",
       "    </tr>\n",
       "    <tr>\n",
       "      <th>4</th>\n",
       "      <td>0</td>\n",
       "      <td>150</td>\n",
       "    </tr>\n",
       "  </tbody>\n",
       "</table>\n",
       "</div>"
      ],
      "text/plain": [
       "   smoke100  weight\n",
       "0         0     175\n",
       "1         1     125\n",
       "2         1     105\n",
       "3         0     132\n",
       "4         0     150"
      ]
     },
     "execution_count": 10,
     "metadata": {},
     "output_type": "execute_result"
    }
   ],
   "source": [
    "# equivalent to df.loc[:,[\"smoke100\",\"weight\"]]\n",
    "df[[\"smoke100\",\"weight\"]].head()"
   ]
  },
  {
   "cell_type": "code",
   "execution_count": 11,
   "metadata": {},
   "outputs": [
    {
     "data": {
      "text/plain": [
       "0    0\n",
       "1    1\n",
       "2    1\n",
       "3    0\n",
       "4    0\n",
       "5    0\n",
       "6    0\n",
       "Name: smoke100, dtype: int64"
      ]
     },
     "execution_count": 11,
     "metadata": {},
     "output_type": "execute_result"
    }
   ],
   "source": [
    "# selects the first 7 elements of column `smoke100'\n",
    "df.smoke100[0:7]"
   ]
  },
  {
   "cell_type": "markdown",
   "metadata": {},
   "source": [
    "### Select by condition\n",
    "\n",
    "* Similarly to numpy array, we can select rows of a dataframe using conditions on variables.\n",
    "* Same mechanism of mupy: we generate Boolean series that correspond to the result of our query "
   ]
  },
  {
   "cell_type": "code",
   "execution_count": 12,
   "metadata": {},
   "outputs": [
    {
     "data": {
      "text/html": [
       "<div>\n",
       "<style scoped>\n",
       "    .dataframe tbody tr th:only-of-type {\n",
       "        vertical-align: middle;\n",
       "    }\n",
       "\n",
       "    .dataframe tbody tr th {\n",
       "        vertical-align: top;\n",
       "    }\n",
       "\n",
       "    .dataframe thead th {\n",
       "        text-align: right;\n",
       "    }\n",
       "</style>\n",
       "<table border=\"1\" class=\"dataframe\">\n",
       "  <thead>\n",
       "    <tr style=\"text-align: right;\">\n",
       "      <th></th>\n",
       "      <th>genhlth</th>\n",
       "      <th>exerany</th>\n",
       "      <th>hlthplan</th>\n",
       "      <th>smoke100</th>\n",
       "      <th>height</th>\n",
       "      <th>weight</th>\n",
       "      <th>wtdesire</th>\n",
       "      <th>age</th>\n",
       "      <th>gender</th>\n",
       "    </tr>\n",
       "  </thead>\n",
       "  <tbody>\n",
       "    <tr>\n",
       "      <th>1</th>\n",
       "      <td>good</td>\n",
       "      <td>0</td>\n",
       "      <td>1</td>\n",
       "      <td>1</td>\n",
       "      <td>64</td>\n",
       "      <td>125</td>\n",
       "      <td>115</td>\n",
       "      <td>33</td>\n",
       "      <td>f</td>\n",
       "    </tr>\n",
       "    <tr>\n",
       "      <th>2</th>\n",
       "      <td>good</td>\n",
       "      <td>1</td>\n",
       "      <td>1</td>\n",
       "      <td>1</td>\n",
       "      <td>60</td>\n",
       "      <td>105</td>\n",
       "      <td>105</td>\n",
       "      <td>49</td>\n",
       "      <td>f</td>\n",
       "    </tr>\n",
       "    <tr>\n",
       "      <th>3</th>\n",
       "      <td>good</td>\n",
       "      <td>1</td>\n",
       "      <td>1</td>\n",
       "      <td>0</td>\n",
       "      <td>66</td>\n",
       "      <td>132</td>\n",
       "      <td>124</td>\n",
       "      <td>42</td>\n",
       "      <td>f</td>\n",
       "    </tr>\n",
       "    <tr>\n",
       "      <th>4</th>\n",
       "      <td>very good</td>\n",
       "      <td>0</td>\n",
       "      <td>1</td>\n",
       "      <td>0</td>\n",
       "      <td>61</td>\n",
       "      <td>150</td>\n",
       "      <td>130</td>\n",
       "      <td>55</td>\n",
       "      <td>f</td>\n",
       "    </tr>\n",
       "    <tr>\n",
       "      <th>5</th>\n",
       "      <td>very good</td>\n",
       "      <td>1</td>\n",
       "      <td>1</td>\n",
       "      <td>0</td>\n",
       "      <td>64</td>\n",
       "      <td>114</td>\n",
       "      <td>114</td>\n",
       "      <td>55</td>\n",
       "      <td>f</td>\n",
       "    </tr>\n",
       "  </tbody>\n",
       "</table>\n",
       "</div>"
      ],
      "text/plain": [
       "     genhlth  exerany  hlthplan  smoke100  height  weight  wtdesire  age  \\\n",
       "1       good        0         1         1      64     125       115   33   \n",
       "2       good        1         1         1      60     105       105   49   \n",
       "3       good        1         1         0      66     132       124   42   \n",
       "4  very good        0         1         0      61     150       130   55   \n",
       "5  very good        1         1         0      64     114       114   55   \n",
       "\n",
       "  gender  \n",
       "1      f  \n",
       "2      f  \n",
       "3      f  \n",
       "4      f  \n",
       "5      f  "
      ]
     },
     "execution_count": 12,
     "metadata": {},
     "output_type": "execute_result"
    }
   ],
   "source": [
    "# select all the females\n",
    "females = df.gender == 'f'\n",
    "\n",
    "# select all people older than 30\n",
    "over30 = df.age > 30\n",
    "\n",
    "# select from the original dataframe only the 30+ yo women\n",
    "df[females & over30].head()"
   ]
  },
  {
   "cell_type": "code",
   "execution_count": 13,
   "metadata": {},
   "outputs": [
    {
     "data": {
      "text/html": [
       "<div>\n",
       "<style scoped>\n",
       "    .dataframe tbody tr th:only-of-type {\n",
       "        vertical-align: middle;\n",
       "    }\n",
       "\n",
       "    .dataframe tbody tr th {\n",
       "        vertical-align: top;\n",
       "    }\n",
       "\n",
       "    .dataframe thead th {\n",
       "        text-align: right;\n",
       "    }\n",
       "</style>\n",
       "<table border=\"1\" class=\"dataframe\">\n",
       "  <thead>\n",
       "    <tr style=\"text-align: right;\">\n",
       "      <th></th>\n",
       "      <th>genhlth</th>\n",
       "      <th>exerany</th>\n",
       "      <th>hlthplan</th>\n",
       "      <th>smoke100</th>\n",
       "      <th>height</th>\n",
       "      <th>weight</th>\n",
       "      <th>wtdesire</th>\n",
       "      <th>age</th>\n",
       "      <th>gender</th>\n",
       "    </tr>\n",
       "  </thead>\n",
       "  <tbody>\n",
       "    <tr>\n",
       "      <th>90</th>\n",
       "      <td>fair</td>\n",
       "      <td>1</td>\n",
       "      <td>1</td>\n",
       "      <td>1</td>\n",
       "      <td>71</td>\n",
       "      <td>265</td>\n",
       "      <td>165</td>\n",
       "      <td>46</td>\n",
       "      <td>m</td>\n",
       "    </tr>\n",
       "    <tr>\n",
       "      <th>120</th>\n",
       "      <td>very good</td>\n",
       "      <td>0</td>\n",
       "      <td>1</td>\n",
       "      <td>0</td>\n",
       "      <td>67</td>\n",
       "      <td>280</td>\n",
       "      <td>200</td>\n",
       "      <td>22</td>\n",
       "      <td>m</td>\n",
       "    </tr>\n",
       "    <tr>\n",
       "      <th>138</th>\n",
       "      <td>very good</td>\n",
       "      <td>1</td>\n",
       "      <td>1</td>\n",
       "      <td>0</td>\n",
       "      <td>68</td>\n",
       "      <td>250</td>\n",
       "      <td>185</td>\n",
       "      <td>44</td>\n",
       "      <td>m</td>\n",
       "    </tr>\n",
       "    <tr>\n",
       "      <th>178</th>\n",
       "      <td>excellent</td>\n",
       "      <td>0</td>\n",
       "      <td>1</td>\n",
       "      <td>1</td>\n",
       "      <td>70</td>\n",
       "      <td>235</td>\n",
       "      <td>175</td>\n",
       "      <td>56</td>\n",
       "      <td>m</td>\n",
       "    </tr>\n",
       "    <tr>\n",
       "      <th>278</th>\n",
       "      <td>very good</td>\n",
       "      <td>1</td>\n",
       "      <td>1</td>\n",
       "      <td>0</td>\n",
       "      <td>76</td>\n",
       "      <td>330</td>\n",
       "      <td>250</td>\n",
       "      <td>38</td>\n",
       "      <td>m</td>\n",
       "    </tr>\n",
       "  </tbody>\n",
       "</table>\n",
       "</div>"
      ],
      "text/plain": [
       "       genhlth  exerany  hlthplan  smoke100  height  weight  wtdesire  age  \\\n",
       "90        fair        1         1         1      71     265       165   46   \n",
       "120  very good        0         1         0      67     280       200   22   \n",
       "138  very good        1         1         0      68     250       185   44   \n",
       "178  excellent        0         1         1      70     235       175   56   \n",
       "278  very good        1         1         0      76     330       250   38   \n",
       "\n",
       "    gender  \n",
       "90       m  \n",
       "120      m  \n",
       "138      m  \n",
       "178      m  \n",
       "278      m  "
      ]
     },
     "execution_count": 13,
     "metadata": {},
     "output_type": "execute_result"
    }
   ],
   "source": [
    "# note that selection by condition can be done inline\n",
    "# the code below selects all men whose desired weight \n",
    "#     is lower than 80% of their actual weight\n",
    "df[(df.gender=='m') & (df.wtdesire < df.weight*0.8)].head()"
   ]
  },
  {
   "cell_type": "markdown",
   "metadata": {},
   "source": [
    "The `unique` function returns the unique values of a given column. "
   ]
  },
  {
   "cell_type": "code",
   "execution_count": 14,
   "metadata": {},
   "outputs": [
    {
     "data": {
      "text/plain": [
       "array(['good', 'very good', 'excellent', 'fair', 'poor'], dtype=object)"
      ]
     },
     "execution_count": 14,
     "metadata": {},
     "output_type": "execute_result"
    }
   ],
   "source": [
    "# return the unique values of genhlth\n",
    "df.genhlth.unique()"
   ]
  },
  {
   "cell_type": "code",
   "execution_count": 15,
   "metadata": {},
   "outputs": [
    {
     "data": {
      "text/plain": [
       "genhlth     0\n",
       "exerany     0\n",
       "hlthplan    0\n",
       "smoke100    0\n",
       "height      0\n",
       "weight      0\n",
       "wtdesire    0\n",
       "age         0\n",
       "gender      0\n",
       "dtype: int64"
      ]
     },
     "execution_count": 15,
     "metadata": {},
     "output_type": "execute_result"
    }
   ],
   "source": [
    "pd.isnull(df).sum()"
   ]
  },
  {
   "cell_type": "markdown",
   "metadata": {},
   "source": [
    "### Descriptive statistics"
   ]
  },
  {
   "cell_type": "markdown",
   "metadata": {},
   "source": [
    "When dealing with large data sets, like the BRFSS questionnaire, a preliminary analysis can be to look into summary statistics (e.g., mean, standard deviation, etc)\n",
    "* Panda's `describe` function returns a summary of these statistics (similar to R's `summary`). See [docs](https://pandas.pydata.org/pandas-docs/stable/reference/api/pandas.DataFrame.describe.html)\n",
    "* Let's use it to compute some sample statistics for our case study"
   ]
  },
  {
   "cell_type": "code",
   "execution_count": 16,
   "metadata": {},
   "outputs": [
    {
     "data": {
      "text/plain": [
       "count    20000.00000\n",
       "mean       169.68295\n",
       "std         40.08097\n",
       "min         68.00000\n",
       "25%        140.00000\n",
       "50%        165.00000\n",
       "75%        190.00000\n",
       "max        500.00000\n",
       "Name: weight, dtype: float64"
      ]
     },
     "execution_count": 16,
     "metadata": {},
     "output_type": "execute_result"
    }
   ],
   "source": [
    "# see summary statistics of weight column\n",
    "# it returns count, mean, std, min/max, and 25%,50%,75% percentiles\n",
    "df.weight.describe()"
   ]
  },
  {
   "cell_type": "code",
   "execution_count": 17,
   "metadata": {},
   "outputs": [
    {
     "data": {
      "text/plain": [
       "count    20000.00000\n",
       "mean       169.68295\n",
       "std         40.08097\n",
       "min         68.00000\n",
       "10%        124.00000\n",
       "20%        135.00000\n",
       "30.0%      145.00000\n",
       "40%        155.00000\n",
       "50%        165.00000\n",
       "60%        175.00000\n",
       "70%        185.00000\n",
       "80%        200.00000\n",
       "90%        220.00000\n",
       "max        500.00000\n",
       "Name: weight, dtype: float64"
      ]
     },
     "execution_count": 17,
     "metadata": {},
     "output_type": "execute_result"
    }
   ],
   "source": [
    "# to know specific percentiles, specify them as first argument\n",
    "# here we ask for the 10%,20%,...,90%\n",
    "pctls = np.arange(0.1, 1, 0.1)\n",
    "df.weight.describe(pctls)"
   ]
  },
  {
   "cell_type": "markdown",
   "metadata": {},
   "source": [
    "One can obtain individual statistics by calling the functions `mean`, `std`, `max`, `min`, etc"
   ]
  },
  {
   "cell_type": "code",
   "execution_count": 18,
   "metadata": {},
   "outputs": [
    {
     "name": "stdout",
     "output_type": "stream",
     "text": [
      "169.68295\n",
      "40.080969967120254\n",
      "500\n",
      "68\n",
      "20000\n"
     ]
    }
   ],
   "source": [
    "print(df.weight.mean())\n",
    "print(df.weight.std())\n",
    "print(df.weight.max())\n",
    "print(df.weight.min())\n",
    "print(df.weight.count())"
   ]
  },
  {
   "cell_type": "markdown",
   "metadata": {},
   "source": [
    "### Contingency tables \n",
    "\n",
    "* Recall: contingency tables are a way of showing multi-variate categorical data\n",
    "    * they show counts/frequencies w.r.t. all possible combination of two or more variables\n",
    "* In pandas, we use the function `crosstab`\n"
   ]
  },
  {
   "cell_type": "markdown",
   "metadata": {},
   "source": [
    "Let's now look at the contingency table of variables `smoke100` (whether participant smoked 100 cigarettes in their lifetime) and `exerany` (whether they exercised in the last month)"
   ]
  },
  {
   "cell_type": "code",
   "execution_count": 19,
   "metadata": {},
   "outputs": [
    {
     "data": {
      "text/html": [
       "<div>\n",
       "<style scoped>\n",
       "    .dataframe tbody tr th:only-of-type {\n",
       "        vertical-align: middle;\n",
       "    }\n",
       "\n",
       "    .dataframe tbody tr th {\n",
       "        vertical-align: top;\n",
       "    }\n",
       "\n",
       "    .dataframe thead th {\n",
       "        text-align: right;\n",
       "    }\n",
       "</style>\n",
       "<table border=\"1\" class=\"dataframe\">\n",
       "  <thead>\n",
       "    <tr style=\"text-align: right;\">\n",
       "      <th>exerany</th>\n",
       "      <th>0</th>\n",
       "      <th>1</th>\n",
       "    </tr>\n",
       "    <tr>\n",
       "      <th>smoke100</th>\n",
       "      <th></th>\n",
       "      <th></th>\n",
       "    </tr>\n",
       "  </thead>\n",
       "  <tbody>\n",
       "    <tr>\n",
       "      <th>0</th>\n",
       "      <td>2543</td>\n",
       "      <td>8016</td>\n",
       "    </tr>\n",
       "    <tr>\n",
       "      <th>1</th>\n",
       "      <td>2543</td>\n",
       "      <td>6898</td>\n",
       "    </tr>\n",
       "  </tbody>\n",
       "</table>\n",
       "</div>"
      ],
      "text/plain": [
       "exerany      0     1\n",
       "smoke100            \n",
       "0         2543  8016\n",
       "1         2543  6898"
      ]
     },
     "execution_count": 19,
     "metadata": {},
     "output_type": "execute_result"
    }
   ],
   "source": [
    "smoke_vs_exercise = pd.crosstab(index=df.smoke100, columns=df.exerany)\n",
    "smoke_vs_exercise"
   ]
  },
  {
   "cell_type": "markdown",
   "metadata": {},
   "source": [
    "* To obtain the frequency (aka empirical) distribution, just set parameter `normalize=True`\n",
    "* To show marginals (i.e., partial counts/frequencies), set `margins=True`"
   ]
  },
  {
   "cell_type": "code",
   "execution_count": 20,
   "metadata": {},
   "outputs": [
    {
     "data": {
      "text/html": [
       "<div>\n",
       "<style scoped>\n",
       "    .dataframe tbody tr th:only-of-type {\n",
       "        vertical-align: middle;\n",
       "    }\n",
       "\n",
       "    .dataframe tbody tr th {\n",
       "        vertical-align: top;\n",
       "    }\n",
       "\n",
       "    .dataframe thead th {\n",
       "        text-align: right;\n",
       "    }\n",
       "</style>\n",
       "<table border=\"1\" class=\"dataframe\">\n",
       "  <thead>\n",
       "    <tr style=\"text-align: right;\">\n",
       "      <th>exerany</th>\n",
       "      <th>0</th>\n",
       "      <th>1</th>\n",
       "    </tr>\n",
       "    <tr>\n",
       "      <th>smoke100</th>\n",
       "      <th></th>\n",
       "      <th></th>\n",
       "    </tr>\n",
       "  </thead>\n",
       "  <tbody>\n",
       "    <tr>\n",
       "      <th>0</th>\n",
       "      <td>0.12715</td>\n",
       "      <td>0.4008</td>\n",
       "    </tr>\n",
       "    <tr>\n",
       "      <th>1</th>\n",
       "      <td>0.12715</td>\n",
       "      <td>0.3449</td>\n",
       "    </tr>\n",
       "  </tbody>\n",
       "</table>\n",
       "</div>"
      ],
      "text/plain": [
       "exerany         0       1\n",
       "smoke100                 \n",
       "0         0.12715  0.4008\n",
       "1         0.12715  0.3449"
      ]
     },
     "execution_count": 20,
     "metadata": {},
     "output_type": "execute_result"
    }
   ],
   "source": [
    "# normalize to frequencies\n",
    "smoke_vs_exercise = pd.crosstab(index=df.smoke100, columns=df.exerany, normalize=True)\n",
    "smoke_vs_exercise"
   ]
  },
  {
   "cell_type": "code",
   "execution_count": 21,
   "metadata": {},
   "outputs": [
    {
     "data": {
      "text/html": [
       "<div>\n",
       "<style scoped>\n",
       "    .dataframe tbody tr th:only-of-type {\n",
       "        vertical-align: middle;\n",
       "    }\n",
       "\n",
       "    .dataframe tbody tr th {\n",
       "        vertical-align: top;\n",
       "    }\n",
       "\n",
       "    .dataframe thead th {\n",
       "        text-align: right;\n",
       "    }\n",
       "</style>\n",
       "<table border=\"1\" class=\"dataframe\">\n",
       "  <thead>\n",
       "    <tr style=\"text-align: right;\">\n",
       "      <th>exerany</th>\n",
       "      <th>0</th>\n",
       "      <th>1</th>\n",
       "      <th>All</th>\n",
       "    </tr>\n",
       "    <tr>\n",
       "      <th>smoke100</th>\n",
       "      <th></th>\n",
       "      <th></th>\n",
       "      <th></th>\n",
       "    </tr>\n",
       "  </thead>\n",
       "  <tbody>\n",
       "    <tr>\n",
       "      <th>0</th>\n",
       "      <td>0.12715</td>\n",
       "      <td>0.4008</td>\n",
       "      <td>0.52795</td>\n",
       "    </tr>\n",
       "    <tr>\n",
       "      <th>1</th>\n",
       "      <td>0.12715</td>\n",
       "      <td>0.3449</td>\n",
       "      <td>0.47205</td>\n",
       "    </tr>\n",
       "    <tr>\n",
       "      <th>All</th>\n",
       "      <td>0.25430</td>\n",
       "      <td>0.7457</td>\n",
       "      <td>1.00000</td>\n",
       "    </tr>\n",
       "  </tbody>\n",
       "</table>\n",
       "</div>"
      ],
      "text/plain": [
       "exerany         0       1      All\n",
       "smoke100                          \n",
       "0         0.12715  0.4008  0.52795\n",
       "1         0.12715  0.3449  0.47205\n",
       "All       0.25430  0.7457  1.00000"
      ]
     },
     "execution_count": 21,
     "metadata": {},
     "output_type": "execute_result"
    }
   ],
   "source": [
    "# normalize to frequencies and show marginals\n",
    "pd.crosstab(index=df.smoke100, columns=df.exerany, normalize=True, margins=True)"
   ]
  },
  {
   "cell_type": "markdown",
   "metadata": {},
   "source": [
    "## Plotting with MatPlotLib and Seaborn"
   ]
  },
  {
   "cell_type": "markdown",
   "metadata": {},
   "source": [
    "* MatPlotLib is one of the main plotting libraries for Python\n",
    "* The `pyplot` module of MatPlotLib provides features similar to MATLAB's plotting interface\n",
    "    * including barplots, scatterplots, lineplots, etc\n",
    "* Seaborn is based on MatPlotLib, but provides a simpler interface for statistical data visualization\n",
    "* Let's look at `pyplot` first"
   ]
  },
  {
   "cell_type": "code",
   "execution_count": 24,
   "metadata": {},
   "outputs": [
    {
     "data": {
      "text/plain": [
       "smoke100\n",
       "0    0.52795\n",
       "1    0.47205\n",
       "dtype: float64"
      ]
     },
     "execution_count": 24,
     "metadata": {},
     "output_type": "execute_result"
    }
   ],
   "source": [
    "# plt is the default alias for pyplot \n",
    "import matplotlib.pyplot as plt\n",
    "# below is an 'IPython magic function' that ensures \n",
    "# correct visualization of plots in jupyter notebooks\n",
    "%matplotlib inline\n",
    "\n",
    "# let's do a barplot of the frequencies of smoke100\n",
    "# we can re-use our previous contingency table and\n",
    "#     compute marginals by column-wise sum\n",
    "smoke = np.sum(smoke_vs_exercise, axis=1)\n",
    "smoke"
   ]
  },
  {
   "cell_type": "code",
   "execution_count": 23,
   "metadata": {},
   "outputs": [
    {
     "data": {
      "image/png": "[encoded data removed]",
      "text/plain": [
       "<Figure size 432x288 with 1 Axes>"
      ]
     },
     "metadata": {
      "needs_background": "light"
     },
     "output_type": "display_data"
    }
   ],
   "source": [
    "# plots a bar plot where [0,1] are the x-coordinates \n",
    "#     and the height of the bars are given by `smoke`\n",
    "plt.bar([0,1], smoke)\n",
    "plt.show()"
   ]
  },
  {
   "cell_type": "code",
   "execution_count": 25,
   "metadata": {},
   "outputs": [
    {
     "data": {
      "image/png": "[encoded data removed]",
      "text/plain": [
       "<Figure size 432x288 with 1 Axes>"
      ]
     },
     "metadata": {
      "needs_background": "light"
     },
     "output_type": "display_data"
    }
   ],
   "source": [
    "# let's improve its looks:\n",
    "# change colors, set x and y labels, title, y ranges, x ticks\n",
    "plt.bar([0,1], smoke, color='#44C3C4', edgecolor='#1C5152')\n",
    "plt.title('Smoker100 frequency distribution')\n",
    "plt.xlabel('Smoker?')\n",
    "plt.ylabel('Probability')\n",
    "plt.xticks([0,1])\n",
    "plt.ylim([0,1])\n",
    "plt.show()"
   ]
  },
  {
   "cell_type": "markdown",
   "metadata": {},
   "source": [
    "### Plotting with Seaborn"
   ]
  },
  {
   "cell_type": "markdown",
   "metadata": {},
   "source": [
    "#### Histograms and countplots\n",
    "* `distplot` creates a frequency histogram directly from the variable\n",
    "* `countplot` does the same but reports counts (instead of frequencies)"
   ]
  },
  {
   "cell_type": "code",
   "execution_count": 26,
   "metadata": {},
   "outputs": [
    {
     "data": {
      "image/png": "[encoded data removed]",
      "text/plain": [
       "<Figure size 432x288 with 1 Axes>"
      ]
     },
     "metadata": {
      "needs_background": "light"
     },
     "output_type": "display_data"
    },
    {
     "data": {
      "image/png": "[encoded data removed]",
      "text/plain": [
       "<Figure size 432x288 with 1 Axes>"
      ]
     },
     "metadata": {
      "needs_background": "light"
     },
     "output_type": "display_data"
    }
   ],
   "source": [
    "import seaborn as sns\n",
    "import matplotlib.pyplot as plt\n",
    "import pandas as pd\n",
    "\n",
    "# create frequency histogram for weight\n",
    "sns.distplot(df.weight)\n",
    "# note that we still call show() from pyplot\n",
    "plt.show()\n",
    "\n",
    "# create a slightly modified version with manual bins\n",
    "#     and without the smooth approximation of the frequencies,\n",
    "#     i.e., kernel density estimation (kde=False)\n",
    "sns.distplot(df.weight, bins=np.arange(0,1000,10), kde=False, norm_hist=True)\n",
    "# when setting kde=False, you need to specify norm_hist=True \n",
    "#     to plot frequencies instead of counts\n",
    "\n",
    "# plot alongside the weights of females\n",
    "f_weights = df.weight[df.gender=='f']\n",
    "sns.distplot(f_weights, bins=np.arange(0,1000,10), kde=False, norm_hist=True)\n",
    "\n",
    "# being on top of matplotlib we can use previous commands to modify legend, title, etc\n",
    "plt.title('Weight distributions')\n",
    "plt.legend(['All', 'Females'])\n",
    "plt.show()"
   ]
  },
  {
   "cell_type": "code",
   "execution_count": 27,
   "metadata": {},
   "outputs": [
    {
     "data": {
      "image/png": "[encoded data removed]",
      "text/plain": [
       "<Figure size 432x288 with 1 Axes>"
      ]
     },
     "metadata": {
      "needs_background": "light"
     },
     "output_type": "display_data"
    },
    {
     "data": {
      "image/png": "[encoded data removed]",
      "text/plain": [
       "<Figure size 432x288 with 1 Axes>"
      ]
     },
     "metadata": {
      "needs_background": "light"
     },
     "output_type": "display_data"
    }
   ],
   "source": [
    "# the syntax for the count plot is slightly different\n",
    "\n",
    "# do a countplot for smoke100\n",
    "sns.countplot(x='smoke100', data=df)\n",
    "plt.show()\n",
    "\n",
    "# as we saw before, we can do count plots with distplot, \n",
    "#     but this looks not as nice\n",
    "sns.distplot(df.smoke100,kde=False, norm_hist=False)\n",
    "plt.show()"
   ]
  },
  {
   "cell_type": "markdown",
   "metadata": {},
   "source": [
    "#### Scatterplots and bivariate data\n",
    "* `scatterplot`, and \n",
    "* `jointplot` &mdash; more \"complete\" as it shows scatterplot and histograms for marginals\n",
    "    * it has options to show linear regression fit, and kde\n",
    "* In \"plain\" `pyplot`, the function is `plt.scatter`"
   ]
  },
  {
   "cell_type": "code",
   "execution_count": 28,
   "metadata": {},
   "outputs": [
    {
     "data": {
      "image/png": "[encoded data removed]",
      "text/plain": [
       "<Figure size 432x288 with 1 Axes>"
      ]
     },
     "metadata": {
      "needs_background": "light"
     },
     "output_type": "display_data"
    },
    {
     "data": {
      "image/png": "[encoded data removed]",
      "text/plain": [
       "<Figure size 432x432 with 3 Axes>"
      ]
     },
     "metadata": {
      "needs_background": "light"
     },
     "output_type": "display_data"
    },
    {
     "data": {
      "image/png": "[encoded data removed]",
      "text/plain": [
       "<Figure size 432x432 with 3 Axes>"
      ]
     },
     "metadata": {
      "needs_background": "light"
     },
     "output_type": "display_data"
    }
   ],
   "source": [
    "# select a random subset of the dataframe to better appreciate the plot\n",
    "#     using pandas' sample function (sample 500 observations)\n",
    "df_sample = df.sample(n=500)\n",
    "\n",
    "# apply scatterplot to weights and heights\n",
    "sns.scatterplot(x=\"weight\", y=\"height\", data=df_sample)\n",
    "plt.show()\n",
    "\n",
    "# apply jointplot to weights and heights\n",
    "sns.jointplot(x=\"weight\", y=\"height\", data=df_sample)\n",
    "plt.show()\n",
    "\n",
    "# now use the kind=reg parameter to show linear regression fit\n",
    "# we can see that there is a positive association\n",
    "# (transparent band indicate 95% confidence interval)\n",
    "sns.jointplot(x=\"weight\", y=\"height\", data=df_sample, kind='reg')\n",
    "plt.show()"
   ]
  },
  {
   "cell_type": "markdown",
   "metadata": {},
   "source": [
    "## Intro to scipy.stats\n",
    "\n",
    "Here we will introduce and use the module `scipy.stats` of the SciPy library (see [docs](https://docs.scipy.org/doc/scipy/reference/stats.html)) which contains a large number of continuous and discrete distributions and statistical functions."
   ]
  },
  {
   "cell_type": "markdown",
   "metadata": {},
   "source": [
    "## Continuous and discrete distributions\n",
    "\n",
    "* `scipy.stats` builds on two main classes: `rv_continuous` and `rv_discrete` which describe a generic continuous/discrete random variable. \n",
    "* all `scipy.stats` distributions are instances of `rv_continuous` and `rv_discrete`\n",
    "* `rv_continuous` and `rv_discrete` contain functions to draw random samples (function `rvs`), compute values of pdf/cdf/inverse cdf (functions `pdf`, `cdf`, `ppf`), as well as distribution parameters\n",
    "\n",
    "We will see `scipy.stats` in action on the normal distribution, a continuous one, and the binomial distribution, a discrete one."
   ]
  },
  {
   "cell_type": "code",
   "execution_count": 29,
   "metadata": {},
   "outputs": [
    {
     "name": "stdout",
     "output_type": "stream",
     "text": [
      "[-0.45554312 -0.45583271  2.25386694 -0.33311504 -1.69833681 -0.47514889\n",
      " -0.00540093  1.04912006 -0.25663936 -0.26453285]\n",
      "[10.52327686  9.17314921  9.16972082  9.07552478  9.66273958  8.44969309\n",
      " 10.65382038  8.16906546  8.63437901  6.67937138]\n"
     ]
    }
   ],
   "source": [
    "import numpy as np\n",
    "from scipy import stats\n",
    "\n",
    "# draw and print 10 random observations from the standard normal distribution N(0,1)\n",
    "# we call the rvs function on the stats.norm object\n",
    "sample_1 = stats.norm.rvs(size = 10)\n",
    "print(sample_1)\n",
    "\n",
    "# to set different mu and sigma, we use the parameters 'loc' (location) and 'scale'\n",
    "# below we draw and print 10 random observations from N(10,3)\n",
    "mu = 10\n",
    "stdev = 3\n",
    "sample_2 = stats.norm.rvs(loc=mu, scale=stdev, size = 10)\n",
    "print(sample_2)"
   ]
  },
  {
   "cell_type": "code",
   "execution_count": 30,
   "metadata": {},
   "outputs": [
    {
     "data": {
      "image/png": "[encoded data removed]",
      "text/plain": [
       "<Figure size 432x288 with 1 Axes>"
      ]
     },
     "metadata": {
      "needs_background": "light"
     },
     "output_type": "display_data"
    },
    {
     "data": {
      "image/png": "[encoded data removed]",
      "text/plain": [
       "<Figure size 432x288 with 1 Axes>"
      ]
     },
     "metadata": {
      "needs_background": "light"
     },
     "output_type": "display_data"
    }
   ],
   "source": [
    "# we can use dotplots to visualize these random samples\n",
    "# we don't need seaborn, this can be done easily in pyplot\n",
    "import matplotlib.pyplot as plt\n",
    "\n",
    "# a dotplot is a scatterplot where x = sample values, and \n",
    "#     y = 0 (or any other constant, it doesn't matter)\n",
    "plt.scatter(sample_1, np.zeros(sample_1.shape))\n",
    "plt.title('Sample 1')\n",
    "# since y axis doesn't matter, we hide them as follows\n",
    "# we first get the current axis instance (after plot creation)\n",
    "ax = plt.gca()\n",
    "# then, we hide the y component\n",
    "ax.get_yaxis().set_visible(False)\n",
    "# finally, show the plot\n",
    "plt.show()\n",
    "\n",
    "# repeat for sample 2\n",
    "plt.scatter(sample_2, np.zeros(sample_2.shape))\n",
    "plt.title('Sample 2')\n",
    "ax = plt.gca()\n",
    "ax.get_yaxis().set_visible(False)\n",
    "plt.show()"
   ]
  },
  {
   "cell_type": "code",
   "execution_count": 31,
   "metadata": {},
   "outputs": [
    {
     "data": {
      "image/png": "[encoded data removed]",
      "text/plain": [
       "<Figure size 432x288 with 1 Axes>"
      ]
     },
     "metadata": {
      "needs_background": "light"
     },
     "output_type": "display_data"
    },
    {
     "data": {
      "image/png": "[encoded data removed]",
      "text/plain": [
       "<Figure size 432x288 with 1 Axes>"
      ]
     },
     "metadata": {
      "needs_background": "light"
     },
     "output_type": "display_data"
    },
    {
     "data": {
      "image/png": "[encoded data removed]",
      "text/plain": [
       "<Figure size 432x288 with 1 Axes>"
      ]
     },
     "metadata": {
      "needs_background": "light"
     },
     "output_type": "display_data"
    }
   ],
   "source": [
    "# let's now plot the pdf, cdf, and inverse cdf of N(10,3)\n",
    "\n",
    "# first build an array of points to plot the pdf/cdf for\n",
    "#     the normal has infinite support, so we consider between \n",
    "#     -4 and +4 st.dev. around the mean\n",
    "x = np.arange(mu-4*stdev, mu+4*stdev, 0.1)\n",
    "\n",
    "# compute corresponding pdf and cdf values\n",
    "x_pdf = stats.norm.pdf(x, loc=mu, scale=stdev)\n",
    "x_pdf = stats.norm(loc=mu, scale=stdev).pdf(x) \n",
    "x_cdf = stats.norm.cdf(x, loc=mu, scale=stdev)\n",
    "\n",
    "# for simple lineplots, we can directly use pyplot and not seaborn\n",
    "plt.plot(x, x_pdf)\n",
    "# note that we can use LaTeX for nice-looking math!\n",
    "plt.title('PDF of $\\mathcal{N}(10,3)$')\n",
    "plt.xlabel('$x$')\n",
    "plt.ylabel('$f(x)$')\n",
    "plt.show()\n",
    "\n",
    "plt.plot(x, x_cdf)\n",
    "plt.title('CDF of $\\mathcal{N}(10,3)$')\n",
    "plt.xlabel('$x$')\n",
    "plt.ylabel('$F(x)$')\n",
    "plt.show()\n",
    "\n",
    "# the domain of the percentile (ppf) function is a probability value\n",
    "#     (being the inverse of the cdf)\n",
    "# note also that the ppf evaluated at exactly 1 or 0 returns ±infty \n",
    "#     (recall Gaussian has infinite support). \n",
    "# So we choose slightly smaller probability values\n",
    "probs = np.arange(0.001, 1, 0.001)\n",
    "plt.plot(probs, stats.norm.ppf(probs, loc=mu, scale=stdev))\n",
    "plt.title('Inverse CDF of $\\mathcal{N}(10,3)$')\n",
    "plt.xlabel('$p$')\n",
    "plt.ylabel('$F^{-1}(p)$')\n",
    "plt.show()"
   ]
  },
  {
   "cell_type": "markdown",
   "metadata": {},
   "source": [
    "We can also \"freeze\" the distribution to fix shape and location (to avoid re-entering them every time), as follows"
   ]
  },
  {
   "cell_type": "code",
   "execution_count": 32,
   "metadata": {},
   "outputs": [
    {
     "name": "stdout",
     "output_type": "stream",
     "text": [
      "[12.53115735 13.22151262 10.1246944  14.64832204 13.99316769 13.59475347\n",
      " 14.1090266  15.92935514  9.73047966 14.8351724 ]\n"
     ]
    }
   ],
   "source": [
    "# freeze distribution with mu and stdev\n",
    "my_norm = stats.norm(loc=mu, scale=stdev)\n",
    "print(my_norm.rvs(size=10))"
   ]
  },
  {
   "cell_type": "markdown",
   "metadata": {},
   "source": [
    "Let's now move to an example of the binomial, a discrete distribution\n",
    "\n",
    "Let's consider an example on ML accuracy: we are evaluating a ML classifier for brain tumours over 100 random images. The claimed accuracy of the classifier is $85\\%$. What's the probability that the total number of correctly classified images is at most 75?\n",
    "* We know that the number $X$ of images correctly classified over 100 images (trials) follows a binomial distribution, $X \\sim B(100,0.85)$ (each image classification is a Bernoulli trial)\n",
    "* We can compute $P(X\\leq 75)$"
   ]
  },
  {
   "cell_type": "code",
   "execution_count": 33,
   "metadata": {},
   "outputs": [
    {
     "name": "stdout",
     "output_type": "stream",
     "text": [
      "0.006080408590142886\n"
     ]
    }
   ],
   "source": [
    "# we can simply use the true CDF of the binomial\n",
    "n = 100\n",
    "p = 0.85\n",
    "p_leq_75 = stats.binom.cdf(75, n, p)\n",
    "\n",
    "print(p_leq_75)"
   ]
  },
  {
   "cell_type": "code",
   "execution_count": 34,
   "metadata": {},
   "outputs": [
    {
     "name": "stdout",
     "output_type": "stream",
     "text": [
      "0.006080408590142886\n"
     ]
    }
   ],
   "source": [
    "# let's now freeze our binomial, but in a way that remains \n",
    "#     parametric w.r.t. 'n'. \n",
    "# We can use Python's lambdas\n",
    "\n",
    "MLacc_rv = lambda n : stats.binom(n,p)\n",
    "# this code is equivalent to the above\n",
    "print(MLacc_rv(n).cdf(75))"
   ]
  },
  {
   "cell_type": "code",
   "execution_count": 35,
   "metadata": {},
   "outputs": [
    {
     "data": {
      "image/png": "[encoded data removed]",
      "text/plain": [
       "<Figure size 432x288 with 1 Axes>"
      ]
     },
     "metadata": {
      "needs_background": "light"
     },
     "output_type": "display_data"
    }
   ],
   "source": [
    "# let's also plot the pmf of the binomial\n",
    "# recall it's a discrete variable, the support is {0,1,...,n}\n",
    "# being discrete, we can use a barplot, using pyplot bar function\n",
    "\n",
    "# since the probabilities below 70 are negligible, \n",
    "#     let's consider an upper subset of the support\n",
    "x = np.arange(70, n+1, 1)\n",
    "\n",
    "plt.bar(x, MLacc_rv(n).pmf(x))\n",
    "plt.title('PMF of $\\mathcal{B}(100,0.85)$')\n",
    "plt.xlabel('$x$')\n",
    "plt.ylabel('$f(x)$')\n",
    "plt.show()"
   ]
  },
  {
   "cell_type": "markdown",
   "metadata": {},
   "source": [
    "### Area under the pdf\n",
    "* During the class, we saw some (nice) plots of pdfs with filled areas to indicate cumulative probability values\n",
    "* Here is some code to reproduce those plots\n",
    "* We'll use again the Normal distribution, but any other would work as well"
   ]
  },
  {
   "cell_type": "code",
   "execution_count": 36,
   "metadata": {},
   "outputs": [
    {
     "data": {
      "image/png": "[encoded data removed]",
      "text/plain": [
       "<Figure size 432x288 with 1 Axes>"
      ]
     },
     "metadata": {
      "needs_background": "light"
     },
     "output_type": "display_data"
    },
    {
     "data": {
      "image/png": "[encoded data removed]",
      "text/plain": [
       "<Figure size 432x288 with 1 Axes>"
      ]
     },
     "metadata": {
      "needs_background": "light"
     },
     "output_type": "display_data"
    },
    {
     "data": {
      "image/png": "[encoded data removed]",
      "text/plain": [
       "<Figure size 432x288 with 1 Axes>"
      ]
     },
     "metadata": {
      "needs_background": "light"
     },
     "output_type": "display_data"
    },
    {
     "data": {
      "image/png": "[encoded data removed]",
      "text/plain": [
       "<Figure size 432x288 with 1 Axes>"
      ]
     },
     "metadata": {
      "needs_background": "light"
     },
     "output_type": "display_data"
    }
   ],
   "source": [
    "# use the standard N(0,1)\n",
    "# values to compute the pdf for\n",
    "x = np.arange(-4, 4, 0.001)\n",
    "\n",
    "# select the points to fill using a Boolean condition.\n",
    "# suppose we want to fill the area below -2 stdevs about the mean\n",
    "#     in order to highlight P(X<=-2)\n",
    "cond_1 = x <= -2\n",
    "# the result is a Boolean array\n",
    "\n",
    "# first, plot the pdf for x\n",
    "y = stats.norm.pdf(x)\n",
    "plt.plot(x, y)\n",
    "# then, fill the area based on cond_1 using pyplot's fill_between\n",
    "plt.fill_between(x, 0, y, where=cond_1)\n",
    "plt.show()\n",
    "\n",
    "# let's now try with other conditions\n",
    "# P(X>=-0.5)\n",
    "cond_2 =  x >= -0.5\n",
    "plt.plot(x, y)\n",
    "plt.fill_between(x, 0, y, where=cond_2)\n",
    "plt.show()\n",
    "\n",
    "# P(-1.5<=X<=-0.5)\n",
    "cond_3 = (x >= -1.5) & (x <= -0.5)\n",
    "plt.plot(x, y)\n",
    "plt.fill_between(x, 0, y, where=cond_3)\n",
    "plt.show()\n",
    "\n",
    "# P(X<=-0.5 or X>=1)\n",
    "cond_4 =  (x <= -0.5) | (x >= 1)\n",
    "plt.plot(x, y)\n",
    "plt.fill_between(x, 0, y, where=cond_4)\n",
    "plt.show()\n"
   ]
  },
  {
   "cell_type": "markdown",
   "metadata": {},
   "source": [
    "## Parameters and statistics\n",
    "\n",
    "`scipy.stats` supports computation of sample statistics as well as distribution parameters"
   ]
  },
  {
   "cell_type": "code",
   "execution_count": 37,
   "metadata": {},
   "outputs": [
    {
     "name": "stdout",
     "output_type": "stream",
     "text": [
      "10.0\n",
      "10.0\n",
      "9.0\n"
     ]
    }
   ],
   "source": [
    "# derive parameters of our previously defined normal distribution\n",
    "# mean\n",
    "print(my_norm.mean())\n",
    "# median \n",
    "print(my_norm.median())\n",
    "# variance\n",
    "print(my_norm.var())"
   ]
  },
  {
   "cell_type": "markdown",
   "metadata": {},
   "source": [
    "A very nice feature is that `scipy.stats` allows computing the expected value of any function using the distribution's pdf by numerical integration.\n",
    "* i.e., given any function $h$, it computes $\\mathbb{E}[h] = \\int h(x)\\cdot f(x) dx$, given a pmf/pdf $f$\n",
    "* done via `expect` function\n",
    "\n",
    "We know that the variance of a distribution is the expected value of the squared deviation from the mean. \n",
    "* Let's re-derive variance using only the mean and the `expect` function"
   ]
  },
  {
   "cell_type": "code",
   "execution_count": 38,
   "metadata": {},
   "outputs": [
    {
     "name": "stdout",
     "output_type": "stream",
     "text": [
      "8.999999999999995\n",
      "5.329070518200751e-15\n"
     ]
    }
   ],
   "source": [
    "# define the function to integrate \n",
    "# (squared deviation from the mean)\n",
    "h = lambda x: (x-mu)**2\n",
    "\n",
    "# the result is \"almost\" 9\n",
    "print(my_norm.expect(h))\n",
    "# the difference (5e-15) is just due to \n",
    "#     numerical integration precision\n",
    "print(my_norm.var()-my_norm.expect(h))"
   ]
  },
  {
   "cell_type": "markdown",
   "metadata": {},
   "source": [
    "Sample statistics are derived with `describe` function (similarly to pandas)"
   ]
  },
  {
   "cell_type": "code",
   "execution_count": 39,
   "metadata": {},
   "outputs": [
    {
     "name": "stdout",
     "output_type": "stream",
     "text": [
      "DescribeResult(nobs=10000, minmax=(0, 1), mean=0.4959, variance=0.250008190819082, skewness=0.016400551395806894, kurtosis=-1.9997310219139142)\n",
      "Mean: 0.4959\n",
      "Variance: 0.24998319000000005\n",
      "Skewness: 0.016400551395806894\n"
     ]
    }
   ],
   "source": [
    "# draw a sample of 30 fair coin tosses (~Bernoulli(0.5))\n",
    "tosses = stats.bernoulli(0.5).rvs(size=10000)\n",
    "\n",
    "# invoke `describe` function of scipy.stats to have \n",
    "#     an overall picture of sample statistics\n",
    "print(stats.describe(tosses))\n",
    "\n",
    "# or we can compute some individual statistics \n",
    "#     using numpy's functions\n",
    "print('Mean: '+str(tosses.mean()))\n",
    "print('Variance: '+str(tosses.var()))\n",
    "# or using scipy.stats functions\n",
    "print('Skewness: '+str(stats.skew(tosses)))"
   ]
  },
  {
   "cell_type": "markdown",
   "metadata": {},
   "source": [
    "## Multivariate distributions "
   ]
  },
  {
   "cell_type": "markdown",
   "metadata": {},
   "source": [
    "* Let's now return to the example of the *CDC's Behavioral Risk Factor Surveillance System (BRFSS) survey*\n",
    "* Let's add a variable to our dataframe, *BMI_class*, which describes to which of the categories obese, overweigth, normal, underweight the participant belongs to. \n",
    "    * The categories are computed based on the body mass index (see [wiki page](https://en.wikipedia.org/wiki/Body_mass_index))\n",
    "* We want to derive and analyse the empirical joint distribution of exerany and BMI_class to see if there are statistical relationships between exercise and BMI_class"
   ]
  },
  {
   "cell_type": "code",
   "execution_count": 40,
   "metadata": {},
   "outputs": [
    {
     "data": {
      "text/html": [
       "<div>\n",
       "<style scoped>\n",
       "    .dataframe tbody tr th:only-of-type {\n",
       "        vertical-align: middle;\n",
       "    }\n",
       "\n",
       "    .dataframe tbody tr th {\n",
       "        vertical-align: top;\n",
       "    }\n",
       "\n",
       "    .dataframe thead th {\n",
       "        text-align: right;\n",
       "    }\n",
       "</style>\n",
       "<table border=\"1\" class=\"dataframe\">\n",
       "  <thead>\n",
       "    <tr style=\"text-align: right;\">\n",
       "      <th></th>\n",
       "      <th>genhlth</th>\n",
       "      <th>exerany</th>\n",
       "      <th>hlthplan</th>\n",
       "      <th>smoke100</th>\n",
       "      <th>height</th>\n",
       "      <th>weight</th>\n",
       "      <th>wtdesire</th>\n",
       "      <th>age</th>\n",
       "      <th>gender</th>\n",
       "      <th>bmi_class</th>\n",
       "    </tr>\n",
       "  </thead>\n",
       "  <tbody>\n",
       "    <tr>\n",
       "      <th>0</th>\n",
       "      <td>good</td>\n",
       "      <td>0</td>\n",
       "      <td>1</td>\n",
       "      <td>0</td>\n",
       "      <td>70</td>\n",
       "      <td>175</td>\n",
       "      <td>175</td>\n",
       "      <td>77</td>\n",
       "      <td>m</td>\n",
       "      <td>over</td>\n",
       "    </tr>\n",
       "    <tr>\n",
       "      <th>1</th>\n",
       "      <td>good</td>\n",
       "      <td>0</td>\n",
       "      <td>1</td>\n",
       "      <td>1</td>\n",
       "      <td>64</td>\n",
       "      <td>125</td>\n",
       "      <td>115</td>\n",
       "      <td>33</td>\n",
       "      <td>f</td>\n",
       "      <td>normal</td>\n",
       "    </tr>\n",
       "    <tr>\n",
       "      <th>2</th>\n",
       "      <td>good</td>\n",
       "      <td>1</td>\n",
       "      <td>1</td>\n",
       "      <td>1</td>\n",
       "      <td>60</td>\n",
       "      <td>105</td>\n",
       "      <td>105</td>\n",
       "      <td>49</td>\n",
       "      <td>f</td>\n",
       "      <td>normal</td>\n",
       "    </tr>\n",
       "    <tr>\n",
       "      <th>3</th>\n",
       "      <td>good</td>\n",
       "      <td>1</td>\n",
       "      <td>1</td>\n",
       "      <td>0</td>\n",
       "      <td>66</td>\n",
       "      <td>132</td>\n",
       "      <td>124</td>\n",
       "      <td>42</td>\n",
       "      <td>f</td>\n",
       "      <td>normal</td>\n",
       "    </tr>\n",
       "    <tr>\n",
       "      <th>4</th>\n",
       "      <td>very good</td>\n",
       "      <td>0</td>\n",
       "      <td>1</td>\n",
       "      <td>0</td>\n",
       "      <td>61</td>\n",
       "      <td>150</td>\n",
       "      <td>130</td>\n",
       "      <td>55</td>\n",
       "      <td>f</td>\n",
       "      <td>over</td>\n",
       "    </tr>\n",
       "  </tbody>\n",
       "</table>\n",
       "</div>"
      ],
      "text/plain": [
       "     genhlth  exerany  hlthplan  smoke100  height  weight  wtdesire  age  \\\n",
       "0       good        0         1         0      70     175       175   77   \n",
       "1       good        0         1         1      64     125       115   33   \n",
       "2       good        1         1         1      60     105       105   49   \n",
       "3       good        1         1         0      66     132       124   42   \n",
       "4  very good        0         1         0      61     150       130   55   \n",
       "\n",
       "  gender bmi_class  \n",
       "0      m      over  \n",
       "1      f    normal  \n",
       "2      f    normal  \n",
       "3      f    normal  \n",
       "4      f      over  "
      ]
     },
     "execution_count": 40,
     "metadata": {},
     "output_type": "execute_result"
    }
   ],
   "source": [
    "import pandas as pd\n",
    "\n",
    "# df = pd.read_csv(\"https://moodle.royalholloway.ac.uk/mod/resource/view.php?id=451993\")\n",
    "df = pd.read_csv(\"cdc.csv\")\n",
    "# compute the bmi (formula that works with weight in lb and height in inches)\n",
    "BMIs = (df.weight / df.height**2) * 703\n",
    "\n",
    "# generate a categorical datatype for bmi_class\n",
    "from pandas.api.types import CategoricalDtype\n",
    "\n",
    "bmi_class_type = CategoricalDtype(\n",
    "    categories=[\"under\", \"normal\", \"over\", \"obese\"], ordered=True)\n",
    "\n",
    "# transform bmi into corresponding BMI class by applying BMI rules\n",
    "# first define a function that performs the conversion\n",
    "def assign_bmi_class(x):\n",
    "    bmi_c = \"obese\"\n",
    "    if x >= 25 and x<=30:\n",
    "        bmi_c = \"over\"\n",
    "    elif x >= 18.5 and x<25:\n",
    "        bmi_c = \"normal\"\n",
    "    elif x < 18.5:\n",
    "        bmi_c = \"under\"\n",
    "    return bmi_c\n",
    "\n",
    "# note that the above function works only for individual bmi values\n",
    "#     to work over arrays, we use numpy's vectorize function\n",
    "assign_bmi_class = np.vectorize(assign_bmi_class)\n",
    "\n",
    "# the resulting function 'assign_bmi_class' now operates over arrays\n",
    "bmi_class = assign_bmi_class(BMIs)\n",
    "# generate a pandas series (with appropriate datatype) and add it to df\n",
    "bmi_class = pd.Series(bmi_class, dtype=bmi_class_type)\n",
    "df[\"bmi_class\"] = bmi_class\n",
    "\n",
    "# see the result\n",
    "df.head()"
   ]
  },
  {
   "cell_type": "markdown",
   "metadata": {},
   "source": [
    "To derive the empirical joint distribution of exerany and bmi_class, just construct a contingency table (see Lab02)"
   ]
  },
  {
   "cell_type": "code",
   "execution_count": 41,
   "metadata": {},
   "outputs": [
    {
     "data": {
      "text/html": [
       "<div>\n",
       "<style scoped>\n",
       "    .dataframe tbody tr th:only-of-type {\n",
       "        vertical-align: middle;\n",
       "    }\n",
       "\n",
       "    .dataframe tbody tr th {\n",
       "        vertical-align: top;\n",
       "    }\n",
       "\n",
       "    .dataframe thead th {\n",
       "        text-align: right;\n",
       "    }\n",
       "</style>\n",
       "<table border=\"1\" class=\"dataframe\">\n",
       "  <thead>\n",
       "    <tr style=\"text-align: right;\">\n",
       "      <th>bmi_class</th>\n",
       "      <th>under</th>\n",
       "      <th>normal</th>\n",
       "      <th>over</th>\n",
       "      <th>obese</th>\n",
       "    </tr>\n",
       "    <tr>\n",
       "      <th>exerany</th>\n",
       "      <th></th>\n",
       "      <th></th>\n",
       "      <th></th>\n",
       "      <th></th>\n",
       "    </tr>\n",
       "  </thead>\n",
       "  <tbody>\n",
       "    <tr>\n",
       "      <th>0</th>\n",
       "      <td>0.00595</td>\n",
       "      <td>0.09395</td>\n",
       "      <td>0.08760</td>\n",
       "      <td>0.0668</td>\n",
       "    </tr>\n",
       "    <tr>\n",
       "      <th>1</th>\n",
       "      <td>0.01460</td>\n",
       "      <td>0.33085</td>\n",
       "      <td>0.27425</td>\n",
       "      <td>0.1260</td>\n",
       "    </tr>\n",
       "  </tbody>\n",
       "</table>\n",
       "</div>"
      ],
      "text/plain": [
       "bmi_class    under   normal     over   obese\n",
       "exerany                                     \n",
       "0          0.00595  0.09395  0.08760  0.0668\n",
       "1          0.01460  0.33085  0.27425  0.1260"
      ]
     },
     "execution_count": 41,
     "metadata": {},
     "output_type": "execute_result"
    }
   ],
   "source": [
    "exercise_vs_bmi = pd.crosstab(index=df.exerany, columns=df.bmi_class, normalize=True)\n",
    "exercise_vs_bmi"
   ]
  },
  {
   "cell_type": "markdown",
   "metadata": {},
   "source": [
    "* Let's now check whether the two variables are independent. \n",
    "* It must hold that $P(X=x,Y=y) = P(X=x)\\cdot P(Y=y)$ for all $x,y$, where $P(X=x,Y=y)$ are the joint probabilities/frequencies and $P(X=x),P(Y=y)$ are the marginal probabilities\n",
    "* Let's compute the table for the marginal products $P(\\textrm{bmi_class})\\cdot P(\\textrm{exerany})$ and compare it with the joint probabilities in the above contingency table"
   ]
  },
  {
   "cell_type": "code",
   "execution_count": 42,
   "metadata": {},
   "outputs": [
    {
     "name": "stdout",
     "output_type": "stream",
     "text": [
      "exerany\n",
      "0    0.2543\n",
      "1    0.7457\n",
      "dtype: float64\n",
      "bmi_class\n",
      "under     0.02055\n",
      "normal    0.42480\n",
      "over      0.36185\n",
      "obese     0.19280\n",
      "dtype: float64\n"
     ]
    }
   ],
   "source": [
    "# first compute the marginals by summing the frequencies\n",
    "P_bmi = np.sum(exercise_vs_bmi, axis=0) # column-wise sum\n",
    "P_exer = np.sum(exercise_vs_bmi, axis=1) # row-wise sum\n",
    "print(P_exer)\n",
    "print(P_bmi)"
   ]
  },
  {
   "cell_type": "code",
   "execution_count": 43,
   "metadata": {},
   "outputs": [
    {
     "name": "stdout",
     "output_type": "stream",
     "text": [
      "          0         1         2         3\n",
      "0  0.005226  0.108027  0.092018  0.049029\n",
      "1  0.015324  0.316773  0.269832  0.143771\n"
     ]
    }
   ],
   "source": [
    "# second, construct the marginal table\n",
    "# we can use list comprehension for this\n",
    "marginal_p_table = pd.DataFrame([[x*y for y in P_bmi] for x in P_exer])\n",
    "print(marginal_p_table)"
   ]
  },
  {
   "cell_type": "markdown",
   "metadata": {},
   "source": [
    "The variables are not independent because the product of marginals is different from the joint"
   ]
  },
  {
   "cell_type": "markdown",
   "metadata": {},
   "source": [
    "Let's now also compute also the conditional probabilities $P(\\textrm{bmi_class} \\mid \\textrm{exerany})$\n",
    "* Recall that $P(X \\mid Y) = P(X,Y)/P(Y)$\n",
    "* Recall that we can alternatively prove independence by checking whether $P(X)=P(X \\mid Y)$"
   ]
  },
  {
   "cell_type": "code",
   "execution_count": 44,
   "metadata": {},
   "outputs": [
    {
     "name": "stdout",
     "output_type": "stream",
     "text": [
      "bmi_class     under    normal      over     obese\n",
      "exerany                                          \n",
      "0          0.289538  0.221163  0.242089  0.346473\n",
      "1          0.710462  0.778837  0.757911  0.653527\n"
     ]
    }
   ],
   "source": [
    "# we can compute a table of conditional probabilities of X=x given Y=y\n",
    "# by dividing exercise_vs_bmi with a 2x tile of P_bmi\n",
    "\n",
    "# tile P_bmi 2 times so we can divide it from exercise_vs_bmi\n",
    "P_bmi_tile  = np.tile(P_bmi,(2,1))\n",
    "\n",
    "# perform element-wise division\n",
    "conditional_p_table = exercise_vs_bmi/P_bmi_tile\n",
    "\n",
    "# result is the table of conditionals P(exerany|bmi)\n",
    "print(conditional_p_table)"
   ]
  },
  {
   "cell_type": "markdown",
   "metadata": {},
   "source": [
    "The variables are not independent because the conditionals are different from the marginals"
   ]
  },
  {
   "cell_type": "markdown",
   "metadata": {},
   "source": [
    "### Multivariate distributions \n",
    "`scipy.stats` contains useful pre-set multivariate distributions, like the multivariate normal and the multinomial, i.e., a multidimensional binomial. "
   ]
  },
  {
   "cell_type": "code",
   "execution_count": 45,
   "metadata": {},
   "outputs": [
    {
     "data": {
      "image/png": "[encoded data removed]",
      "text/plain": [
       "<Figure size 432x288 with 2 Axes>"
      ]
     },
     "metadata": {
      "needs_background": "light"
     },
     "output_type": "display_data"
    }
   ],
   "source": [
    "# create a 2d normal with mean [20,15] and covariance [[25,-10],[-10,49]]\n",
    "# covariance matrix [[25,-10],[-10,49]] means that cov(X1,X1)=var(X1)=25,cov(X2,X2)=var(X2)=49, \n",
    "# and cov(X1,X2)=cov(X2,X1)=-10 (hence, we see a \"negative slope\" in the plot)\n",
    "\n",
    "mu = np.array([20,15])\n",
    "cov = np.array([[25,-10],[-10,10]])\n",
    "my_multi_normal = stats.multivariate_normal(mu,cov)\n",
    "\n",
    "# create a grid of values where \n",
    "# - 1st var (x) varies from 0 to 40 with step 0.05\n",
    "# - 2nd var (y) varies from -13 to 43 with step 0.05\n",
    "x,y = np.mgrid[0:40:0.05, -13:43:0.05]\n",
    "value_grid = np.dstack((x, y))\n",
    "\n",
    "# compute the corresponding probabilities and\n",
    "#     plot the pdf using pyplot's contour plot\n",
    "probs = my_multi_normal.pdf(value_grid)\n",
    "\n",
    "plt.contourf(x, y, probs)\n",
    "plt.colorbar()\n",
    "plt.show()"
   ]
  },
  {
   "cell_type": "code",
   "execution_count": null,
   "metadata": {},
   "outputs": [],
   "source": []
  }
 ],
 "metadata": {
  "kernelspec": {
   "display_name": "Python 3",
   "language": "python",
   "name": "python3"
  },
  "language_info": {
   "codemirror_mode": {
    "name": "ipython",
    "version": 3
   },
   "file_extension": ".py",
   "mimetype": "text/x-python",
   "name": "python",
   "nbconvert_exporter": "python",
   "pygments_lexer": "ipython3",
   "version": "3.7.10"
  }
 },
 "nbformat": 4,
 "nbformat_minor": 2
}
