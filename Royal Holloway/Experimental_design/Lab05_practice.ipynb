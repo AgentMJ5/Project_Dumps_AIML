{
 "cells": [
  {
   "cell_type": "markdown",
   "metadata": {},
   "source": [
    "# Lab 06 &mdash; $\\chi^2$-test and non-parametric methods &mdash; practice\n"
   ]
  },
  {
   "cell_type": "markdown",
   "metadata": {},
   "source": [
    "**Please enter in the cell below your first name, last name, and student ID**"
   ]
  },
  {
   "cell_type": "markdown",
   "metadata": {},
   "source": []
  },
  {
   "cell_type": "code",
   "execution_count": 1,
   "metadata": {},
   "outputs": [],
   "source": [
    "# imports\n",
    "import numpy as np\n",
    "import pandas as pd\n",
    "from scipy import stats\n",
    "import statsmodels.api as sm\n",
    "import matplotlib.pyplot as plt\n",
    "%matplotlib inline\n",
    "import seaborn as sns"
   ]
  },
  {
   "cell_type": "markdown",
   "metadata": {},
   "source": [
    "1. Consider the A/B testing data for the cookie cat game. Establish with a two-sided U test at level $0.05$ if there is a significant difference in the number of played game rounds (column `sum_gamerounds`) between the two versions of the game. To do so, draw a sample of 200 observations for each version of the game"
   ]
  },
  {
   "cell_type": "code",
   "execution_count": 2,
   "metadata": {},
   "outputs": [
    {
     "name": "stdout",
     "output_type": "stream",
     "text": [
      "   userid  version  sum_gamerounds  retention_1  retention_7\n",
      "0     116  gate_30               3        False        False\n",
      "1     337  gate_30              38         True        False\n",
      "2     377  gate_40             165         True        False\n",
      "3     483  gate_40               1        False        False\n",
      "4     488  gate_40             179         True         True\n",
      "p-value for version with gate_30: 4.4473438884877047e-144\n",
      "p-value for version with gate_40: 8.903697965750166e-144\n"
     ]
    }
   ],
   "source": [
    "# code for exercise 1\n",
    "# fix random seed so that results are reproducible (do not change)\n",
    "np.random.seed(42)\n",
    "df_cookie = pd.read_csv(\"cookie_cats.csv\")\n",
    "print(df_cookie.head())\n",
    "n = 200\n",
    "game_rounds = df_cookie.sum_gamerounds.sample(n)\n",
    "ver_30 = df_cookie.version.str.contains('gate_30')\n",
    "ver_40 = df_cookie.version.str.contains('gate_40')\n",
    "version_30 = ver_30.sample(n)\n",
    "version_40 = ver_40.sample(n)\n",
    "U_stat, p_val = stats.mannwhitneyu(game_rounds,ver_30,alternative='two-sided')\n",
    "print(\"p-value for version with gate_30: \"+str(p_val))\n",
    "U_stat1, p_val1 = stats.mannwhitneyu(game_rounds,ver_40,alternative='two-sided')\n",
    "print(\"p-value for version with gate_40: \"+str(p_val1))"
   ]
  },
  {
   "cell_type": "markdown",
   "metadata": {},
   "source": [
    "2. Using the *CDC's Behavioral Risk Factor Surveillance System (BRFSS) survey* dataset, establish whether there is a significant association between gender and smoking, using a $\\chi^2$ test at level $0.05$ and a sample of 500 participants. Print to screen also the value of the test statistic and the p-value"
   ]
  },
  {
   "cell_type": "code",
   "execution_count": 3,
   "metadata": {},
   "outputs": [
    {
     "name": "stdout",
     "output_type": "stream",
     "text": [
      "         genhlth  exerany  hlthplan  smoke100  height  weight  wtdesire  age  \\\n",
      "10650  excellent        1         1         0      64     118       118   76   \n",
      "2041   excellent        1         1         0      62     165       165   88   \n",
      "8668   excellent        0         1         0      73     165       180   26   \n",
      "1114        fair        0         1         1      67     180       160   80   \n",
      "13902       good        0         1         1      71     170       170   64   \n",
      "\n",
      "      gender  \n",
      "10650      f  \n",
      "2041       m  \n",
      "8668       m  \n",
      "1114       m  \n",
      "13902      m  \n",
      "------------------\n",
      "smoke100    0    1\n",
      "gender            \n",
      "f         137  123\n",
      "m          98  142\n",
      "------------------\n",
      "the value of the test statistic is 7.045877981245304. p value is: 0.007944787145235391\n",
      "Degrees of freedom: 1\n"
     ]
    }
   ],
   "source": [
    "# code for exercise 2\n",
    "# fix random seed so that results are reproducible (do not change)\n",
    "np.random.seed(42)\n",
    "df_cdc = pd.read_csv(\"cdc.csv\")\n",
    "random_cdc = df_cdc.sample(500)\n",
    "print(random_cdc.head())\n",
    "table = pd.crosstab(index=random_cdc.gender, columns=random_cdc.smoke100)\n",
    "print(\"------------------\")\n",
    "print(table)\n",
    "print(\"------------------\")\n",
    "chi2, p_val, dof, exp_counts = stats.chi2_contingency(table, correction=False)\n",
    "print(\"the value of the test statistic is \"+str(chi2)+\". p value is: \"+str(p_val))\n",
    "print(\"Degrees of freedom: \"+str(dof))"
   ]
  },
  {
   "cell_type": "markdown",
   "metadata": {},
   "source": [
    "3. By adapting the code of the `sign_test` function (see lab notebook), define a function that performs hypothesis testing about any percentile (not just the median). Evaluate your function on a random sample of 100 observations from the `sum_gamerounds` variable of the cookie cat game. Compute the p-value for a two-sided test that the true 37% percentile is equal to 37.\n",
    "    * the function should take in input three arguments: `sample`, `null_value`, and `q`, where `q` is the desired percentile (between 0 and 100)\n",
    "    * so, the null hypothesis is that the true `q`-th percentile is `null_value`\n",
    "    * _tip_: you'll just need to modify the distribution under the null"
   ]
  },
  {
   "cell_type": "code",
   "execution_count": 4,
   "metadata": {},
   "outputs": [
    {
     "name": "stdout",
     "output_type": "stream",
     "text": [
      "Test statistic value: [98]\n",
      "p-value: 0.0\n"
     ]
    }
   ],
   "source": [
    "# code for exercise 3\n",
    "# fix random seed so that results are reproducible (do not change)\n",
    "np.random.seed(42)\n",
    "sample_size = 100\n",
    "game_rounds1 = df_cookie.sum_gamerounds.sample(sample_size)\n",
    "def sign_test(sample, q, m0=0):\n",
    "    n = sample.size\n",
    "    p=np.percentile(sample,1-(q/100))\n",
    "    h0_distr = stats.binom(n=n, p=p)\n",
    "    num_wins = np.sum(sample>m0)\n",
    "    num_ties = np.sum(sample==m0)\n",
    "    # random tie resolution corresponds to drawing\n",
    "    # a coin (a 0.5 bernoulli) for each tie, i.e., \n",
    "    # drawing one binomial observation with parameters \n",
    "    # n=num_ties and p=0.5\n",
    "    stat_val = num_wins + stats.binom(n=num_ties, p=p).rvs(1)\n",
    "    left_tail_p = h0_distr.cdf(stat_val)\n",
    "    # as usual, for discrete vars, P(X>=x)=1-P(X<x))=1-P(X<=x-1) \n",
    "    right_tail_p = 1 - h0_distr.cdf(stat_val-1)\n",
    "    p_val=2*np.min([left_tail_p,right_tail_p])\n",
    "    return stat_val, p_val\n",
    "\n",
    "stat_val, p_val = sign_test(game_rounds1, 37)\n",
    "print(\"Test statistic value: \"+str(stat_val))\n",
    "print(\"p-value: \"+str(p_val))"
   ]
  },
  {
   "cell_type": "markdown",
   "metadata": {},
   "source": [
    "4. Perform the same test of question 3, but use bootstrap sampling. I.e., draw a random sample of 100 observations from the `sum_gamerounds` variable. By resampling this sample, generate a bootstrap distribution for the 37-th percentile. Use $B=2000$ bootstrap samples. Finally, apply the shifting method to derive the null distribution and compute the p-value.\n",
    "    * _tip_: percentiles can be computed using the `np.percentile` function, see lab notebook and https://numpy.org/doc/stable/reference/generated/numpy.percentile.html"
   ]
  },
  {
   "cell_type": "code",
   "execution_count": 5,
   "metadata": {},
   "outputs": [
    {
     "data": {
      "image/png": "[encoded data removed]",
      "text/plain": [
       "<Figure size 432x288 with 1 Axes>"
      ]
     },
     "metadata": {
      "needs_background": "light"
     },
     "output_type": "display_data"
    },
    {
     "data": {
      "image/png": "[encoded data removed]",
      "text/plain": [
       "<Figure size 432x288 with 1 Axes>"
      ]
     },
     "metadata": {
      "needs_background": "light"
     },
     "output_type": "display_data"
    }
   ],
   "source": [
    "# code for exercise 4\n",
    "# fix random seed so that results are reproducible (do not change)\n",
    "np.random.seed(42)\n",
    "pop_distr = stats.uniform(scale=10)\n",
    "my_stat = lambda sample : stats.iqr(sample)\n",
    "sample_num = 2000\n",
    "\n",
    "# initialize a numpy array of size (sample_num, 1) to store the sample statistics\n",
    "theta_hats = np.empty([sample_num, 1])\n",
    "\n",
    "# draw the samples by calling the rvs function\n",
    "for i in range(sample_num):\n",
    "    # apply our statistic function to a random sample drawn from the pop distr\n",
    "    theta_hats[i] = my_stat(pop_distr.rvs(sample_size))\n",
    "    \n",
    "sns.histplot(theta_hats, stat='probability')\n",
    "plt.title('True sampling distribution of $\\widehat{\\\\theta}$')\n",
    "plt.show()   \n",
    "\n",
    "# now let's compute the bootstrap proxy of the sampling distribution\n",
    "# by resampling our sample (the only thing we know)\n",
    "\n",
    "# let's define a useful function handle for resampling\n",
    "# rng is numpy's random number generator\n",
    "rng = np.random.default_rng()\n",
    "resample = lambda sample, n : rng.choice(a=sample,size=n)\n",
    "\n",
    "# draw bootstrap samples, and store corresponding statistic values\n",
    "theta_tildes = np.empty([sample_num, 1])\n",
    "\n",
    "for i in range(sample_num):\n",
    "    # apply our statistic function to a bootstrap resample drawn from the given sample\n",
    "    theta_tildes[i] = my_stat(resample(sample=game_rounds1, n=sample_size))\n",
    "\n",
    "# plot the bootstrap sampling distribution\n",
    "sns.histplot(theta_tildes, stat='probability')\n",
    "plt.title('Bootstrap sampling distribution of $\\\\tilde{\\\\theta}$')\n",
    "plt.show()"
   ]
  },
  {
   "cell_type": "code",
   "execution_count": null,
   "metadata": {},
   "outputs": [],
   "source": []
  }
 ],
 "metadata": {
  "kernelspec": {
   "display_name": "Python 3",
   "language": "python",
   "name": "python3"
  },
  "language_info": {
   "codemirror_mode": {
    "name": "ipython",
    "version": 3
   },
   "file_extension": ".py",
   "mimetype": "text/x-python",
   "name": "python",
   "nbconvert_exporter": "python",
   "pygments_lexer": "ipython3",
   "version": "3.7.10"
  }
 },
 "nbformat": 4,
 "nbformat_minor": 4
}
