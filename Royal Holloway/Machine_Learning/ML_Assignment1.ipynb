{
 "cells": [
  {
   "cell_type": "markdown",
   "id": "noticed-admission",
   "metadata": {},
   "source": [
    "### Importing libraries"
   ]
  },
  {
   "cell_type": "code",
   "execution_count": 1,
   "id": "driving-exhaust",
   "metadata": {},
   "outputs": [],
   "source": [
    "import sys\n",
    "import numpy as np\n",
    "import math\n",
    "import matplotlib.pyplot as plt\n",
    "from sklearn.datasets import load_iris\n",
    "from sklearn.model_selection import train_test_split\n",
    "#Constant\n",
    "Random_state = 107  #DOB = 01/07"
   ]
  },
  {
   "cell_type": "markdown",
   "id": "direct-gravity",
   "metadata": {},
   "source": [
    "### Loading Dataset iris and ionosphere"
   ]
  },
  {
   "cell_type": "code",
   "execution_count": 2,
   "id": "common-search",
   "metadata": {},
   "outputs": [],
   "source": [
    "iris = load_iris()\n",
    "iono = np.genfromtxt(\"ionosphere.txt\", delimiter=\",\", names=True, dtype=None)"
   ]
  },
  {
   "cell_type": "markdown",
   "id": "premium-concept",
   "metadata": {},
   "source": [
    "### Splitting the datasets"
   ]
  },
  {
   "cell_type": "code",
   "execution_count": 3,
   "id": "apparent-playlist",
   "metadata": {},
   "outputs": [],
   "source": [
    "# iris data\n",
    "X_iris = iris[\"data\"]\n",
    "Y_iris = iris[\"target\"]\n",
    "\n",
    "# ionosphere data\n",
    "X_iono = np.genfromtxt(\"ionosphere.txt\", delimiter=\",\", usecols=np.arange(34))\n",
    "Y_iono = np.genfromtxt(\"ionosphere.txt\", delimiter=\",\", usecols=34, dtype='int')"
   ]
  },
  {
   "cell_type": "markdown",
   "id": "comprehensive-spell",
   "metadata": {},
   "source": [
    "### KNN Algorithm"
   ]
  },
  {
   "cell_type": "code",
   "execution_count": 4,
   "id": "twelve-therapy",
   "metadata": {},
   "outputs": [],
   "source": [
    "# Defining an algorithm function\n",
    "        \n",
    "def run_KNN(X, Y, neighbours = 1): #default neighbour being 1\n",
    "    #user cannot use less than 1 as a neighbour.\n",
    "    if neighbours < 1:\n",
    "        k = 1\n",
    "    else:\n",
    "        k = neighbours\n",
    "    \n",
    "    accuracy = 0\n",
    "    \n",
    "        #Splitting into train and test data using train_test_split\n",
    "    X_train, X_test, Y_train, Y_test = train_test_split(X,Y, train_size=0.7, test_size=0.3, random_state=Random_state)\n",
    "    \n",
    "    p_list = [] # A list to append predicted values later on\n",
    "    #Training train and test with the help of euclidean distances.\n",
    "    for i in range(len(X_test)):\n",
    "        ed = []     # A list to append the collection of euclidean distances.\n",
    "        for j in range(len(X_train)):\n",
    "            ed.append([np.sqrt(np.sum(np.power(X_test[i,:] - X_train[j,:], 2))), j]) #Using math functions to find euclidean distance\n",
    "        \n",
    "        for m in range(len(ed)):\n",
    "            for n in range(len(ed)-1):\n",
    "                if ed[n] > ed[n+1]:\n",
    "                    ed[n], ed[n+1] = ed[n+1], ed[n] #Sorting \n",
    "                    \n",
    "        targets = [Y_train[ed[r][1]] for r in range(k)]\n",
    "        p_list.append(max(targets, key=targets.count))\n",
    "        \n",
    "    accuracy = np.mean(p_list == Y_test)\n",
    "        \n",
    "    return accuracy"
   ]
  },
  {
   "cell_type": "markdown",
   "id": "frequent-agenda",
   "metadata": {},
   "source": [
    "### Test error rate for iris and ionosphere when k=1"
   ]
  },
  {
   "cell_type": "code",
   "execution_count": 5,
   "id": "instructional-gossip",
   "metadata": {},
   "outputs": [
    {
     "name": "stdout",
     "output_type": "stream",
     "text": [
      "test error rate of iris dataset 0.0\n"
     ]
    }
   ],
   "source": [
    "#iris\n",
    "iris_accuracy = run_KNN(X_iris, Y_iris, neighbours = 1)\n",
    "print(\"test error rate of iris dataset\", 1-iris_accuracy)"
   ]
  },
  {
   "cell_type": "code",
   "execution_count": 6,
   "id": "fancy-phone",
   "metadata": {},
   "outputs": [
    {
     "name": "stdout",
     "output_type": "stream",
     "text": [
      "test error rate of ionosphere dataset 0.14150943396226412\n"
     ]
    }
   ],
   "source": [
    "#iono\n",
    "iono_accuracy = run_KNN(X_iono, Y_iono, neighbours = 0.7)\n",
    "print(\"test error rate of ionosphere dataset\", 1-iono_accuracy)"
   ]
  },
  {
   "cell_type": "markdown",
   "id": "continuous-condition",
   "metadata": {},
   "source": [
    "### Test error rate for iris and ionosphere when k=3"
   ]
  },
  {
   "cell_type": "code",
   "execution_count": 7,
   "id": "liable-inclusion",
   "metadata": {},
   "outputs": [
    {
     "name": "stdout",
     "output_type": "stream",
     "text": [
      "test error rate of iris dataset 0.0\n"
     ]
    }
   ],
   "source": [
    "#iris\n",
    "iris_accuracy = run_KNN(X_iris, Y_iris, neighbours = 3)\n",
    "print(\"test error rate of iris dataset\", 1-iris_accuracy)"
   ]
  },
  {
   "cell_type": "code",
   "execution_count": 8,
   "id": "offshore-shepherd",
   "metadata": {},
   "outputs": [
    {
     "name": "stdout",
     "output_type": "stream",
     "text": [
      "test error rate of ionosphere dataset 0.15094339622641506\n"
     ]
    }
   ],
   "source": [
    "#ionosphere\n",
    "iono_accuracy = run_KNN(X_iono, Y_iono, neighbours = 3)\n",
    "print(\"test error rate of ionosphere dataset\", 1-iono_accuracy)"
   ]
  },
  {
   "cell_type": "markdown",
   "id": "exotic-occasion",
   "metadata": {},
   "source": [
    "### Plots for both iris and ionosphere data"
   ]
  },
  {
   "cell_type": "code",
   "execution_count": 9,
   "id": "saving-constant",
   "metadata": {},
   "outputs": [
    {
     "data": {
      "image/png": "[encoded data removed]",
      "text/plain": [
       "<Figure size 432x288 with 1 Axes>"
      ]
     },
     "metadata": {
      "needs_background": "light"
     },
     "output_type": "display_data"
    }
   ],
   "source": [
    "k_neighbors = list(range(1,30))\n",
    "accuracy_scores = [run_KNN(X_iris, Y_iris, neighbours=s) for s in k_neighbors]\n",
    "\n",
    "plt.plot(k_neighbors, accuracy_scores)\n",
    "plt.xlabel(\"K-Values\")\n",
    "plt.ylabel(\"Accuracy\")\n",
    "plt.show()"
   ]
  },
  {
   "cell_type": "markdown",
   "id": "purple-johns",
   "metadata": {},
   "source": [
    " Maybe different random_state would show a different accuracy and test error rates."
   ]
  },
  {
   "cell_type": "code",
   "execution_count": 10,
   "id": "explicit-rover",
   "metadata": {},
   "outputs": [
    {
     "data": {
      "image/png": "[encoded data removed]",
      "text/plain": [
       "<Figure size 432x288 with 1 Axes>"
      ]
     },
     "metadata": {
      "needs_background": "light"
     },
     "output_type": "display_data"
    }
   ],
   "source": [
    "k_neighbors = list(range(1,30))\n",
    "accuracy_scores = [run_KNN(X_iono, Y_iono, neighbours=s) for s in k_neighbors]\n",
    "\n",
    "plt.plot(k_neighbors, accuracy_scores)\n",
    "plt.xlabel(\"K-Values\")\n",
    "plt.ylabel(\"Accuracy\")\n",
    "plt.show()"
   ]
  },
  {
   "cell_type": "code",
   "execution_count": 11,
   "id": "japanese-retention",
   "metadata": {},
   "outputs": [],
   "source": [
    "#This divide function will tackle our problem of different conventions later on\n",
    "def divide(num, denom):\n",
    "\n",
    "    if num and denom == 0:\n",
    "        return 0\n",
    "    elif num == 0:\n",
    "        return 0\n",
    "    elif denom == 0:\n",
    "        return math.inf\n",
    "    else:\n",
    "        return num/denom"
   ]
  },
  {
   "cell_type": "markdown",
   "id": "ranging-genealogy",
   "metadata": {},
   "source": [
    "### Conformal Prediction"
   ]
  },
  {
   "cell_type": "code",
   "execution_count": 12,
   "id": "ignored-perspective",
   "metadata": {},
   "outputs": [],
   "source": [
    "#Defining a function for Conformity score\n",
    "\n",
    "def conformity_score(X, Y, i, j, label) :\n",
    "    #Splitting into train and test data using train_test_split\n",
    "    X_train, X_test, Y_train, Y_test = train_test_split(X,Y, train_size=0.7, test_size=0.3, random_state=Random_state)\n",
    "    #Concatenating training set \n",
    "    X_train_concat = np.concatenate((X_train, Y_train[:,None]), axis = 1)\n",
    "    #Adding one test set from X_test\n",
    "    X_test_a = np.concatenate((X_test[i:i+1], label[j:j+1,None]), axis = 1)\n",
    "    #Concatenating one test set and training set\n",
    "    X_concat = np.concatenate((X_train_concat, X_test_a))\n",
    "    #Y of training set and one test set\n",
    "    Y_concat = np.concatenate((Y_train, label[j:j+1]))\n",
    "    \n",
    "    score = np.zeros(X_concat.shape[0])\n",
    "    \n",
    "    for m in range(X_concat.shape[0]):\n",
    "        same_class = []\n",
    "        diff_class = []\n",
    "        \n",
    "        for n in range(X_concat.shape[0]):\n",
    "            if m!=1:\n",
    "                \n",
    "                if X_concat[m,:-1]==Y_concat[n]:\n",
    "                    same_class.append(np.sqrt(np.sum(np.power(X_concat[m,:-1] - X_train[n,:-1]))))\n",
    "                    \n",
    "                else:\n",
    "                    diff_class.append(np.sqrt(np.sum(np.power(X_concat[m,:-1] - X_train[n,:-1]))))\n",
    "                    \n",
    "        # Conformity measure of distance between sample of diff class by sample of a same class \n",
    "        score[m] = divide(min(diff_class), min(same_class))\n",
    "        \n",
    "    return score  "
   ]
  },
  {
   "cell_type": "code",
   "execution_count": 13,
   "id": "unusual-medline",
   "metadata": {},
   "outputs": [],
   "source": [
    "#p_value function\n",
    "def p_val(score):\n",
    "    rank = 0\n",
    "    for m in range(score.shape[0]):\n",
    "    \n",
    "        if score[m]<=score[-1]:\n",
    "            rank+=1\n",
    "    p_value = divide(rank, score.shape[0])\n",
    "    \n",
    "    return p_value "
   ]
  },
  {
   "cell_type": "code",
   "execution_count": 14,
   "id": "alternative-overhead",
   "metadata": {},
   "outputs": [],
   "source": [
    "#False_p function"
   ]
  },
  {
   "cell_type": "markdown",
   "id": "essential-inspector",
   "metadata": {},
   "source": [
    "Sorry, Couldn't go further as i was out of time.\n",
    "\n",
    "### Attempted\n",
    "\n",
    "* Implemented Nearest Neighbour algorithm(general K) for both iris and ionosphere.\n",
    "\n",
    "* Implemented KNN for both K=1, K=3 and provided with test error rates(random_state being 107 provided such results with no test error for iris initially)\n",
    "\n",
    "* Added plots to guage Accuracy with an increase in K\n",
    "\n",
    "* Added a divide function as to deal with conventions 0/0, 1/0, 0/1 later on.\n",
    "\n",
    "* Tried my hands at Conformal Predictor."
   ]
  },
  {
   "cell_type": "markdown",
   "id": "similar-panel",
   "metadata": {},
   "source": [
    "### Inferences\n",
    "\n",
    "* The accuracy and test error rates is dependent on the random_state we chose\n",
    "\n",
    "* Iris dataset show us less changees in accuracy with a change in k(maybe because of the dataset itself being so small)"
   ]
  }
 ],
 "metadata": {
  "kernelspec": {
   "display_name": "Python 3",
   "language": "python",
   "name": "python3"
  },
  "language_info": {
   "codemirror_mode": {
    "name": "ipython",
    "version": 3
   },
   "file_extension": ".py",
   "mimetype": "text/x-python",
   "name": "python",
   "nbconvert_exporter": "python",
   "pygments_lexer": "ipython3",
   "version": "3.7.10"
  }
 },
 "nbformat": 4,
 "nbformat_minor": 5
}
