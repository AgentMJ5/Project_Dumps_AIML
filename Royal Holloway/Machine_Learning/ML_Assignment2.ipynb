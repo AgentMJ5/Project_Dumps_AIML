{
 "cells": [
  {
   "cell_type": "code",
   "execution_count": 21,
   "id": "hearing-nightmare",
   "metadata": {},
   "outputs": [],
   "source": [
    "# QUESTION_1\n",
    "# DDMM = 01/07\n",
    "from sklearn.datasets import load_diabetes\n",
    "import pandas as pd\n",
    "diabetes = load_diabetes()"
   ]
  },
  {
   "cell_type": "code",
   "execution_count": 2,
   "id": "bound-functionality",
   "metadata": {},
   "outputs": [
    {
     "name": "stdout",
     "output_type": "stream",
     "text": [
      "(331, 10)\n",
      "(111, 10)\n",
      "(331,)\n",
      "(111,)\n"
     ]
    }
   ],
   "source": [
    "# QUESTION_2\n",
    "from sklearn.model_selection import train_test_split\n",
    "X_train, X_test, Y_train, Y_test = train_test_split(diabetes['data'], diabetes['target'], random_state = 107)\n",
    "print(X_train.shape)\n",
    "print(X_test.shape)\n",
    "print(Y_train.shape)\n",
    "print(Y_test.shape)"
   ]
  },
  {
   "cell_type": "code",
   "execution_count": 23,
   "id": "raised-eleven",
   "metadata": {},
   "outputs": [
    {
     "data": {
      "text/plain": [
       "{'data': array([[ 0.03807591,  0.05068012,  0.06169621, ..., -0.00259226,\n",
       "          0.01990842, -0.01764613],\n",
       "        [-0.00188202, -0.04464164, -0.05147406, ..., -0.03949338,\n",
       "         -0.06832974, -0.09220405],\n",
       "        [ 0.08529891,  0.05068012,  0.04445121, ..., -0.00259226,\n",
       "          0.00286377, -0.02593034],\n",
       "        ...,\n",
       "        [ 0.04170844,  0.05068012, -0.01590626, ..., -0.01107952,\n",
       "         -0.04687948,  0.01549073],\n",
       "        [-0.04547248, -0.04464164,  0.03906215, ...,  0.02655962,\n",
       "          0.04452837, -0.02593034],\n",
       "        [-0.04547248, -0.04464164, -0.0730303 , ..., -0.03949338,\n",
       "         -0.00421986,  0.00306441]]),\n",
       " 'target': array([151.,  75., 141., 206., 135.,  97., 138.,  63., 110., 310., 101.,\n",
       "         69., 179., 185., 118., 171., 166., 144.,  97., 168.,  68.,  49.,\n",
       "         68., 245., 184., 202., 137.,  85., 131., 283., 129.,  59., 341.,\n",
       "         87.,  65., 102., 265., 276., 252.,  90., 100.,  55.,  61.,  92.,\n",
       "        259.,  53., 190., 142.,  75., 142., 155., 225.,  59., 104., 182.,\n",
       "        128.,  52.,  37., 170., 170.,  61., 144.,  52., 128.,  71., 163.,\n",
       "        150.,  97., 160., 178.,  48., 270., 202., 111.,  85.,  42., 170.,\n",
       "        200., 252., 113., 143.,  51.,  52., 210.,  65., 141.,  55., 134.,\n",
       "         42., 111.,  98., 164.,  48.,  96.,  90., 162., 150., 279.,  92.,\n",
       "         83., 128., 102., 302., 198.,  95.,  53., 134., 144., 232.,  81.,\n",
       "        104.,  59., 246., 297., 258., 229., 275., 281., 179., 200., 200.,\n",
       "        173., 180.,  84., 121., 161.,  99., 109., 115., 268., 274., 158.,\n",
       "        107.,  83., 103., 272.,  85., 280., 336., 281., 118., 317., 235.,\n",
       "         60., 174., 259., 178., 128.,  96., 126., 288.,  88., 292.,  71.,\n",
       "        197., 186.,  25.,  84.,  96., 195.,  53., 217., 172., 131., 214.,\n",
       "         59.,  70., 220., 268., 152.,  47.,  74., 295., 101., 151., 127.,\n",
       "        237., 225.,  81., 151., 107.,  64., 138., 185., 265., 101., 137.,\n",
       "        143., 141.,  79., 292., 178.,  91., 116.,  86., 122.,  72., 129.,\n",
       "        142.,  90., 158.,  39., 196., 222., 277.,  99., 196., 202., 155.,\n",
       "         77., 191.,  70.,  73.,  49.,  65., 263., 248., 296., 214., 185.,\n",
       "         78.,  93., 252., 150.,  77., 208.,  77., 108., 160.,  53., 220.,\n",
       "        154., 259.,  90., 246., 124.,  67.,  72., 257., 262., 275., 177.,\n",
       "         71.,  47., 187., 125.,  78.,  51., 258., 215., 303., 243.,  91.,\n",
       "        150., 310., 153., 346.,  63.,  89.,  50.,  39., 103., 308., 116.,\n",
       "        145.,  74.,  45., 115., 264.,  87., 202., 127., 182., 241.,  66.,\n",
       "         94., 283.,  64., 102., 200., 265.,  94., 230., 181., 156., 233.,\n",
       "         60., 219.,  80.,  68., 332., 248.,  84., 200.,  55.,  85.,  89.,\n",
       "         31., 129.,  83., 275.,  65., 198., 236., 253., 124.,  44., 172.,\n",
       "        114., 142., 109., 180., 144., 163., 147.,  97., 220., 190., 109.,\n",
       "        191., 122., 230., 242., 248., 249., 192., 131., 237.,  78., 135.,\n",
       "        244., 199., 270., 164.,  72.,  96., 306.,  91., 214.,  95., 216.,\n",
       "        263., 178., 113., 200., 139., 139.,  88., 148.,  88., 243.,  71.,\n",
       "         77., 109., 272.,  60.,  54., 221.,  90., 311., 281., 182., 321.,\n",
       "         58., 262., 206., 233., 242., 123., 167.,  63., 197.,  71., 168.,\n",
       "        140., 217., 121., 235., 245.,  40.,  52., 104., 132.,  88.,  69.,\n",
       "        219.,  72., 201., 110.,  51., 277.,  63., 118.,  69., 273., 258.,\n",
       "         43., 198., 242., 232., 175.,  93., 168., 275., 293., 281.,  72.,\n",
       "        140., 189., 181., 209., 136., 261., 113., 131., 174., 257.,  55.,\n",
       "         84.,  42., 146., 212., 233.,  91., 111., 152., 120.,  67., 310.,\n",
       "         94., 183.,  66., 173.,  72.,  49.,  64.,  48., 178., 104., 132.,\n",
       "        220.,  57.]),\n",
       " 'frame': None,\n",
       " 'DESCR': '.. _diabetes_dataset:\\n\\nDiabetes dataset\\n----------------\\n\\nTen baseline variables, age, sex, body mass index, average blood\\npressure, and six blood serum measurements were obtained for each of n =\\n442 diabetes patients, as well as the response of interest, a\\nquantitative measure of disease progression one year after baseline.\\n\\n**Data Set Characteristics:**\\n\\n  :Number of Instances: 442\\n\\n  :Number of Attributes: First 10 columns are numeric predictive values\\n\\n  :Target: Column 11 is a quantitative measure of disease progression one year after baseline\\n\\n  :Attribute Information:\\n      - age     age in years\\n      - sex\\n      - bmi     body mass index\\n      - bp      average blood pressure\\n      - s1      tc, T-Cells (a type of white blood cells)\\n      - s2      ldl, low-density lipoproteins\\n      - s3      hdl, high-density lipoproteins\\n      - s4      tch, thyroid stimulating hormone\\n      - s5      ltg, lamotrigine\\n      - s6      glu, blood sugar level\\n\\nNote: Each of these 10 feature variables have been mean centered and scaled by the standard deviation times `n_samples` (i.e. the sum of squares of each column totals 1).\\n\\nSource URL:\\nhttps://www4.stat.ncsu.edu/~boos/var.select/diabetes.html\\n\\nFor more information see:\\nBradley Efron, Trevor Hastie, Iain Johnstone and Robert Tibshirani (2004) \"Least Angle Regression,\" Annals of Statistics (with discussion), 407-499.\\n(https://web.stanford.edu/~hastie/Papers/LARS/LeastAngle_2002.pdf)',\n",
       " 'feature_names': ['age',\n",
       "  'sex',\n",
       "  'bmi',\n",
       "  'bp',\n",
       "  's1',\n",
       "  's2',\n",
       "  's3',\n",
       "  's4',\n",
       "  's5',\n",
       "  's6'],\n",
       " 'data_filename': 'C:\\\\Anaconda\\\\lib\\\\site-packages\\\\sklearn\\\\datasets\\\\data\\\\diabetes_data.csv.gz',\n",
       " 'target_filename': 'C:\\\\Anaconda\\\\lib\\\\site-packages\\\\sklearn\\\\datasets\\\\data\\\\diabetes_target.csv.gz'}"
      ]
     },
     "execution_count": 23,
     "metadata": {},
     "output_type": "execute_result"
    }
   ],
   "source": [
    "\n",
    "pd.set_option('display.max_rows', 500)\n",
    "pd.set_option('display.max_columns', 500)\n",
    "pd.set_option('display.width', 1000)\n",
    "\n",
    "diabetes"
   ]
  },
  {
   "cell_type": "code",
   "execution_count": 3,
   "id": "latest-valuation",
   "metadata": {},
   "outputs": [
    {
     "name": "stdout",
     "output_type": "stream",
     "text": [
      "Training Score : 0.3246325550816349\n",
      "-----\n",
      "Test Score : 0.37399157733154254\n",
      "-----\n",
      "['age', 'sex', 'bmi', 'bp', 's1', 's2', 's3', 's4', 's5', 's6']\n",
      "[False False  True  True False False False False  True False]\n"
     ]
    }
   ],
   "source": [
    "# QUESTION_3\n",
    "import numpy as np\n",
    "from sklearn.linear_model import Lasso\n",
    "lasso = Lasso().fit(X_train, Y_train)\n",
    "print(\"Training Score :\", lasso.score(X_train, Y_train))\n",
    "print(\"-----\")\n",
    "print(\"Test Score :\", lasso.score(X_test, Y_test))\n",
    "print(\"-----\")\n",
    "print(diabetes['feature_names'])\n",
    "print(lasso.coef_ != 0)"
   ]
  },
  {
   "cell_type": "markdown",
   "id": "adapted-article",
   "metadata": {},
   "source": [
    "* Number of Features used = 3\n",
    "* Features = bmi, bp, s5"
   ]
  },
  {
   "cell_type": "code",
   "execution_count": 4,
   "id": "failing-disposal",
   "metadata": {},
   "outputs": [
    {
     "name": "stdout",
     "output_type": "stream",
     "text": [
      "X : (442, 10) Y : (442,)\n"
     ]
    }
   ],
   "source": [
    "# QUESTION_4\n",
    "X = np.genfromtxt(\"diabetes.data.txt\", skip_header = 1, usecols = np.arange(10))\n",
    "Y = np.genfromtxt(\"diabetes.data.txt\", skip_header = 1, usecols = 10)\n",
    "print(\"X :\",X.shape,\"Y :\", Y.shape)"
   ]
  },
  {
   "cell_type": "code",
   "execution_count": 5,
   "id": "miniature-coordinate",
   "metadata": {},
   "outputs": [
    {
     "name": "stdout",
     "output_type": "stream",
     "text": [
      "(331, 10)\n",
      "(111, 10)\n",
      "(331,)\n",
      "(111,)\n"
     ]
    }
   ],
   "source": [
    "# QUESTION_5\n",
    "X_train1, X_test1, Y_train1, Y_test1 = train_test_split(X, Y, random_state = 107)\n",
    "print(X_train1.shape)\n",
    "print(X_test1.shape)\n",
    "print(Y_train1.shape)\n",
    "print(Y_test1.shape)"
   ]
  },
  {
   "cell_type": "code",
   "execution_count": 6,
   "id": "charitable-reason",
   "metadata": {},
   "outputs": [
    {
     "name": "stdout",
     "output_type": "stream",
     "text": [
      "Training Score : 0.4938822588514533\n",
      "-----\n",
      "Test Score : 0.5394373756042796\n",
      "-----\n",
      "['age', 'sex', 'bmi', 'bp', 's1', 's2', 's3', 's4', 's5', 's6']\n",
      "[ True  True  True  True  True  True  True  True  True  True]\n"
     ]
    }
   ],
   "source": [
    "# QUESTION_6\n",
    "lasso1 = Lasso().fit(X_train1, Y_train1)\n",
    "print(\"Training Score :\", lasso1.score(X_train1, Y_train1))\n",
    "print(\"-----\")\n",
    "print(\"Test Score :\", lasso1.score(X_test1, Y_test1))\n",
    "print(\"-----\")\n",
    "print(diabetes['feature_names'])\n",
    "print(lasso1.coef_ != 0)"
   ]
  },
  {
   "cell_type": "markdown",
   "id": "integral-friend",
   "metadata": {},
   "source": [
    "* Number of features increased from 3 to 10\n",
    "* Meaning all the features are being used.\n",
    "* Training and Testing score both increased."
   ]
  },
  {
   "cell_type": "code",
   "execution_count": 7,
   "id": "excessive-screen",
   "metadata": {},
   "outputs": [
    {
     "name": "stdout",
     "output_type": "stream",
     "text": [
      "(331, 10)\n",
      "(111, 10)\n"
     ]
    }
   ],
   "source": [
    "# QUESTION_7\n",
    "from sklearn.preprocessing import StandardScaler\n",
    "scaler = StandardScaler()\n",
    "scaler.fit(X_train1)\n",
    "X_train_scaled = scaler.transform(X_train1)\n",
    "X_test_scaled = scaler.transform(X_test1)\n",
    "print(X_train_scaled.shape)\n",
    "print(X_test_scaled.shape)"
   ]
  },
  {
   "cell_type": "code",
   "execution_count": 8,
   "id": "incoming-strap",
   "metadata": {},
   "outputs": [
    {
     "name": "stdout",
     "output_type": "stream",
     "text": [
      "Training Score : 0.4980763282409\n",
      "-----\n",
      "Test Score : 0.5499317205392027\n",
      "-----\n",
      "['age', 'sex', 'bmi', 'bp', 's1', 's2', 's3', 's4', 's5', 's6']\n",
      "[ True  True  True  True  True False  True  True  True  True]\n"
     ]
    }
   ],
   "source": [
    "# QUESTION_8\n",
    "lasso_scaled = Lasso().fit(X_train_scaled, Y_train1)\n",
    "print(\"Training Score :\", lasso_scaled.score(X_train_scaled, Y_train1))\n",
    "print(\"-----\")\n",
    "print(\"Test Score :\", lasso_scaled.score(X_test_scaled, Y_test1))\n",
    "print(\"-----\")\n",
    "print(diabetes['feature_names'])\n",
    "print(lasso_scaled.coef_ != 0)"
   ]
  },
  {
   "cell_type": "markdown",
   "id": "concerned-combine",
   "metadata": {},
   "source": [
    "* Number of Features used decreased from 10 to 9\n",
    "* But both Training and Testing Score increased slightly."
   ]
  },
  {
   "cell_type": "code",
   "execution_count": 9,
   "id": "imported-potential",
   "metadata": {},
   "outputs": [
    {
     "name": "stdout",
     "output_type": "stream",
     "text": [
      "[ 9.  9.  9.  9. 10. 10. 10. 10.]\n",
      "[0.54993172 0.54978318 0.54948634 0.54928199 0.54993506 0.5523229\n",
      " 0.55268176 0.55281055]\n"
     ]
    },
    {
     "data": {
      "text/plain": [
       "Text(0, 0.5, 'Test R^2')"
      ]
     },
     "execution_count": 9,
     "metadata": {},
     "output_type": "execute_result"
    },
    {
     "data": {
      "image/png": "[encoded data removed]",
      "text/plain": [
       "<Figure size 432x288 with 1 Axes>"
      ]
     },
     "metadata": {
      "needs_background": "light"
     },
     "output_type": "display_data"
    }
   ],
   "source": [
    "# QUESTION_9\n",
    "import matplotlib.pyplot as plt\n",
    "alpha = [1, 0.8, 0.6, 0.5, 0.1, 0.02, 0.006, 0.0008]\n",
    "lasso_test = np.zeros(len(alpha))\n",
    "count = np.zeros(len(alpha))\n",
    "for i in range(len(alpha)):\n",
    "    lasso_train = Lasso(alpha = alpha[i], max_iter = 100000).fit(X_train_scaled, Y_train1)\n",
    "    lasso_test[i] = lasso_train.score(X_test_scaled, Y_test1)\n",
    "    count[i] = np.sum(lasso_train.coef_ != 0)\n",
    "    \n",
    "print(count)\n",
    "print(lasso_test)\n",
    "plt.plot(count,lasso_test)\n",
    "plt.xlabel(\"Number of Features\")\n",
    "plt.ylabel(\"Test R^2\")"
   ]
  },
  {
   "cell_type": "markdown",
   "id": "instrumental-evidence",
   "metadata": {},
   "source": [
    "* When the parameter value reach 10, it becomes stable(i:e vertical lines)"
   ]
  },
  {
   "cell_type": "code",
   "execution_count": 10,
   "id": "unsigned-vanilla",
   "metadata": {},
   "outputs": [
    {
     "name": "stdout",
     "output_type": "stream",
     "text": [
      "Training Score with best parameters : 0.49972338040647546\n",
      "-----\n",
      "Test Score with best parameters : 0.5494863354274007\n",
      "-----\n",
      "['age', 'sex', 'bmi', 'bp', 's1', 's2', 's3', 's4', 's5', 's6']\n",
      "[ True  True  True  True  True False  True  True  True  True]\n",
      "-----\n",
      "best alpha : 0.6 best max_iter : 1000\n",
      "Best Score : 0.46432544564353223\n"
     ]
    }
   ],
   "source": [
    "# QUESTION_10\n",
    "from sklearn.model_selection import cross_val_score\n",
    "from sklearn.svm import SVC\n",
    "import warnings\n",
    "warnings.filterwarnings('ignore')\n",
    "best_score = 0\n",
    "\n",
    "alpha = [1, 0.8, 0.6, 0.5, 0.1, 0.02, 0.006, 0.0008]\n",
    "max_iter1 = [1000, 10000, 100000,1000000]\n",
    "\n",
    "for i in range(len(alpha)) :\n",
    "    for j in range(len(max_iter1)) :\n",
    "        cross_value = Lasso(alpha=alpha[i], max_iter=max_iter1[j]).fit(X_train_scaled, Y_train1)\n",
    "        #Cross-validation\n",
    "        scores = cross_val_score(cross_value, X_train_scaled, Y_train1, cv=5)\n",
    "        score = np.mean(scores)\n",
    "        \n",
    "        if score > best_score:\n",
    "            best_score = score\n",
    "            best_alpha = alpha[i]\n",
    "            best_max_iter = max_iter1[j]\n",
    "        \n",
    "lasso_regularized = Lasso(alpha = best_alpha, max_iter = best_max_iter).fit(X_train_scaled, Y_train1)\n",
    "\n",
    "print(\"Training Score with best parameters :\", lasso_regularized.score(X_train_scaled, Y_train1))\n",
    "print(\"-----\")\n",
    "print(\"Test Score with best parameters :\", lasso_regularized.score(X_test_scaled, Y_test1))\n",
    "print(\"-----\")\n",
    "print(diabetes['feature_names'])\n",
    "print(lasso_scaled.coef_ != 0)\n",
    "print(\"-----\")\n",
    "print(\"best alpha :\", best_alpha, \"best max_iter :\", best_max_iter)\n",
    "print(\"Best Score :\", best_score)"
   ]
  },
  {
   "cell_type": "markdown",
   "id": "dynamic-alaska",
   "metadata": {},
   "source": [
    "* Number of features used here are 9."
   ]
  },
  {
   "cell_type": "markdown",
   "id": "reliable-summit",
   "metadata": {},
   "source": [
    "### QUESTION_11"
   ]
  },
  {
   "cell_type": "code",
   "execution_count": 11,
   "id": "selected-cause",
   "metadata": {},
   "outputs": [
    {
     "name": "stdout",
     "output_type": "stream",
     "text": [
      "(232, 10)\n",
      "(99, 10)\n"
     ]
    }
   ],
   "source": [
    "X_train_proper, X_calibration, Y_train_proper, Y_calibration = train_test_split(X_train1, Y_train1, test_size = 99, random_state = 107)\n",
    "print(X_train_proper.shape)\n",
    "print(X_calibration.shape)"
   ]
  },
  {
   "cell_type": "code",
   "execution_count": 12,
   "id": "geographic-election",
   "metadata": {},
   "outputs": [
    {
     "data": {
      "text/plain": [
       "StandardScaler()"
      ]
     },
     "execution_count": 12,
     "metadata": {},
     "output_type": "execute_result"
    }
   ],
   "source": [
    "scaler = StandardScaler()\n",
    "scaler.fit(X_train_proper)"
   ]
  },
  {
   "cell_type": "code",
   "execution_count": 13,
   "id": "juvenile-chile",
   "metadata": {},
   "outputs": [],
   "source": [
    "X_train_proper_scaled = scaler.transform(X_train_proper)\n",
    "X_calibration_scaled = scaler.transform(X_calibration)\n",
    "X_test_proper_scaled = scaler.transform(X_test1)"
   ]
  },
  {
   "cell_type": "code",
   "execution_count": 14,
   "id": "located-difficulty",
   "metadata": {},
   "outputs": [],
   "source": [
    "lasso_train1 = Lasso(best_alpha, best_max_iter).fit(X_train_proper_scaled, Y_train_proper)\n",
    "lasso_calibration = lasso_train1.fit(X_calibration_scaled, Y_calibration)"
   ]
  },
  {
   "cell_type": "code",
   "execution_count": 15,
   "id": "gross-diesel",
   "metadata": {},
   "outputs": [
    {
     "name": "stdout",
     "output_type": "stream",
     "text": [
      "99\n"
     ]
    }
   ],
   "source": [
    "y_bar = lasso_calibration.predict(X_calibration_scaled)\n",
    "alpha_calibration = abs(Y_calibration - y_bar)\n",
    "y_bar = np.sort(alpha_calibration)\n",
    "print(alpha_calibration.size)"
   ]
  },
  {
   "cell_type": "markdown",
   "id": "addressed-island",
   "metadata": {},
   "source": [
    "### QUESTION_12"
   ]
  },
  {
   "cell_type": "code",
   "execution_count": 16,
   "id": "finished-router",
   "metadata": {},
   "outputs": [
    {
     "name": "stdout",
     "output_type": "stream",
     "text": [
      "The training and test R2 for the Lasso model with default parameters on the scikit-learn version of diabetes -\n",
      "Training Score : 0.3246325550816349\n",
      "-----\n",
      "Test Score : 0.37399157733154254\n",
      "-----\n"
     ]
    }
   ],
   "source": [
    "# 12_a\n",
    "print(\"The training and test R2 for the Lasso model with default parameters on the scikit-learn version of diabetes -\")\n",
    "print(\"Training Score :\", lasso.score(X_train, Y_train))\n",
    "print(\"-----\")\n",
    "print(\"Test Score :\", lasso.score(X_test, Y_test))\n",
    "print(\"-----\")"
   ]
  },
  {
   "cell_type": "markdown",
   "id": "unknown-chorus",
   "metadata": {},
   "source": [
    "* Number of Features used 3."
   ]
  },
  {
   "cell_type": "code",
   "execution_count": 17,
   "id": "widespread-night",
   "metadata": {},
   "outputs": [
    {
     "name": "stdout",
     "output_type": "stream",
     "text": [
      "The training and test R2 for the Lasso model with default parameters on the original version of diabetes -\n",
      "Training Score : 0.4938822588514533\n",
      "-----\n",
      "Test Score : 0.5394373756042796\n",
      "-----\n"
     ]
    }
   ],
   "source": [
    "# 12_b\n",
    "print(\"The training and test R2 for the Lasso model with default parameters on the original version of diabetes -\")\n",
    "print(\"Training Score :\", lasso1.score(X_train1, Y_train1))\n",
    "print(\"-----\")\n",
    "print(\"Test Score :\", lasso1.score(X_test1, Y_test1))\n",
    "print(\"-----\")"
   ]
  },
  {
   "cell_type": "markdown",
   "id": "fantastic-minutes",
   "metadata": {},
   "source": [
    "* Number of Features used 10."
   ]
  },
  {
   "cell_type": "code",
   "execution_count": 18,
   "id": "mighty-stand",
   "metadata": {},
   "outputs": [
    {
     "name": "stdout",
     "output_type": "stream",
     "text": [
      "The training and test R2 for the Lasso model with default parameters on normalized version of diabetes -\n",
      "Training Score : 0.4980763282409\n",
      "-----\n",
      "Test Score : 0.5499317205392027\n",
      "-----\n"
     ]
    }
   ],
   "source": [
    "# 12_c\n",
    "print(\"The training and test R2 for the Lasso model with default parameters on normalized version of diabetes -\")\n",
    "print(\"Training Score :\", lasso_scaled.score(X_train_scaled, Y_train1))\n",
    "print(\"-----\")\n",
    "print(\"Test Score :\", lasso_scaled.score(X_test_scaled, Y_test1))\n",
    "print(\"-----\")"
   ]
  },
  {
   "cell_type": "markdown",
   "id": "cooked-train",
   "metadata": {},
   "source": [
    "* Number of Features used 9."
   ]
  },
  {
   "cell_type": "code",
   "execution_count": 19,
   "id": "tutorial-tours",
   "metadata": {},
   "outputs": [
    {
     "name": "stdout",
     "output_type": "stream",
     "text": [
      "The training and test R2 for the Lasso model with the best parameters chosen by cross-validation on normalized version of diabetes -\n",
      "Training Score with best parameters : 0.49972338040647546\n",
      "-----\n",
      "Test Score with best parameters : 0.5494863354274007\n",
      "-----\n"
     ]
    }
   ],
   "source": [
    "# 12_d\n",
    "print(\"The training and test R2 for the Lasso model with the best parameters chosen by cross-validation on normalized version of diabetes -\")\n",
    "print(\"Training Score with best parameters :\", lasso_regularized.score(X_train_scaled, Y_train1))\n",
    "print(\"-----\")\n",
    "print(\"Test Score with best parameters :\", lasso_regularized.score(X_test_scaled, Y_test1))\n",
    "print(\"-----\")"
   ]
  },
  {
   "cell_type": "markdown",
   "id": "developmental-green",
   "metadata": {},
   "source": [
    "* Number of Features used 9."
   ]
  }
 ],
 "metadata": {
  "kernelspec": {
   "display_name": "Python 3",
   "language": "python",
   "name": "python3"
  },
  "language_info": {
   "codemirror_mode": {
    "name": "ipython",
    "version": 3
   },
   "file_extension": ".py",
   "mimetype": "text/x-python",
   "name": "python",
   "nbconvert_exporter": "python",
   "pygments_lexer": "ipython3",
   "version": "3.7.10"
  }
 },
 "nbformat": 4,
 "nbformat_minor": 5
}
