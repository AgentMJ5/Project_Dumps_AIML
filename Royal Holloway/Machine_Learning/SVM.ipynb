{
 "cells": [
  {
   "cell_type": "code",
   "execution_count": 1,
   "id": "descending-turkey",
   "metadata": {},
   "outputs": [],
   "source": [
    "import numpy as np\n",
    "import pandas as pd\n",
    "import  matplotlib.pyplot as plt\n",
    "from sklearn.svm import SVC\n",
    "from sklearn.model_selection import train_test_split, cross_val_score\n",
    "import warnings"
   ]
  },
  {
   "cell_type": "code",
   "execution_count": 2,
   "id": "rural-floor",
   "metadata": {},
   "outputs": [
    {
     "name": "stdout",
     "output_type": "stream",
     "text": [
      "(178, 13)\n"
     ]
    }
   ],
   "source": [
    "# WIne dataset\n",
    "from sklearn.datasets import load_wine\n",
    "wine = load_wine()\n",
    "print(wine.data.shape)"
   ]
  },
  {
   "cell_type": "code",
   "execution_count": 3,
   "id": "egyptian-plain",
   "metadata": {},
   "outputs": [],
   "source": [
    "# USPS dataset\n",
    "USPS_train = np.genfromtxt(\"zip.train\")\n",
    "USPS_test = np.genfromtxt(\"zip.test\")\n",
    "usps_data = np.concatenate((USPS_train, USPS_test), axis = 0)"
   ]
  },
  {
   "cell_type": "code",
   "execution_count": 4,
   "id": "nasty-alaska",
   "metadata": {},
   "outputs": [],
   "source": [
    "X_train, X_test, Y_train, Y_test = train_test_split(wine.data, wine.target, random_state = 107)"
   ]
  },
  {
   "cell_type": "code",
   "execution_count": 5,
   "id": "crazy-bhutan",
   "metadata": {},
   "outputs": [],
   "source": [
    "usps_x = usps_data[:,:-1]\n",
    "usps_y = usps_data[:,-1].astype(int)\n",
    "usps_X_train, usps_X_test, usps_Y_train, usps_Y_test = train_test_split(usps_x, usps_y, random_state = 107)"
   ]
  },
  {
   "cell_type": "code",
   "execution_count": 6,
   "id": "vocational-kennedy",
   "metadata": {},
   "outputs": [
    {
     "name": "stdout",
     "output_type": "stream",
     "text": [
      "accuracy of wine: 0.7293447293447294\n"
     ]
    }
   ],
   "source": [
    "warnings.filterwarnings('ignore')\n",
    "svm = SVC()\n",
    "score_wine = cross_val_score(svm, X_train, Y_train)\n",
    "wine_train = np.mean(score_wine)\n",
    "print('accuracy of wine:', wine_train)"
   ]
  },
  {
   "cell_type": "code",
   "execution_count": 7,
   "id": "bacterial-mining",
   "metadata": {},
   "outputs": [
    {
     "name": "stdout",
     "output_type": "stream",
     "text": [
      "accuracy of usps: 0.9905349603780668\n"
     ]
    }
   ],
   "source": [
    "from sklearn import preprocessing\n",
    "svm =SVC()\n",
    "encoder = preprocessing.LabelEncoder()\n",
    "score_encoded = encoder.fit_transform(usps_Y_train)\n",
    "score_usps = cross_val_score(svm, usps_X_train, usps_Y_train)\n",
    "usps_train = np.mean(score_usps)\n",
    "print('accuracy of usps:', usps_train)"
   ]
  },
  {
   "cell_type": "code",
   "execution_count": 8,
   "id": "ready-needle",
   "metadata": {},
   "outputs": [
    {
     "name": "stdout",
     "output_type": "stream",
     "text": [
      "Test error rate of wine: 0.37777777777777777\n"
     ]
    }
   ],
   "source": [
    "svm.fit(X_train, Y_train)\n",
    "test_error_wine = 1 - svm.score(X_test, Y_test)\n",
    "print('Test error rate of wine:', test_error_wine)"
   ]
  },
  {
   "cell_type": "code",
   "execution_count": 9,
   "id": "handled-acrobat",
   "metadata": {},
   "outputs": [
    {
     "name": "stdout",
     "output_type": "stream",
     "text": [
      "Test error rate of usps: 0.007311827956989259\n"
     ]
    }
   ],
   "source": [
    "svm.fit(usps_X_train, usps_Y_train)\n",
    "test_error_usps = 1 - svm.score(usps_X_test, usps_Y_test)\n",
    "print('Test error rate of usps:', test_error_usps)"
   ]
  },
  {
   "cell_type": "markdown",
   "id": "certain-dominican",
   "metadata": {},
   "source": [
    "## Observations.\n",
    "\n",
    "* Both accuracy and test error rate for both datasets are similar."
   ]
  },
  {
   "cell_type": "code",
   "execution_count": 10,
   "id": "orange-hostel",
   "metadata": {},
   "outputs": [],
   "source": [
    "from sklearn.model_selection import GridSearchCV\n",
    "param_grid = {'svc__C': [0.01, 0.1, 1, 10, 100],'svc__gamma': [0.001, 0.01, 0.1, 1, 10, 100]}"
   ]
  },
  {
   "cell_type": "code",
   "execution_count": 11,
   "id": "robust-outside",
   "metadata": {},
   "outputs": [],
   "source": [
    "from sklearn.pipeline import make_pipeline\n",
    "from sklearn.preprocessing import MinMaxScaler, StandardScaler, RobustScaler, Normalizer\n"
   ]
  },
  {
   "cell_type": "code",
   "execution_count": 12,
   "id": "signed-warrant",
   "metadata": {},
   "outputs": [],
   "source": [
    "# Creating pipelines for different Normalization\n",
    "MMS = make_pipeline(MinMaxScaler(), SVC())\n",
    "SS = make_pipeline(StandardScaler(), SVC())\n",
    "RS = make_pipeline(RobustScaler(), SVC())\n",
    "Norm = make_pipeline(Normalizer(), SVC())"
   ]
  },
  {
   "cell_type": "code",
   "execution_count": 13,
   "id": "essential-marathon",
   "metadata": {},
   "outputs": [
    {
     "name": "stdout",
     "output_type": "stream",
     "text": [
      "__Wine Dataset__\n",
      "accuracy of MinMaxScaler: 0.9925925925925926\n",
      "accuracy of StandardScaler: 0.9925925925925926\n",
      "accuracy of RobustScaler: 0.9925925925925926\n",
      "accuracy of Normalizer: 0.9401709401709402\n"
     ]
    }
   ],
   "source": [
    "# WIne dataset.\n",
    "print('__Wine Dataset__')\n",
    "mms_grid_wine = GridSearchCV(MMS, param_grid = param_grid)\n",
    "mms_grid_wine.fit(X_train, Y_train)\n",
    "print('accuracy of MinMaxScaler:', mms_grid_wine.best_score_)\n",
    "\n",
    "ss_grid_wine = GridSearchCV(SS, param_grid = param_grid)\n",
    "ss_grid_wine.fit(X_train, Y_train)\n",
    "print('accuracy of StandardScaler:', ss_grid_wine.best_score_)\n",
    "\n",
    "rs_grid_wine = GridSearchCV(RS, param_grid = param_grid)\n",
    "rs_grid_wine.fit(X_train, Y_train)\n",
    "print('accuracy of RobustScaler:', rs_grid_wine.best_score_)\n",
    "\n",
    "n_grid_wine = GridSearchCV(Norm, param_grid = param_grid)\n",
    "n_grid_wine.fit(X_train, Y_train)\n",
    "print('accuracy of Normalizer:', n_grid_wine.best_score_)"
   ]
  },
  {
   "cell_type": "code",
   "execution_count": 14,
   "id": "after-federal",
   "metadata": {},
   "outputs": [
    {
     "name": "stdout",
     "output_type": "stream",
     "text": [
      "__USPS Dataset__\n",
      "accuracy of MinMaxScaler: 0.9939765405244184\n",
      "accuracy of StandardScaler: 0.9967014804872907\n",
      "accuracy of RobustScaler: 0.9886709554002561\n",
      "accuracy of Normalizer: 0.9931160169286702\n"
     ]
    }
   ],
   "source": [
    "# usps dataset.\n",
    "param_grid1 = {'svc__C': [0.01, 1, 10],'svc__gamma': [0.001, 0.01, 0.1]}\n",
    "print('__USPS Dataset__')\n",
    "mms_grid_usps = GridSearchCV(MMS, param_grid = param_grid1)\n",
    "mms_grid_usps.fit(usps_X_train, usps_Y_train)\n",
    "print('accuracy of MinMaxScaler:', mms_grid_usps.best_score_)\n",
    "\n",
    "ss_grid_usps = GridSearchCV(SS, param_grid = param_grid1)\n",
    "ss_grid_usps.fit(usps_X_train, usps_Y_train)\n",
    "print('accuracy of StandardScaler:', ss_grid_usps.best_score_)\n",
    "\n",
    "rs_grid_usps = GridSearchCV(RS, param_grid = param_grid1)\n",
    "rs_grid_usps.fit(usps_X_train, usps_Y_train)\n",
    "print('accuracy of RobustScaler:', rs_grid_usps.best_score_)\n",
    "\n",
    "n_grid_usps = GridSearchCV(Norm, param_grid = param_grid1)\n",
    "n_grid_usps.fit(usps_X_train, usps_Y_train)\n",
    "print('accuracy of Normalizer:', n_grid_usps.best_score_)"
   ]
  },
  {
   "cell_type": "code",
   "execution_count": 15,
   "id": "personalized-brain",
   "metadata": {},
   "outputs": [
    {
     "name": "stdout",
     "output_type": "stream",
     "text": [
      "__Wine Dataset__\n",
      "Test Score of MinMaxScaler: 0.9333333333333333\n",
      "Test Score of StandardScaler: 0.9111111111111111\n",
      "Test Score of RobustScaler: 0.9555555555555556\n",
      "Test Score of Normalizer: 0.8888888888888888\n"
     ]
    }
   ],
   "source": [
    "# WIne dataset.\n",
    "print('__Wine Dataset__')\n",
    "mms_predict_wine = mms_grid_wine.predict(X_test)\n",
    "print('Test Score of MinMaxScaler:', np.mean(Y_test == mms_predict_wine))\n",
    "\n",
    "ss_predict_wine = ss_grid_wine.predict(X_test)\n",
    "print('Test Score of StandardScaler:', np.mean(Y_test == ss_predict_wine))\n",
    "\n",
    "rs_predict_wine = rs_grid_wine.predict(X_test)\n",
    "print('Test Score of RobustScaler:', np.mean(Y_test == rs_predict_wine))\n",
    "\n",
    "n_predict_wine = n_grid_wine.predict(X_test)\n",
    "print('Test Score of Normalizer:', np.mean(Y_test == n_predict_wine))"
   ]
  },
  {
   "cell_type": "code",
   "execution_count": 16,
   "id": "hearing-being",
   "metadata": {},
   "outputs": [
    {
     "name": "stdout",
     "output_type": "stream",
     "text": [
      "__USPS Dataset__\n",
      "Test Score of MinMaxScaler: 0.995268817204301\n",
      "Test Score of StandardScaler: 0.9965591397849463\n",
      "Test Score of RobustScaler: 0.9879569892473118\n",
      "Test Score of Normalizer: 0.9944086021505376\n"
     ]
    }
   ],
   "source": [
    "# USPS Dataset.\n",
    "print('__USPS Dataset__')\n",
    "mms_predict_usps = mms_grid_usps.predict(usps_X_test)\n",
    "print('Test Score of MinMaxScaler:', np.mean(usps_Y_test == mms_predict_usps))\n",
    "\n",
    "ss_predict_usps = ss_grid_usps.predict(usps_X_test)\n",
    "print('Test Score of StandardScaler:', np.mean(usps_Y_test == ss_predict_usps))\n",
    "\n",
    "rs_predict_usps = rs_grid_usps.predict(usps_X_test)\n",
    "print('Test Score of RobustScaler:', np.mean(usps_Y_test == rs_predict_usps))\n",
    "\n",
    "n_predict_usps = n_grid_usps.predict(usps_X_test)\n",
    "print('Test Score of Normalizer:', np.mean(usps_Y_test == n_predict_usps))"
   ]
  },
  {
   "cell_type": "markdown",
   "id": "distinguished-print",
   "metadata": {},
   "source": [
    "## Observations.\n",
    "\n",
    "* For Wine Dataset.\n",
    "    * MinMaxScaler and RobustScaler are better considering the change in performance across all the four types of Normalization\n",
    "    \n",
    "* For USPS Dataset.\n",
    "    * MinMaxScaler and Normalizer are better considering the change in performance."
   ]
  },
  {
   "cell_type": "markdown",
   "id": "damaged-custody",
   "metadata": {},
   "source": [
    "## MLP"
   ]
  },
  {
   "cell_type": "code",
   "execution_count": 17,
   "id": "classical-scroll",
   "metadata": {},
   "outputs": [
    {
     "name": "stdout",
     "output_type": "stream",
     "text": [
      "Initial accuracy with MLP: 0.5116809116809116\n",
      "accuracy of wine: 0.7293447293447294\n"
     ]
    }
   ],
   "source": [
    "from sklearn.neural_network import MLPClassifier\n",
    "\n",
    "mlp = MLPClassifier(random_state = 107)\n",
    "scores_mlp_wine = cross_val_score(mlp, X_train,Y_train)\n",
    "accuracy_mlp_wine = np.mean(scores_mlp_wine)\n",
    "\n",
    "print('Initial accuracy with MLP:', accuracy_mlp_wine)\n",
    "print('accuracy of wine:', wine_train)"
   ]
  },
  {
   "cell_type": "code",
   "execution_count": 18,
   "id": "thorough-supply",
   "metadata": {},
   "outputs": [
    {
     "name": "stdout",
     "output_type": "stream",
     "text": [
      "Test error rate with MLP 0.5555555555555556\n",
      "Test error of wine: 0.37777777777777777\n"
     ]
    }
   ],
   "source": [
    "mlp.fit(X_train, Y_train)\n",
    "predict_mlp_wine = mlp.predict(X_test)\n",
    "print('Test error rate with MLP', np.mean(Y_test != predict_mlp_wine))\n",
    "print('Test error of wine:', test_error_wine)"
   ]
  },
  {
   "cell_type": "code",
   "execution_count": 19,
   "id": "mineral-biology",
   "metadata": {},
   "outputs": [
    {
     "name": "stdout",
     "output_type": "stream",
     "text": [
      "Initial accuracy with MLP: 0.9922558018749068\n",
      "accuracy of usps: 0.9905349603780668\n"
     ]
    }
   ],
   "source": [
    "# USPS Dataset.\n",
    "mlp = MLPClassifier(random_state = 107)\n",
    "scores_mlp_usps = cross_val_score(mlp, usps_X_train,usps_Y_train)\n",
    "accuracy_mlp_usps = np.mean(scores_mlp_usps)\n",
    "\n",
    "print('Initial accuracy with MLP:', accuracy_mlp_usps)\n",
    "print('accuracy of usps:', usps_train)"
   ]
  },
  {
   "cell_type": "code",
   "execution_count": 20,
   "id": "still-bailey",
   "metadata": {},
   "outputs": [
    {
     "name": "stdout",
     "output_type": "stream",
     "text": [
      "Test error rate with MLP 0.005161290322580645\n",
      "Test error of usps: 0.007311827956989259\n"
     ]
    }
   ],
   "source": [
    "mlp.fit(usps_X_train, usps_Y_train)\n",
    "predict_mlp_usps = mlp.predict(usps_X_test)\n",
    "print('Test error rate with MLP', np.mean(usps_Y_test != predict_mlp_usps))\n",
    "print('Test error of usps:', test_error_usps)"
   ]
  },
  {
   "cell_type": "code",
   "execution_count": 21,
   "id": "turned-variation",
   "metadata": {},
   "outputs": [
    {
     "name": "stdout",
     "output_type": "stream",
     "text": [
      "Test Error by (MinMaxScaler) Classifier on Wine dataset 0.15555555555555556\n",
      "Test Error by MinMaxScaler on Wine dataset 1.0\n",
      "Test error by (Normalizer) classifier on wine dataset 0.06666666666666667\n",
      "Test error by Normalizer on wine dataset 1.0\n"
     ]
    }
   ],
   "source": [
    "# WIne dataset.\n",
    "param_grid = {'mlpclassifier__solver': ['lbfgs','adam'],\n",
    "              'mlpclassifier__hidden_layer_sizes': [[10],[10,10],[10,10,10]],\n",
    "              'mlpclassifier__activation':['relu']}\n",
    "\n",
    "MMS_wine = make_pipeline(MinMaxScaler(), mlp)\n",
    "grid = GridSearchCV(MMS_wine, param_grid = param_grid)\n",
    "grid.fit(X_train, Y_train)\n",
    "predict_MMS_wine = grid.predict(X_test)\n",
    "print('Test Error by (MinMaxScaler) Classifier on Wine dataset', np.mean(Y_test != predict_MMS_wine))\n",
    "print('Test Error by MinMaxScaler on Wine dataset',np.mean(Y_test != MMS_wine))\n",
    "\n",
    "Norm_wine = make_pipeline(Normalizer(), mlp)\n",
    "grid_norm = GridSearchCV(Norm_wine, param_grid = param_grid)\n",
    "grid_norm.fit(X_train, Y_train)\n",
    "predict_Norm_wine = grid_norm.predict(X_test)\n",
    "print('Test error by (Normalizer) classifier on wine dataset', np.mean(Y_test != predict_Norm_wine))\n",
    "print('Test error by Normalizer on wine dataset', np.mean(Y_test != Norm_wine))"
   ]
  },
  {
   "cell_type": "code",
   "execution_count": 22,
   "id": "moved-southeast",
   "metadata": {},
   "outputs": [
    {
     "name": "stdout",
     "output_type": "stream",
     "text": [
      "Test Error by (MinMaxScaler) Classifier on USPS dataset 0.005591397849462366\n",
      "Test Error by MinMaxScaler on USPS dataset 1.0\n",
      "Test error by (Normalizer) classifier on USPS dataset 0.004731182795698925\n",
      "Test error by Normalizer on USPS dataset 1.0\n"
     ]
    }
   ],
   "source": [
    "# USPS Dataset.\n",
    "param_grid = {'mlpclassifier__solver': ['lbfgs','adam'],\n",
    "              'mlpclassifier__hidden_layer_sizes': [[10],[10,10],[10,10,10]],\n",
    "              'mlpclassifier__activation':['relu']}\n",
    "\n",
    "MMS_usps = make_pipeline(MinMaxScaler(), mlp)\n",
    "usps_grid = GridSearchCV(MMS_usps, param_grid = param_grid)\n",
    "usps_grid.fit(usps_X_train, usps_Y_train)\n",
    "predict_MMS_usps = usps_grid.predict(usps_X_test)\n",
    "print('Test Error by (MinMaxScaler) Classifier on USPS dataset', np.mean(usps_Y_test != predict_MMS_usps))\n",
    "print('Test Error by MinMaxScaler on USPS dataset',np.mean(usps_Y_test != MMS_usps))\n",
    "\n",
    "Norm_usps = make_pipeline(Normalizer(), mlp)\n",
    "usps_grid_norm = GridSearchCV(Norm_usps, param_grid = param_grid)\n",
    "usps_grid_norm.fit(usps_X_train, usps_Y_train)\n",
    "predict_Norm_usps = usps_grid_norm.predict(usps_X_test)\n",
    "print('Test error by (Normalizer) classifier on USPS dataset', np.mean(usps_Y_test != predict_Norm_usps))\n",
    "print('Test error by Normalizer on USPS dataset', np.mean(usps_Y_test != Norm_usps))"
   ]
  },
  {
   "cell_type": "markdown",
   "id": "south-flood",
   "metadata": {},
   "source": [
    "## Observations.\n",
    "\n",
    "* For wine dataset."
   ]
  },
  {
   "cell_type": "code",
   "execution_count": 23,
   "id": "incident-rates",
   "metadata": {},
   "outputs": [
    {
     "name": "stdout",
     "output_type": "stream",
     "text": [
      "Initial accuracy with MLP: 0.5116809116809116\n",
      "accuracy of wine: 0.7293447293447294\n",
      "Test error rate with MLP 0.5555555555555556\n",
      "Test error of wine: 0.37777777777777777\n",
      "Test Error by (MinMaxScaler) Classifier on Wine dataset 0.15555555555555556\n",
      "Test Error by MinMaxScaler on Wine dataset 1.0\n",
      "Test error by (Normalizer) classifier on wine dataset 0.06666666666666667\n",
      "Test error by Normalizer on wine dataset 1.0\n"
     ]
    }
   ],
   "source": [
    "print('Initial accuracy with MLP:', accuracy_mlp_wine)\n",
    "print('accuracy of wine:', wine_train)\n",
    "print('Test error rate with MLP', np.mean(Y_test != predict_mlp_wine))\n",
    "print('Test error of wine:', test_error_wine)\n",
    "print('Test Error by (MinMaxScaler) Classifier on Wine dataset', np.mean(Y_test != predict_MMS_wine))\n",
    "print('Test Error by MinMaxScaler on Wine dataset',np.mean(Y_test != MMS_wine))\n",
    "print('Test error by (Normalizer) classifier on wine dataset', np.mean(Y_test != predict_Norm_wine))\n",
    "print('Test error by Normalizer on wine dataset', np.mean(Y_test != Norm_wine))"
   ]
  },
  {
   "cell_type": "markdown",
   "id": "scheduled-static",
   "metadata": {},
   "source": [
    "* For USPS dataset."
   ]
  },
  {
   "cell_type": "code",
   "execution_count": 24,
   "id": "victorian-estonia",
   "metadata": {},
   "outputs": [
    {
     "name": "stdout",
     "output_type": "stream",
     "text": [
      "Initial accuracy with MLP: 0.9922558018749068\n",
      "accuracy of usps: 0.9905349603780668\n",
      "Test error rate with MLP 0.005161290322580645\n",
      "Test error of usps: 0.007311827956989259\n",
      "Test Error by (MinMaxScaler) Classifier on USPS dataset 0.005591397849462366\n",
      "Test Error by MinMaxScaler on USPS dataset 1.0\n",
      "Test error by (Normalizer) classifier on USPS dataset 0.004731182795698925\n",
      "Test error by Normalizer on USPS dataset 1.0\n"
     ]
    }
   ],
   "source": [
    "print('Initial accuracy with MLP:', accuracy_mlp_usps)\n",
    "print('accuracy of usps:', usps_train)\n",
    "print('Test error rate with MLP', np.mean(usps_Y_test != predict_mlp_usps))\n",
    "print('Test error of usps:', test_error_usps)\n",
    "print('Test Error by (MinMaxScaler) Classifier on USPS dataset', np.mean(usps_Y_test != predict_MMS_usps))\n",
    "print('Test Error by MinMaxScaler on USPS dataset',np.mean(usps_Y_test != MMS_usps))\n",
    "print('Test error by (Normalizer) classifier on USPS dataset', np.mean(usps_Y_test != predict_Norm_usps))\n",
    "print('Test error by Normalizer on USPS dataset', np.mean(usps_Y_test != Norm_usps))"
   ]
  }
 ],
 "metadata": {
  "kernelspec": {
   "display_name": "Python 3",
   "language": "python",
   "name": "python3"
  },
  "language_info": {
   "codemirror_mode": {
    "name": "ipython",
    "version": 3
   },
   "file_extension": ".py",
   "mimetype": "text/x-python",
   "name": "python",
   "nbconvert_exporter": "python",
   "pygments_lexer": "ipython3",
   "version": "3.7.10"
  }
 },
 "nbformat": 4,
 "nbformat_minor": 5
}
