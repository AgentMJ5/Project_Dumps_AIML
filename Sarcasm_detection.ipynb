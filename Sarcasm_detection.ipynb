{
 "cells": [
  {
   "cell_type": "code",
   "execution_count": 1,
   "id": "vanilla-rabbit",
   "metadata": {},
   "outputs": [
    {
     "name": "stderr",
     "output_type": "stream",
     "text": [
      "[nltk_data] Downloading package punkt to C:\\Users\\jathin\n",
      "[nltk_data]     varma\\AppData\\Roaming\\nltk_data...\n",
      "[nltk_data]   Package punkt is already up-to-date!\n",
      "[nltk_data] Downloading package wordnet to C:\\Users\\jathin\n",
      "[nltk_data]     varma\\AppData\\Roaming\\nltk_data...\n",
      "[nltk_data]   Package wordnet is already up-to-date!\n"
     ]
    }
   ],
   "source": [
    "import numpy as np\n",
    "import pandas as pd\n",
    "\n",
    "import warnings\n",
    "warnings.filterwarnings(\"ignore\")\n",
    "\n",
    "import seaborn as sns\n",
    "import matplotlib.pyplot as plt\n",
    "import nltk\n",
    "nltk.download('punkt')\n",
    "nltk.download('wordnet')\n",
    "from nltk.corpus import stopwords\n",
    "from nltk.stem import WordNetLemmatizer\n",
    "from nltk.tokenize import word_tokenize\n",
    "from wordcloud import WordCloud,STOPWORDS\n",
    "import re,string,unicodedata\n",
    "\n",
    "import tensorflow as tf\n",
    "from tensorflow import keras\n",
    "from tensorflow.keras.preprocessing.text import Tokenizer\n",
    "from tensorflow.keras.preprocessing.sequence import pad_sequences\n",
    "from tensorflow.keras.callbacks import ModelCheckpoint\n",
    "\n",
    "from sklearn.feature_extraction.text import CountVectorizer, TfidfVectorizer\n",
    "from sklearn.model_selection import train_test_split\n",
    "from sklearn.metrics import classification_report, accuracy_score, confusion_matrix, plot_confusion_matrix, plot_roc_curve, plot_precision_recall_curve, precision_recall_fscore_support\n",
    "from tensorflow.keras.layers import Dense,Input, Embedding,LSTM,Dropout,Conv1D, MaxPooling1D, GlobalMaxPooling1D,Dropout,Bidirectional,Flatten,BatchNormalization\n",
    "from tensorflow.keras.callbacks import EarlyStopping,  ReduceLROnPlateau\n",
    "from tensorflow.keras.models import Model, Sequential\n",
    "from tensorflow.keras.models import Model\n",
    "from tensorflow.keras.optimizers import Adam\n",
    "from tensorflow.keras.utils import plot_model\n",
    "from tensorflow.keras.initializers import Constant\n",
    "\n",
    "import random\n",
    "random_state = 7"
   ]
  },
  {
   "cell_type": "code",
   "execution_count": 2,
   "id": "committed-trout",
   "metadata": {},
   "outputs": [
    {
     "data": {
      "text/html": [
       "<div>\n",
       "<style scoped>\n",
       "    .dataframe tbody tr th:only-of-type {\n",
       "        vertical-align: middle;\n",
       "    }\n",
       "\n",
       "    .dataframe tbody tr th {\n",
       "        vertical-align: top;\n",
       "    }\n",
       "\n",
       "    .dataframe thead th {\n",
       "        text-align: right;\n",
       "    }\n",
       "</style>\n",
       "<table border=\"1\" class=\"dataframe\">\n",
       "  <thead>\n",
       "    <tr style=\"text-align: right;\">\n",
       "      <th></th>\n",
       "      <th>article_link</th>\n",
       "      <th>headline</th>\n",
       "      <th>is_sarcastic</th>\n",
       "    </tr>\n",
       "  </thead>\n",
       "  <tbody>\n",
       "    <tr>\n",
       "      <th>0</th>\n",
       "      <td>https://www.huffingtonpost.com/entry/versace-b...</td>\n",
       "      <td>former versace store clerk sues over secret 'b...</td>\n",
       "      <td>0</td>\n",
       "    </tr>\n",
       "    <tr>\n",
       "      <th>1</th>\n",
       "      <td>https://www.huffingtonpost.com/entry/roseanne-...</td>\n",
       "      <td>the 'roseanne' revival catches up to our thorn...</td>\n",
       "      <td>0</td>\n",
       "    </tr>\n",
       "    <tr>\n",
       "      <th>2</th>\n",
       "      <td>https://local.theonion.com/mom-starting-to-fea...</td>\n",
       "      <td>mom starting to fear son's web series closest ...</td>\n",
       "      <td>1</td>\n",
       "    </tr>\n",
       "    <tr>\n",
       "      <th>3</th>\n",
       "      <td>https://politics.theonion.com/boehner-just-wan...</td>\n",
       "      <td>boehner just wants wife to listen, not come up...</td>\n",
       "      <td>1</td>\n",
       "    </tr>\n",
       "    <tr>\n",
       "      <th>4</th>\n",
       "      <td>https://www.huffingtonpost.com/entry/jk-rowlin...</td>\n",
       "      <td>j.k. rowling wishes snape happy birthday in th...</td>\n",
       "      <td>0</td>\n",
       "    </tr>\n",
       "    <tr>\n",
       "      <th>5</th>\n",
       "      <td>https://www.huffingtonpost.com/entry/advancing...</td>\n",
       "      <td>advancing the world's women</td>\n",
       "      <td>0</td>\n",
       "    </tr>\n",
       "    <tr>\n",
       "      <th>6</th>\n",
       "      <td>https://www.huffingtonpost.com/entry/how-meat-...</td>\n",
       "      <td>the fascinating case for eating lab-grown meat</td>\n",
       "      <td>0</td>\n",
       "    </tr>\n",
       "    <tr>\n",
       "      <th>7</th>\n",
       "      <td>https://www.huffingtonpost.com/entry/boxed-col...</td>\n",
       "      <td>this ceo will send your kids to school, if you...</td>\n",
       "      <td>0</td>\n",
       "    </tr>\n",
       "    <tr>\n",
       "      <th>8</th>\n",
       "      <td>https://politics.theonion.com/top-snake-handle...</td>\n",
       "      <td>top snake handler leaves sinking huckabee camp...</td>\n",
       "      <td>1</td>\n",
       "    </tr>\n",
       "    <tr>\n",
       "      <th>9</th>\n",
       "      <td>https://www.huffingtonpost.com/entry/fridays-m...</td>\n",
       "      <td>friday's morning email: inside trump's presser...</td>\n",
       "      <td>0</td>\n",
       "    </tr>\n",
       "  </tbody>\n",
       "</table>\n",
       "</div>"
      ],
      "text/plain": [
       "                                        article_link  \\\n",
       "0  https://www.huffingtonpost.com/entry/versace-b...   \n",
       "1  https://www.huffingtonpost.com/entry/roseanne-...   \n",
       "2  https://local.theonion.com/mom-starting-to-fea...   \n",
       "3  https://politics.theonion.com/boehner-just-wan...   \n",
       "4  https://www.huffingtonpost.com/entry/jk-rowlin...   \n",
       "5  https://www.huffingtonpost.com/entry/advancing...   \n",
       "6  https://www.huffingtonpost.com/entry/how-meat-...   \n",
       "7  https://www.huffingtonpost.com/entry/boxed-col...   \n",
       "8  https://politics.theonion.com/top-snake-handle...   \n",
       "9  https://www.huffingtonpost.com/entry/fridays-m...   \n",
       "\n",
       "                                            headline  is_sarcastic  \n",
       "0  former versace store clerk sues over secret 'b...             0  \n",
       "1  the 'roseanne' revival catches up to our thorn...             0  \n",
       "2  mom starting to fear son's web series closest ...             1  \n",
       "3  boehner just wants wife to listen, not come up...             1  \n",
       "4  j.k. rowling wishes snape happy birthday in th...             0  \n",
       "5                        advancing the world's women             0  \n",
       "6     the fascinating case for eating lab-grown meat             0  \n",
       "7  this ceo will send your kids to school, if you...             0  \n",
       "8  top snake handler leaves sinking huckabee camp...             1  \n",
       "9  friday's morning email: inside trump's presser...             0  "
      ]
     },
     "execution_count": 2,
     "metadata": {},
     "output_type": "execute_result"
    }
   ],
   "source": [
    "data = pd.read_json(\"Sarcasm_Headlines_Dataset.json\", lines = True)\n",
    "data.head(10)"
   ]
  },
  {
   "cell_type": "code",
   "execution_count": 3,
   "id": "psychological-stone",
   "metadata": {},
   "outputs": [
    {
     "data": {
      "text/plain": [
       "(26709, 3)"
      ]
     },
     "execution_count": 3,
     "metadata": {},
     "output_type": "execute_result"
    }
   ],
   "source": [
    "data.shape"
   ]
  },
  {
   "cell_type": "code",
   "execution_count": 4,
   "id": "positive-wallpaper",
   "metadata": {},
   "outputs": [
    {
     "data": {
      "text/plain": [
       "article_link    0\n",
       "headline        0\n",
       "is_sarcastic    0\n",
       "dtype: int64"
      ]
     },
     "execution_count": 4,
     "metadata": {},
     "output_type": "execute_result"
    }
   ],
   "source": [
    "#Checking for Null\n",
    "data.isnull().sum()"
   ]
  },
  {
   "cell_type": "code",
   "execution_count": 5,
   "id": "widespread-smell",
   "metadata": {},
   "outputs": [
    {
     "name": "stdout",
     "output_type": "stream",
     "text": [
      "sarcastic count -11724\n",
      "non sarcastic count - 14985\n"
     ]
    }
   ],
   "source": [
    "print(f'sarcastic count -{data[data.is_sarcastic == 1].shape[0]}')\n",
    "print(f'non sarcastic count - {data[data.is_sarcastic == 0].shape[0]}')"
   ]
  },
  {
   "cell_type": "markdown",
   "id": "loaded-merchant",
   "metadata": {},
   "source": [
    "Data is not highly imbalanced."
   ]
  },
  {
   "cell_type": "code",
   "execution_count": 6,
   "id": "egyptian-hartford",
   "metadata": {},
   "outputs": [],
   "source": [
    "huffington = data[data['article_link'].str.contains('huffingtonpost.com')].shape[0]\n",
    "onion = data[data['article_link'].str.contains('theonion.com')].shape[0]"
   ]
  },
  {
   "cell_type": "code",
   "execution_count": 7,
   "id": "changed-short",
   "metadata": {},
   "outputs": [
    {
     "name": "stdout",
     "output_type": "stream",
     "text": [
      "14985\n",
      "11725\n"
     ]
    }
   ],
   "source": [
    "print(huffington)\n",
    "print(onion)"
   ]
  },
  {
   "cell_type": "code",
   "execution_count": 8,
   "id": "sonic-polish",
   "metadata": {},
   "outputs": [
    {
     "name": "stdout",
     "output_type": "stream",
     "text": [
      "0\n"
     ]
    }
   ],
   "source": [
    "sarcastic_huffington = data.loc[(data['article_link'].str.contains('huffingtonpost.com')) & (data['is_sarcastic'] == 1)].shape[0]\n",
    "print(sarcastic_huffington)"
   ]
  },
  {
   "cell_type": "markdown",
   "id": "tutorial-corrections",
   "metadata": {},
   "source": [
    "This says that huffingtonpost.com has no sarcastic posts"
   ]
  },
  {
   "cell_type": "code",
   "execution_count": 9,
   "id": "trained-complaint",
   "metadata": {},
   "outputs": [
    {
     "name": "stdout",
     "output_type": "stream",
     "text": [
      "11724\n"
     ]
    }
   ],
   "source": [
    "sarcastic_onion = data.loc[(data['article_link'].str.contains('theonion.com')) & (data['is_sarcastic'] == 1)].shape[0]\n",
    "print(sarcastic_onion)"
   ]
  },
  {
   "cell_type": "markdown",
   "id": "nutritional-filling",
   "metadata": {},
   "source": [
    "Except for one post from theonion.com other all are sarcastic posts"
   ]
  },
  {
   "cell_type": "code",
   "execution_count": 10,
   "id": "temporal-glance",
   "metadata": {},
   "outputs": [
    {
     "name": "stdout",
     "output_type": "stream",
     "text": [
      "Headline - ['as global policy moves to expand digital rights, u.s faces crucial fight over equal access to the internet', \"'breitbart' refusing to release names of mass shooting victims in order to prevent them from getting attention\", 'bound, gagged joaquin castro horrified by what his identical twin brother might be doing out on dnc floor', \"can california assemblyman/surfer travis allen ride a wave of voter discontent into the governor's office?\", \"hillary clinton: 'when i was a child, most special interest groups wouldn't even consider donating large sums of money to a woman'\"]/n\n"
     ]
    }
   ],
   "source": [
    "# Headlines and labels from the data.\n",
    "long_posts = list(data.loc[data['headline'].str.len() > 100, 'headline'].index)\n",
    "random_long_posts = random.sample(long_posts, 5)\n",
    "headlines = list(data.loc[random_long_posts, 'headline'])\n",
    "print(f'Headline - {headlines}/n')"
   ]
  },
  {
   "cell_type": "code",
   "execution_count": 11,
   "id": "premier-specific",
   "metadata": {},
   "outputs": [],
   "source": [
    "data.drop('article_link', axis = 1, inplace = True)"
   ]
  },
  {
   "cell_type": "code",
   "execution_count": 12,
   "id": "eight-creek",
   "metadata": {},
   "outputs": [],
   "source": [
    "# Pre-processing \n",
    "stop = stopwords.words('english')\n",
    "lemmatizer = nltk.WordNetLemmatizer()"
   ]
  },
  {
   "cell_type": "code",
   "execution_count": 13,
   "id": "played-projection",
   "metadata": {},
   "outputs": [],
   "source": [
    "#Removing spaces\n",
    "data['neat_headline'] = data['headline'].apply(lambda x: re.sub(' +',' ', x))"
   ]
  },
  {
   "cell_type": "code",
   "execution_count": 14,
   "id": "great-cache",
   "metadata": {},
   "outputs": [],
   "source": [
    "#Making headlines lower case\n",
    "data['neat_headline'] = data['neat_headline'].apply(lambda x: x.lower())"
   ]
  },
  {
   "cell_type": "code",
   "execution_count": 15,
   "id": "proud-reason",
   "metadata": {},
   "outputs": [],
   "source": [
    "#Removing punctuations\n",
    "data['neat_headline'] = data['neat_headline'].apply(lambda x: re.sub('\\[[^]]*\\]', '', x))"
   ]
  },
  {
   "cell_type": "code",
   "execution_count": 16,
   "id": "included-truck",
   "metadata": {},
   "outputs": [],
   "source": [
    "#Removing special characters\n",
    "data['neat_headline'] = data['neat_headline'].apply(lambda x: re.sub(\"[^a-zA-Z]\", \" \", x))"
   ]
  },
  {
   "cell_type": "code",
   "execution_count": 17,
   "id": "stuck-federation",
   "metadata": {},
   "outputs": [],
   "source": [
    "#Removing stopwords and lemmatization\n",
    "def remove_stopwords_and_lemmatization(n):\n",
    "    final_text = []\n",
    "    n = n.lower()\n",
    "    n = nltk.word_tokenize(n)\n",
    "    \n",
    "    for word in n:\n",
    "        if word not in set(stopwords.words('english')):\n",
    "            lemma = nltk.WordNetLemmatizer()\n",
    "            word = lemma.lemmatize(word) \n",
    "            final_text.append(word)\n",
    "    return \" \".join(final_text)"
   ]
  },
  {
   "cell_type": "code",
   "execution_count": 18,
   "id": "homeless-object",
   "metadata": {},
   "outputs": [],
   "source": [
    "data['neat_headline'] = data['neat_headline'].apply(remove_stopwords_and_lemmatization)"
   ]
  },
  {
   "cell_type": "code",
   "execution_count": 19,
   "id": "empirical-envelope",
   "metadata": {},
   "outputs": [
    {
     "name": "stdout",
     "output_type": "stream",
     "text": [
      "Max_len: 227\n"
     ]
    }
   ],
   "source": [
    "#To get the length of each line \n",
    "data['length'] = data['neat_headline'].str.len()\n",
    "\n",
    "print('Max_len: {}'.format(data['length'].max()))"
   ]
  },
  {
   "cell_type": "code",
   "execution_count": 20,
   "id": "alternate-helena",
   "metadata": {},
   "outputs": [
    {
     "name": "stdout",
     "output_type": "stream",
     "text": [
      "Line with maximum length: maya angelou poet author civil right activist holy cow tony award nominated actress college professor magazine editor streetcar conductor really streetcar conductor wow calypso singer nightclub performer foreign journalist dead\n"
     ]
    }
   ],
   "source": [
    "print('Line with maximum length: {}'.format(data[data['length'] == data['length'].max()]['neat_headline'].values[0]))"
   ]
  },
  {
   "cell_type": "code",
   "execution_count": 21,
   "id": "controversial-portrait",
   "metadata": {},
   "outputs": [
    {
     "name": "stdout",
     "output_type": "stream",
     "text": [
      "Max_word_length: 30\n",
      "Line with maximum number of words: maya angelou poet author civil right activist holy cow tony award nominated actress college professor magazine editor streetcar conductor really streetcar conductor wow calypso singer nightclub performer foreign journalist dead\n"
     ]
    }
   ],
   "source": [
    "#Number of words\n",
    "data['words'] = data['neat_headline'].apply(lambda x: len(x.split(' ')))\n",
    "print('Max_word_length: {}'.format(data['words'].max()))\n",
    "print('Line with maximum number of words: {}'.format(data[data['words'] == data['words'].max()]['neat_headline'].values[0]))"
   ]
  },
  {
   "cell_type": "code",
   "execution_count": 22,
   "id": "hindu-diploma",
   "metadata": {},
   "outputs": [
    {
     "name": "stdout",
     "output_type": "stream",
     "text": [
      "Vocabulary_Size: 21731\n"
     ]
    }
   ],
   "source": [
    "#Train, tune and Test\n",
    "#Parametres\n",
    "max_features = 10000\n",
    "maxlen = data['words'].max()\n",
    "embedding_size = 200\n",
    "\n",
    "#Applying Tokenizer\n",
    "tokenizer = Tokenizer(num_words = max_features)\n",
    "tokenizer.fit_on_texts(list(data['neat_headline']))\n",
    "\n",
    "#Vocabulary size\n",
    "wi = tokenizer.word_index\n",
    "vocab_size = len(wi) + 1\n",
    "print(f'Vocabulary_Size: {vocab_size}')"
   ]
  },
  {
   "cell_type": "code",
   "execution_count": 23,
   "id": "greenhouse-midwest",
   "metadata": {},
   "outputs": [],
   "source": [
    "X = tokenizer.texts_to_sequences(data['neat_headline'])\n",
    "X = pad_sequences(X, maxlen = maxlen)\n",
    "y = np.asarray(data['is_sarcastic'])"
   ]
  },
  {
   "cell_type": "code",
   "execution_count": 24,
   "id": "extensive-cartoon",
   "metadata": {},
   "outputs": [],
   "source": [
    "#glove word embeddings\n",
    "glove_file = 'glove.6B.zip'\n",
    "# glove embeddings zipfile\n",
    "from zipfile import ZipFile\n",
    "with ZipFile(glove_file, 'r') as z:\n",
    "  z.extractall()"
   ]
  },
  {
   "cell_type": "code",
   "execution_count": 25,
   "id": "optical-federal",
   "metadata": {},
   "outputs": [],
   "source": [
    "#word embeddings using embeddings file\n",
    "Embedding_file = 'glove.6B.200d.txt'\n",
    "\n",
    "embeddings = {}\n",
    "for o in open(Embedding_file, encoding=\"utf8\"):\n",
    "    word = o.split(' ')[0]\n",
    "    embd = o.split(' ')[1:]\n",
    "    embd = np.asarray(embd, dtype = 'float32')\n",
    "    embeddings[word] = embd"
   ]
  },
  {
   "cell_type": "code",
   "execution_count": 26,
   "id": "descending-champagne",
   "metadata": {},
   "outputs": [
    {
     "data": {
      "text/plain": [
       "400000"
      ]
     },
     "execution_count": 26,
     "metadata": {},
     "output_type": "execute_result"
    }
   ],
   "source": [
    "# Getting the minimum number of words\n",
    "# creating a embeddings matrix\n",
    "num_words = min(max_features, vocab_size) + 1\n",
    "\n",
    "embedding_matrix = np.zeros((num_words, embedding_size))\n",
    "for word, i in tokenizer.word_index.items():\n",
    "    if i > max_features: continue\n",
    "    embedding_vector = embeddings.get(word)\n",
    "    if embedding_vector is not None:\n",
    "        embedding_matrix[i] = embedding_vector\n",
    "\n",
    "len(embeddings.values())"
   ]
  },
  {
   "cell_type": "code",
   "execution_count": 27,
   "id": "protected-timeline",
   "metadata": {},
   "outputs": [
    {
     "name": "stdout",
     "output_type": "stream",
     "text": [
      "\n",
      "Number of rows in training dataset: 18696\n",
      "\n",
      "Number of rows in test dataset: 8013\n"
     ]
    }
   ],
   "source": [
    "x_train, x_test, y_train, y_test = train_test_split(X, y, test_size = 0.3, random_state = random_state, shuffle = True)\n",
    "\n",
    "print(f'\\nNumber of rows in training dataset: {x_train.shape[0]}')\n",
    "print(f'\\nNumber of rows in test dataset: {x_test.shape[0]}')"
   ]
  },
  {
   "cell_type": "code",
   "execution_count": 28,
   "id": "suited-particle",
   "metadata": {},
   "outputs": [
    {
     "name": "stdout",
     "output_type": "stream",
     "text": [
      "Model: \"sequential\"\n",
      "_________________________________________________________________\n",
      "Layer (type)                 Output Shape              Param #   \n",
      "=================================================================\n",
      "embedding (Embedding)        (None, 30, 200)           2000200   \n",
      "_________________________________________________________________\n",
      "bidirectional (Bidirectional (None, 30, 256)           336896    \n",
      "_________________________________________________________________\n",
      "global_max_pooling1d (Global (None, 256)               0         \n",
      "_________________________________________________________________\n",
      "dropout (Dropout)            (None, 256)               0         \n",
      "_________________________________________________________________\n",
      "dense (Dense)                (None, 128)               32896     \n",
      "_________________________________________________________________\n",
      "dropout_1 (Dropout)          (None, 128)               0         \n",
      "_________________________________________________________________\n",
      "dense_1 (Dense)              (None, 64)                8256      \n",
      "_________________________________________________________________\n",
      "dropout_2 (Dropout)          (None, 64)                0         \n",
      "_________________________________________________________________\n",
      "dense_2 (Dense)              (None, 1)                 65        \n",
      "=================================================================\n",
      "Total params: 2,378,313\n",
      "Trainable params: 378,113\n",
      "Non-trainable params: 2,000,200\n",
      "_________________________________________________________________\n",
      "None\n"
     ]
    }
   ],
   "source": [
    "opti = Adam(lr = 0.01)\n",
    "\n",
    "model = Sequential()\n",
    "model.add(Embedding(num_words, embedding_size, embeddings_initializer = Constant(embedding_matrix), \n",
    "                    input_length = maxlen, trainable = False))\n",
    "\n",
    "model.add(Bidirectional(LSTM(128, return_sequences = True)))\n",
    "model.add(GlobalMaxPooling1D())\n",
    "\n",
    "model.add(Dropout(0.5, input_shape = (256,)))\n",
    "model.add(Dense(128, activation = 'relu'))\n",
    "model.add(Dropout(0.5, input_shape = (128,)))\n",
    "model.add(Dense(64, activation = 'relu'))\n",
    "model.add(Dropout(0.5, input_shape = (64,)))\n",
    "model.add(Dense(1, activation = 'sigmoid'))\n",
    "\n",
    "model.compile(loss = 'binary_crossentropy', optimizer = opti, metrics = ['accuracy'])\n",
    "\n",
    "#callbacks\n",
    "early_stop = EarlyStopping(monitor = 'val_loss', mode = 'min', verbose = 1, patience = 5)  \n",
    "model_cp = ModelCheckpoint('sarcasm_detector.h5', monitor = 'val_loss', mode = 'min', save_best_only = True, verbose = 1)\n",
    "reduce_lr = ReduceLROnPlateau(monitor = 'val_loss', factor = 0.2, patience = 2, min_lr=0.0005, verbose=1),\n",
    "\n",
    "callbacks = [early_stop, model_cp, reduce_lr]\n",
    "\n",
    "print(model.summary())"
   ]
  },
  {
   "cell_type": "code",
   "execution_count": 29,
   "id": "stuffed-identity",
   "metadata": {},
   "outputs": [
    {
     "name": "stdout",
     "output_type": "stream",
     "text": [
      "Epoch 1/15\n",
      "149/150 [============================>.] - ETA: 0s - loss: 0.6080 - accuracy: 0.6687\n",
      "Epoch 00001: val_loss improved from inf to 0.50239, saving model to sarcasm_detector.h5\n",
      "150/150 [==============================] - 16s 106ms/step - loss: 0.6076 - accuracy: 0.6693 - val_loss: 0.5024 - val_accuracy: 0.7588\n",
      "Epoch 2/15\n",
      "149/150 [============================>.] - ETA: 0s - loss: 0.4976 - accuracy: 0.7726\n",
      "Epoch 00002: val_loss improved from 0.50239 to 0.50208, saving model to sarcasm_detector.h5\n",
      "150/150 [==============================] - 15s 97ms/step - loss: 0.4974 - accuracy: 0.7726 - val_loss: 0.5021 - val_accuracy: 0.7578\n",
      "Epoch 3/15\n",
      "149/150 [============================>.] - ETA: 0s - loss: 0.4295 - accuracy: 0.8083\n",
      "Epoch 00003: val_loss improved from 0.50208 to 0.46284, saving model to sarcasm_detector.h5\n",
      "150/150 [==============================] - 15s 101ms/step - loss: 0.4300 - accuracy: 0.8079 - val_loss: 0.4628 - val_accuracy: 0.7888\n",
      "Epoch 4/15\n",
      "150/150 [==============================] - ETA: 0s - loss: 0.3799 - accuracy: 0.8401\n",
      "Epoch 00004: val_loss improved from 0.46284 to 0.44978, saving model to sarcasm_detector.h5\n",
      "150/150 [==============================] - 14s 96ms/step - loss: 0.3799 - accuracy: 0.8401 - val_loss: 0.4498 - val_accuracy: 0.7909\n",
      "Epoch 5/15\n",
      "149/150 [============================>.] - ETA: 0s - loss: 0.3274 - accuracy: 0.8624\n",
      "Epoch 00005: val_loss did not improve from 0.44978\n",
      "150/150 [==============================] - 12s 79ms/step - loss: 0.3274 - accuracy: 0.8623 - val_loss: 0.4728 - val_accuracy: 0.7904\n",
      "Epoch 6/15\n",
      "149/150 [============================>.] - ETA: 0s - loss: 0.2934 - accuracy: 0.8821\n",
      "Epoch 00006: val_loss did not improve from 0.44978\n",
      "\n",
      "Epoch 00006: ReduceLROnPlateau reducing learning rate to 0.0019999999552965165.\n",
      "150/150 [==============================] - 12s 80ms/step - loss: 0.2931 - accuracy: 0.8822 - val_loss: 0.4872 - val_accuracy: 0.7877\n",
      "Epoch 7/15\n",
      "150/150 [==============================] - ETA: 0s - loss: 0.1950 - accuracy: 0.9243\n",
      "Epoch 00007: val_loss did not improve from 0.44978\n",
      "150/150 [==============================] - 13s 83ms/step - loss: 0.1950 - accuracy: 0.9243 - val_loss: 0.5653 - val_accuracy: 0.8008\n",
      "Epoch 8/15\n",
      "150/150 [==============================] - ETA: 0s - loss: 0.1300 - accuracy: 0.9484\n",
      "Epoch 00008: val_loss did not improve from 0.44978\n",
      "\n",
      "Epoch 00008: ReduceLROnPlateau reducing learning rate to 0.0005.\n",
      "150/150 [==============================] - 12s 83ms/step - loss: 0.1300 - accuracy: 0.9484 - val_loss: 0.7161 - val_accuracy: 0.7973\n",
      "Epoch 9/15\n",
      "149/150 [============================>.] - ETA: 0s - loss: 0.0886 - accuracy: 0.9654\n",
      "Epoch 00009: val_loss did not improve from 0.44978\n",
      "150/150 [==============================] - 12s 80ms/step - loss: 0.0884 - accuracy: 0.9656 - val_loss: 0.8463 - val_accuracy: 0.7997\n",
      "Epoch 00009: early stopping\n"
     ]
    }
   ],
   "source": [
    "#Fitting\n",
    "batch_size = 100\n",
    "epochs = 15\n",
    "\n",
    "history = model.fit(x_train, y_train, epochs = epochs, \n",
    "              validation_split = 0.2, batch_size = batch_size, verbose = 1, callbacks = callbacks)"
   ]
  },
  {
   "cell_type": "code",
   "execution_count": 30,
   "id": "downtown-priority",
   "metadata": {},
   "outputs": [],
   "source": [
    "def plot_history(history):\n",
    "    plt.plot(history.history['accuracy'])\n",
    "    plt.plot(history.history['val_accuracy'])\n",
    "    plt.title('model accuracy')\n",
    "    plt.ylabel('accuracy')\n",
    "    plt.xlabel('epoch')\n",
    "    plt.legend(['train', 'test'], loc='upper left')\n",
    "    plt.show()\n",
    "\n",
    "    plt.plot(history.history['loss'])\n",
    "    plt.plot(history.history['val_loss'])\n",
    "    plt.title('model loss')\n",
    "    plt.ylabel('loss')\n",
    "    plt.xlabel('epoch')\n",
    "    plt.legend(['train', 'test'], loc='upper left')\n",
    "    plt.show()"
   ]
  },
  {
   "cell_type": "code",
   "execution_count": 31,
   "id": "photographic-continuity",
   "metadata": {},
   "outputs": [
    {
     "data": {
      "image/png": "[encoded data removed]",
      "text/plain": [
       "<Figure size 432x288 with 1 Axes>"
      ]
     },
     "metadata": {
      "needs_background": "light"
     },
     "output_type": "display_data"
    },
    {
     "data": {
      "image/png": "[encoded data removed]",
      "text/plain": [
       "<Figure size 432x288 with 1 Axes>"
      ]
     },
     "metadata": {
      "needs_background": "light"
     },
     "output_type": "display_data"
    }
   ],
   "source": [
    "plot_history(history)"
   ]
  },
  {
   "cell_type": "code",
   "execution_count": 32,
   "id": "fresh-cyprus",
   "metadata": {},
   "outputs": [
    {
     "name": "stdout",
     "output_type": "stream",
     "text": [
      "Accuracy: 80.0\n"
     ]
    }
   ],
   "source": [
    "loss, accuracy = model.evaluate(x_test, y_test, verbose = 0)\n",
    "print('Accuracy: {}'.format(round(accuracy * 100, 0)))"
   ]
  },
  {
   "cell_type": "code",
   "execution_count": 33,
   "id": "better-glory",
   "metadata": {},
   "outputs": [
    {
     "data": {
      "text/html": [
       "<div>\n",
       "<style scoped>\n",
       "    .dataframe tbody tr th:only-of-type {\n",
       "        vertical-align: middle;\n",
       "    }\n",
       "\n",
       "    .dataframe tbody tr th {\n",
       "        vertical-align: top;\n",
       "    }\n",
       "\n",
       "    .dataframe thead th {\n",
       "        text-align: right;\n",
       "    }\n",
       "</style>\n",
       "<table border=\"1\" class=\"dataframe\">\n",
       "  <thead>\n",
       "    <tr style=\"text-align: right;\">\n",
       "      <th></th>\n",
       "      <th>Non-sarcastic</th>\n",
       "      <th>Sarcastic</th>\n",
       "    </tr>\n",
       "  </thead>\n",
       "  <tbody>\n",
       "    <tr>\n",
       "      <th>Non-sarcastic</th>\n",
       "      <td>3837</td>\n",
       "      <td>740</td>\n",
       "    </tr>\n",
       "    <tr>\n",
       "      <th>Sarcastic</th>\n",
       "      <td>828</td>\n",
       "      <td>2608</td>\n",
       "    </tr>\n",
       "  </tbody>\n",
       "</table>\n",
       "</div>"
      ],
      "text/plain": [
       "               Non-sarcastic  Sarcastic\n",
       "Non-sarcastic           3837        740\n",
       "Sarcastic                828       2608"
      ]
     },
     "metadata": {},
     "output_type": "display_data"
    }
   ],
   "source": [
    "y_pred = (model.predict(x_test) > 0.5).astype('int32')\n",
    "cm = confusion_matrix(y_test, y_pred)\n",
    "cm = pd.DataFrame(cm , index = ['Non-sarcastic', 'Sarcastic'] , columns = ['Non-sarcastic','Sarcastic'])\n",
    "display(cm)"
   ]
  },
  {
   "cell_type": "code",
   "execution_count": 34,
   "id": "infinite-camcorder",
   "metadata": {},
   "outputs": [
    {
     "data": {
      "text/plain": [
       "{'Accuracy': 80.43, 'Precision': 80.38, 'Recall': 80.43, 'F1_score': 80.4}"
      ]
     },
     "execution_count": 34,
     "metadata": {},
     "output_type": "execute_result"
    }
   ],
   "source": [
    "#Accuracy, Precision, recall< f1 score\n",
    "def calculate_results(y_true, y_pred):\n",
    "\n",
    "    model_accuracy = accuracy_score(y_true, y_pred) * 100\n",
    "    model_precision, model_recall, model_f1, _ = precision_recall_fscore_support(y_true, y_pred, average=\"weighted\")\n",
    "    model_results = {\"Accuracy\": round(model_accuracy, 2),\n",
    "                  \"Precision\": round(model_precision*100, 2),\n",
    "                  \"Recall\": round(model_recall*100, 2),\n",
    "                  \"F1_score\": round(model_f1*100,2)}\n",
    "    return model_results\n",
    "\n",
    "calculate_results(y_test, y_pred)"
   ]
  }
 ],
 "metadata": {
  "kernelspec": {
   "display_name": "Python 3",
   "language": "python",
   "name": "python3"
  },
  "language_info": {
   "codemirror_mode": {
    "name": "ipython",
    "version": 3
   },
   "file_extension": ".py",
   "mimetype": "text/x-python",
   "name": "python",
   "nbconvert_exporter": "python",
   "pygments_lexer": "ipython3",
   "version": "3.7.10"
  }
 },
 "nbformat": 4,
 "nbformat_minor": 5
}
