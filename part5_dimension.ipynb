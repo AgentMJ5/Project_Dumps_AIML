{
 "cells": [
  {
   "cell_type": "markdown",
   "metadata": {},
   "source": [
    "## List of Possible Dimensionality Techniques that I came across my study\n",
    "\n",
    "### Let us start with the old ones.\n",
    "\n",
    "#### Missing Value Ratio\n",
    "* Data columns with too many missing values are unlikely to carry much useful information.We use this approach to reduce the number of variables. Data columns with a ratio of missing values greater than a given threshold can be removed. \n",
    "\n",
    "#### Random Forest\n",
    "* Commonly used and also useful for column selection. They are effective classifiers as we can find the importance of each feature.\n",
    "\n",
    "#### Low variance Filter\n",
    "* To identify and drop constant variables from the dataset.\n",
    "* Variance depends on the column range, normalization is required before applying this technique.\n",
    "\n",
    "#### High Correlation Filter\n",
    "* Data columns with similar trends are likely to carry similar information, and only one of them will suffice for classification.\n",
    "* A pair of variables having high correlation increases multicollinearity.\n",
    "* Same as above it depends on column range, so normalization is required.\n",
    "\n",
    "#### Principal Component Analysis\n",
    "* It divides the data into a set of components which try to explain as much variance as possible.\n",
    "* Widely used techniques for dealing with linear data. \n",
    "* Applying PCA to your dataset loses its interpretability, PCA is not the transformation to go for if that's the case.\n",
    "\n",
    "### The ones i came to know after set time studying\n",
    "\n",
    "#### t-distributed Stochastic Neighbor Embedding (t-SNE)\n",
    "* This technique works well when the data is strongly non-linear.\n",
    "* It works well for visualizations.\n",
    "\n",
    "#### Uniform Manifold Approximation and Projection(UMAP)\n",
    "* A Dimension Reduction technique that can be used for visualisation similarly to t-SNE.\n",
    "\n",
    "#### ISOMAP\n",
    "* We use this technique when the data is strongly non-linear.\n"
   ]
  },
  {
   "cell_type": "code",
   "execution_count": 1,
   "metadata": {},
   "outputs": [],
   "source": [
    "from sklearn.datasets import load_digits\n",
    "import matplotlib.pyplot as plt\n",
    "from sklearn.manifold import Isomap\n",
    "from sklearn.model_selection import train_test_split\n",
    "from sklearn.naive_bayes import GaussianNB\n",
    "from sklearn.metrics import accuracy_score\n",
    "import seaborn as sns\n",
    "%matplotlib inline "
   ]
  },
  {
   "cell_type": "code",
   "execution_count": 2,
   "metadata": {},
   "outputs": [
    {
     "data": {
      "text/plain": [
       "(1797, 8, 8)"
      ]
     },
     "execution_count": 2,
     "metadata": {},
     "output_type": "execute_result"
    }
   ],
   "source": [
    "# Text Data\n",
    "digits = load_digits()\n",
    "digits.images.shape"
   ]
  },
  {
   "cell_type": "code",
   "execution_count": 3,
   "metadata": {},
   "outputs": [
    {
     "data": {
      "image/png": "[encoded data removed]",
      "text/plain": [
       "<Figure size 576x576 with 25 Axes>"
      ]
     },
     "metadata": {},
     "output_type": "display_data"
    }
   ],
   "source": [
    "fig, axes = plt.subplots(5, 5, figsize=(8, 8),\n",
    "# Subplot_kw Dict with keywords passed to the add_subplot call used to create each subplot. \n",
    "subplot_kw={'xticks':[], 'yticks':[]},\n",
    "# The xticks() and yticks() function takes a list object as argument.\n",
    "gridspec_kw=dict(hspace=0.1, wspace=0.1))\n",
    "# gridSpec_kw Dict with keywords passed to the GridSpec constructor \n",
    "# used to create the grid the subplots are placed on\n",
    "\n",
    "for i,ax in enumerate(axes.flat):\n",
    "    ax.imshow(digits.images[i], cmap = 'binary')\n",
    "    ax.text(0.05, 0.05, str(digits.target[i]),\n",
    "    transform=ax.transAxes, color='blue')"
   ]
  },
  {
   "cell_type": "code",
   "execution_count": 4,
   "metadata": {},
   "outputs": [
    {
     "data": {
      "text/plain": [
       "(1797, 2)"
      ]
     },
     "execution_count": 4,
     "metadata": {},
     "output_type": "execute_result"
    }
   ],
   "source": [
    "# Transforming data to two dimensions using a method called ISOMAP\n",
    "iso = Isomap(n_components=2)\n",
    "iso.fit(digits.data)\n",
    "data_proj = iso.transform(digits.data)\n",
    "data_proj.shape"
   ]
  },
  {
   "cell_type": "code",
   "execution_count": 5,
   "metadata": {},
   "outputs": [
    {
     "data": {
      "text/plain": [
       "(1797, 64)"
      ]
     },
     "execution_count": 5,
     "metadata": {},
     "output_type": "execute_result"
    }
   ],
   "source": [
    "X = digits.data\n",
    "X.shape"
   ]
  },
  {
   "cell_type": "code",
   "execution_count": 6,
   "metadata": {},
   "outputs": [
    {
     "data": {
      "text/plain": [
       "(1797,)"
      ]
     },
     "execution_count": 6,
     "metadata": {},
     "output_type": "execute_result"
    }
   ],
   "source": [
    "y=digits.target\n",
    "y.shape"
   ]
  },
  {
   "cell_type": "code",
   "execution_count": 7,
   "metadata": {},
   "outputs": [],
   "source": [
    "# Splitting the training and testing data set\n",
    "X_train, X_test, y_train, y_test = train_test_split(X, y, test_size=0.30, random_state=15)"
   ]
  },
  {
   "cell_type": "code",
   "execution_count": 8,
   "metadata": {},
   "outputs": [],
   "source": [
    "# GaussianNB classifier is commonly used for text data...simple to use \n",
    "gnb = GaussianNB()\n",
    "gnb.fit(X_train, y_train)\n",
    "y_pred = gnb.predict(X_test)"
   ]
  },
  {
   "cell_type": "code",
   "execution_count": 9,
   "metadata": {},
   "outputs": [
    {
     "data": {
      "text/plain": [
       "0.8407407407407408"
      ]
     },
     "execution_count": 9,
     "metadata": {},
     "output_type": "execute_result"
    }
   ],
   "source": [
    "accuracy_score(y_test, y_pred)"
   ]
  },
  {
   "cell_type": "code",
   "execution_count": 10,
   "metadata": {},
   "outputs": [
    {
     "data": {
      "image/png": "[encoded data removed]",
      "text/plain": [
       "<Figure size 576x576 with 25 Axes>"
      ]
     },
     "metadata": {},
     "output_type": "display_data"
    }
   ],
   "source": [
    "# With Predicted labels\n",
    "fig, axes = plt.subplots(5, 5, figsize=(8, 8),\n",
    "  subplot_kw={'xticks':[], 'yticks':[]},\n",
    " gridspec_kw=dict(hspace=0.1, wspace=0.1))  \n",
    "for i, ax in enumerate(axes.flat):\n",
    "    ax.imshow(digits.images[i], cmap='binary')\n",
    "    ax.text(0.05, 0.05, str(y_pred[i]),\n",
    "    transform=ax.transAxes,\n",
    "    color='blue' if (y_test[i] == y_pred[i]) else 'red')"
   ]
  },
  {
   "cell_type": "markdown",
   "metadata": {},
   "source": [
    "    'Blue' color for correct Labels and 'Red' color for incorrect Labels."
   ]
  },
  {
   "cell_type": "markdown",
   "metadata": {},
   "source": [
    "* Commonly used text classification methods include decision trees, rule-based classifiers, SVM, and Bayesian classifiers.\n",
    "* Text classification has important applications such as email classification and spam filtering; news filtering,\n",
    "* Clustering Algorithms operate on features and differ in terms of the types of features extracted, transformations applied to the features for dimensionality reduction\n"
   ]
  }
 ],
 "metadata": {
  "kernelspec": {
   "display_name": "Python 3",
   "language": "python",
   "name": "python3"
  },
  "language_info": {
   "codemirror_mode": {
    "name": "ipython",
    "version": 3
   },
   "file_extension": ".py",
   "mimetype": "text/x-python",
   "name": "python",
   "nbconvert_exporter": "python",
   "pygments_lexer": "ipython3",
   "version": "3.7.10"
  }
 },
 "nbformat": 4,
 "nbformat_minor": 4
}
